{
 "cells": [
  {
   "cell_type": "markdown",
   "metadata": {},
   "source": [
    "# Numerical setup\n",
    "JAX-Fluids requires a numerical setup .json file to run a simulation. This file specifies the numerical methods that are used to solve the Navier-Stokes equations. In this notebook, we will examplary walk through the [numerical setup .json](https://github.com/tumaer/JAXFLUIDS/tree/main/notebooks/simulations/numerical_setup_files/numerical_setup_singlephase.json) file for single-phase simulations."
   ]
  },
  {
   "cell_type": "markdown",
   "metadata": {},
   "source": [
    "## Conservatives\n",
    "The conservatives key specifies the numerical methods that are used to solve for the flow field, i.e., the time integration schemes, spatial reconstruction stencils and Riemann solver for the solution of the convective fluxes, and spatial reconstruction/derivative stencils to compute the dissipative fluxes. "
   ]
  },
  {
   "cell_type": "code",
   "execution_count": 6,
   "metadata": {},
   "outputs": [],
   "source": [
    "conservatives = {\n",
    "    \"halo_cells\": 6,\n",
    "    \"time_integration\": {\n",
    "        \"integrator\": \"RK3\",\n",
    "        \"CFL\": 0.9\n",
    "    },\n",
    "    \"convective_fluxes\": {\n",
    "        \"convective_solver\": \"GODUNOV\",\n",
    "        \"riemann_solver\": \"HLLC\",\n",
    "        \"signal_speed\": \"EINFELDT\",\n",
    "        \"reconstruction_stencil\": \"TENO6-A-ADAP\",\n",
    "        \"reconstruction_variable\": \"CHAR-PRIMITIVE\"\n",
    "    },\n",
    "    \"dissipative_fluxes\": {\n",
    "        \"reconstruction_stencil\": \"CENTRAL6_ADAP\",\n",
    "        \"derivative_stencil_center\": \"CENTRAL6_ADAP\",\n",
    "        \"derivative_stencil_face\": \"CENTRAL6_ADAP\"\n",
    "    },\n",
    "    \"positivity\": {\n",
    "        \"flux_limiter\": None,\n",
    "        \"is_interpolation_limiter\": True,\n",
    "        \"is_thinc_interpolation_limiter\": False,\n",
    "        \"is_volume_fraction_limiter\": False,\n",
    "        \"is_acdi_flux_limiter\": False\n",
    "    }\n",
    "}"
   ]
  },
  {
   "cell_type": "markdown",
   "metadata": {},
   "source": [
    "## Active physics\n",
    "\n",
    "The active physics key specifies which components of the Navier-Stokes equations are active, e.g., convective, viscous, heat or gravity terms. "
   ]
  },
  {
   "cell_type": "code",
   "execution_count": 1,
   "metadata": {},
   "outputs": [],
   "source": [
    "active_physics = {\n",
    "    \"is_convective_flux\": True,\n",
    "    \"is_viscous_flux\": True,\n",
    "    \"is_heat_flux\": True,\n",
    "    \"is_volume_force\": True\n",
    "}"
   ]
  },
  {
   "cell_type": "markdown",
   "metadata": {},
   "source": [
    "## Active forcings\n",
    "The active forcings key specifies which external forcings are active."
   ]
  },
  {
   "cell_type": "code",
   "execution_count": 14,
   "metadata": {},
   "outputs": [],
   "source": [
    "active_forcings = {\n",
    "    \"is_mass_flow_forcing\": False,\n",
    "    \"is_temperature_forcing\": False,\n",
    "    \"is_turb_hit_forcing\": False\n",
    "},"
   ]
  },
  {
   "cell_type": "markdown",
   "metadata": {},
   "source": [
    "## Precision\n",
    "This key specifies the arithmetic precision of the simulation and the output."
   ]
  },
  {
   "cell_type": "code",
   "execution_count": 3,
   "metadata": {},
   "outputs": [],
   "source": [
    "precision = {\n",
    "    \"is_double_precision_compute\": True,\n",
    "    \"is_double_precision_output\": True\n",
    "}"
   ]
  },
  {
   "cell_type": "markdown",
   "metadata": {},
   "source": [
    "## Output\n",
    "The output key specifies the derivative stencil that is used to compute user specified output quantities, e.g., vorticity or numerical schlieren. The is_xdmf key activates .xdmf output, which is required to visualize the .h5 output data in paraview."
   ]
  },
  {
   "cell_type": "code",
   "execution_count": 5,
   "metadata": {},
   "outputs": [],
   "source": [
    "output = {\n",
    "    \"derivative_stencil\": \"CENTRAL2_ADAP\",\n",
    "    \"is_xdmf\": False,\n",
    "    \"logging\": {\n",
    "        \"frequency\": 10\n",
    "    }\n",
    "}"
   ]
  }
 ],
 "metadata": {
  "kernelspec": {
   "display_name": "base",
   "language": "python",
   "name": "python3"
  },
  "language_info": {
   "codemirror_mode": {
    "name": "ipython",
    "version": 3
   },
   "file_extension": ".py",
   "mimetype": "text/x-python",
   "name": "python",
   "nbconvert_exporter": "python",
   "pygments_lexer": "ipython3",
   "version": "3.9.12"
  }
 },
 "nbformat": 4,
 "nbformat_minor": 2
}
