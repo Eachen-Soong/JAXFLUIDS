{
 "cells": [
  {
   "cell_type": "markdown",
   "metadata": {},
   "source": [
    "# Case setup\n",
    "JAX-Fluids requires a case setup .json file to run a simulation. This file describes the physical setup of the simulation, e.g., the computational domain, the initial and boundary conditions and the material properties. In this notebook, we will examplary walk through the [case setup .json](https://github.com/tumaer/JAXFLUIDS/tree/main/notebooks/simulations/sod_shocktube/inputfiles/case_setup_singlephase.json) file of the single-phase sod shocktube case."
   ]
  },
  {
   "cell_type": "markdown",
   "metadata": {},
   "source": [
    "## General\n",
    "\n",
    "General information about the case, e.g., physical end time of the simulation and the temporal interval that specifies when to save .h5 output files."
   ]
  },
  {
   "cell_type": "code",
   "execution_count": 5,
   "metadata": {},
   "outputs": [],
   "source": [
    "general = {\n",
    "    \"case_name\": \"sod_shocktube_singlephase\",\n",
    "    \"end_time\": 0.15,\n",
    "    \"save_path\": \"./results\",\n",
    "    \"save_dt\": 0.01\n",
    "}"
   ]
  },
  {
   "cell_type": "markdown",
   "metadata": {},
   "source": [
    "## Domain\n",
    "Information about the computational domain, e.g., domain size, number of cells and number of computational devices. For example, assigning split_xi to 2 will divide the computational domain into two\n",
    "homogeneous parts. Each will be processed by a computational device."
   ]
  },
  {
   "cell_type": "code",
   "execution_count": 6,
   "metadata": {},
   "outputs": [],
   "source": [
    "domain =  {\n",
    "    \"x\": {\n",
    "        \"cells\": 200,\n",
    "        \"range\": [0.0, 1.0]\n",
    "    },\n",
    "    \"y\": {\n",
    "        \"cells\": 1,\n",
    "        \"range\": [0.0, 1.0]\n",
    "    },\n",
    "    \"z\": {\n",
    "        \"cells\": 1,\n",
    "        \"range\": [0.0, 1.0]\n",
    "    },\n",
    "    \"decomposition\": {\n",
    "        \"split_x\": 1,\n",
    "        \"split_y\": 1,\n",
    "        \"split_z\": 1\n",
    "    }\n",
    "}"
   ]
  },
  {
   "cell_type": "markdown",
   "metadata": {},
   "source": [
    "## Restart\n",
    "Information to restart the simulation from an existing .h5 output file."
   ]
  },
  {
   "cell_type": "code",
   "execution_count": 14,
   "metadata": {},
   "outputs": [],
   "source": [
    "restart = {\n",
    "    \"flag\": False,\n",
    "    \"file_path\": \"path/to/h5/output/file\"\n",
    "}"
   ]
  },
  {
   "cell_type": "markdown",
   "metadata": {},
   "source": [
    "## Boundary conditions\n",
    "This key specifies the boundary conditions."
   ]
  },
  {
   "cell_type": "code",
   "execution_count": 7,
   "metadata": {},
   "outputs": [],
   "source": [
    "boundary_conditions = {\n",
    "    \"east\": {\"type\": \"ZEROGRADIENT\"},\n",
    "    \"west\": {\"type\": \"ZEROGRADIENT\"},\n",
    "    \"north\": {\"type\": \"INACTIVE\"},\n",
    "    \"south\": {\"type\": \"INACTIVE\"},\n",
    "    \"top\": {\"type\": \"INACTIVE\"},\n",
    "    \"bottom\": {\"type\": \"INACTIVE\"}\n",
    "}"
   ]
  },
  {
   "cell_type": "markdown",
   "metadata": {},
   "source": [
    "## Initial conditions\n",
    "This key specifies the initial conditions. For single-phase simulations, the primitive variables must be specified. For two-phase simulations, we refer to the case setup files"
   ]
  },
  {
   "cell_type": "code",
   "execution_count": 15,
   "metadata": {},
   "outputs": [],
   "source": [
    "initial_condition = {\n",
    "    \"rho\": \"lambda x: jnp.where(x < 0.5, 1.0, 0.125)\",\n",
    "    \"u\": 0.0,\n",
    "    \"v\": 0.0,\n",
    "    \"w\": 0.0,\n",
    "    \"p\": \"lambda x: jnp.where(x < 0.5, 1.0, 0.1)\"\n",
    "}"
   ]
  },
  {
   "cell_type": "markdown",
   "metadata": {},
   "source": [
    "## Material properties\n",
    "This key specifies the material properties. In particular, the equation of state and the transport properties."
   ]
  },
  {
   "cell_type": "code",
   "execution_count": null,
   "metadata": {},
   "outputs": [],
   "source": [
    "material_properties = {\n",
    "    \"equation_of_state\": {\n",
    "        \"model\": \"IdealGas\",\n",
    "        \"specific_heat_ratio\": 1.4,\n",
    "        \"specific_gas_constant\": 1.0\n",
    "    },\n",
    "    \"transport\": {\n",
    "        \"dynamic_viscosity\": {\n",
    "            \"model\": \"CUSTOM\",\n",
    "            \"value\": 0.0\n",
    "        },\n",
    "        \"bulk_viscosity\": 0.0,\n",
    "        \"thermal_conductivity\": {\n",
    "            \"model\": \"CUSTOM\",\n",
    "            \"value\": 0.0\n",
    "        }\n",
    "    }\n",
    "}"
   ]
  },
  {
   "cell_type": "markdown",
   "metadata": {},
   "source": [
    "## Nondimensionalization\n",
    "This key specifies reference values for the non-dimensionalization procedure."
   ]
  },
  {
   "cell_type": "code",
   "execution_count": 10,
   "metadata": {},
   "outputs": [],
   "source": [
    "nondimensionalization_parameters = {\n",
    "    \"density_reference\": 1.0,\n",
    "    \"length_reference\": 1.0,\n",
    "    \"velocity_reference\": 1.0,\n",
    "    \"temperature_reference\": 1.0\n",
    "}"
   ]
  },
  {
   "cell_type": "markdown",
   "metadata": {},
   "source": [
    "## Output\n",
    "This key specifies which physical fields are saved in the .h5 output files."
   ]
  },
  {
   "cell_type": "code",
   "execution_count": 11,
   "metadata": {},
   "outputs": [],
   "source": [
    "output = {\n",
    "    \"primitives\": [\n",
    "        \"density\", \"velocity\", \"pressure\"]\n",
    "}"
   ]
  }
 ],
 "metadata": {
  "kernelspec": {
   "display_name": "base",
   "language": "python",
   "name": "python3"
  },
  "language_info": {
   "codemirror_mode": {
    "name": "ipython",
    "version": 3
   },
   "file_extension": ".py",
   "mimetype": "text/x-python",
   "name": "python",
   "nbconvert_exporter": "python",
   "pygments_lexer": "ipython3",
   "version": "3.9.12"
  }
 },
 "nbformat": 4,
 "nbformat_minor": 2
}
