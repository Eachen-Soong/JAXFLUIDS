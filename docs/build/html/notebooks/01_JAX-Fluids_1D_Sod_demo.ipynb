{
 "cells": [
  {
   "cell_type": "markdown",
   "id": "6c628043",
   "metadata": {},
   "source": [
    "# JAX-Fluids: Sod shock tube demo\n",
    "This demo will demonstrate how you can run a simple 1D simulation with JAX-Fluids. Here, we simulate the Sod shock tube."
   ]
  },
  {
   "cell_type": "code",
   "execution_count": 1,
   "id": "6c582ab9",
   "metadata": {
    "execution": {
     "iopub.execute_input": "2022-11-27T21:48:03.305062Z",
     "iopub.status.busy": "2022-11-27T21:48:03.304203Z",
     "iopub.status.idle": "2022-11-27T21:48:05.732612Z",
     "shell.execute_reply": "2022-11-27T21:48:05.733271Z"
    }
   },
   "outputs": [],
   "source": [
    "from jaxfluids import InputReader, Initializer, SimulationManager\n",
    "from jaxfluids.post_process import load_data, create_lineplot"
   ]
  },
  {
   "cell_type": "markdown",
   "id": "7bd5e387",
   "metadata": {},
   "source": [
    "## Simulation Setup\n",
    "To run a forward simulation with JAX-Fluids, you need an InputRead, an Initializer, and a SimulationManager."
   ]
  },
  {
   "cell_type": "markdown",
   "id": "a45cc71b",
   "metadata": {},
   "source": [
    "The InputReader reads a case setup file (here, \"01_case_setup_sod.json\") and a numerical setup file (here, \"01_numerical_setup_sod.json\"). We can pass the path to those files as strings to the InputReader. The case setup specifies the physical setup of your simulation and the numerical setup specifies with which numerical methods you want to run your simulation."
   ]
  },
  {
   "cell_type": "code",
   "execution_count": 2,
   "id": "9845f7d5",
   "metadata": {
    "execution": {
     "iopub.execute_input": "2022-11-27T21:48:05.739306Z",
     "iopub.status.busy": "2022-11-27T21:48:05.738517Z",
     "iopub.status.idle": "2022-11-27T21:48:06.493259Z",
     "shell.execute_reply": "2022-11-27T21:48:06.494012Z"
    }
   },
   "outputs": [
    {
     "name": "stderr",
     "output_type": "stream",
     "text": [
      "WARNING:absl:No GPU/TPU found, falling back to CPU. (Set TF_CPP_MIN_LOG_LEVEL=0 and rerun for more info.)\n"
     ]
    }
   ],
   "source": [
    "input_reader = InputReader(\"01_case_setup_sod.json\", \"01_numerical_setup_sod.json\")\n",
    "initializer  = Initializer(input_reader)\n",
    "sim_manager  = SimulationManager(input_reader)"
   ]
  },
  {
   "cell_type": "markdown",
   "id": "b2fb3f77",
   "metadata": {},
   "source": [
    "## Run Simulation\n",
    "The Initializer creates a dictionary which contains all initial flow fields. The SimulationManager runs the simulation and writes h5 output files."
   ]
  },
  {
   "cell_type": "code",
   "execution_count": 3,
   "id": "cf7c8231",
   "metadata": {
    "execution": {
     "iopub.execute_input": "2022-11-27T21:48:06.499036Z",
     "iopub.status.busy": "2022-11-27T21:48:06.498306Z",
     "iopub.status.idle": "2022-11-27T21:48:42.434495Z",
     "shell.execute_reply": "2022-11-27T21:48:42.432127Z"
    }
   },
   "outputs": [
    {
     "name": "stderr",
     "output_type": "stream",
     "text": [
      "*------------------------------------------------------------------------------*\n"
     ]
    },
    {
     "name": "stderr",
     "output_type": "stream",
     "text": [
      "*                                                                              *\n"
     ]
    },
    {
     "name": "stderr",
     "output_type": "stream",
     "text": [
      "*                                                                              *\n"
     ]
    },
    {
     "name": "stderr",
     "output_type": "stream",
     "text": [
      "*          _     _    __  __        _____  _      _   _  ___  ____   ____      *\n"
     ]
    },
    {
     "name": "stderr",
     "output_type": "stream",
     "text": [
      "*         | |   / \\   \\ \\/ /       |  ___|| |    | | | ||_ _||  _ \\ / ___|     *\n"
     ]
    },
    {
     "name": "stderr",
     "output_type": "stream",
     "text": [
      "*      _  | |  / _ \\   \\  /  _____ | |_   | |    | | | | | | | | | |\\___ \\     *\n"
     ]
    },
    {
     "name": "stderr",
     "output_type": "stream",
     "text": [
      "*     | |_| | / ___ \\  /  \\ |_____||  _|  | |___ | |_| | | | | |_| | ___) |    *\n"
     ]
    },
    {
     "name": "stderr",
     "output_type": "stream",
     "text": [
      "*      \\___/ /_/   \\_\\/_/\\_\\       |_|    |_____| \\___/ |___||____/ |____/     *\n"
     ]
    },
    {
     "name": "stderr",
     "output_type": "stream",
     "text": [
      "*                                                                              *\n"
     ]
    },
    {
     "name": "stderr",
     "output_type": "stream",
     "text": [
      "*                                By BB - ML@AER                                *\n"
     ]
    },
    {
     "name": "stderr",
     "output_type": "stream",
     "text": [
      "*                                                                              *\n"
     ]
    },
    {
     "name": "stderr",
     "output_type": "stream",
     "text": [
      "*------------------------------------------------------------------------------*\n"
     ]
    },
    {
     "name": "stderr",
     "output_type": "stream",
     "text": [
      "* JAX-FLUIDS -                                                                 *\n"
     ]
    },
    {
     "name": "stderr",
     "output_type": "stream",
     "text": [
      "*                                                                              *\n"
     ]
    },
    {
     "name": "stderr",
     "output_type": "stream",
     "text": [
      "* A fully-differentiable CFD solver for compressible two-phase flows.          *\n"
     ]
    },
    {
     "name": "stderr",
     "output_type": "stream",
     "text": [
      "* Copyright (C) 2022  Deniz A. Bezgin, Aaron B. Buhendwa, Nikolaus A. Adams    *\n"
     ]
    },
    {
     "name": "stderr",
     "output_type": "stream",
     "text": [
      "*                                                                              *\n"
     ]
    },
    {
     "name": "stderr",
     "output_type": "stream",
     "text": [
      "* This program is free software: you can redistribute it and/or modify         *\n"
     ]
    },
    {
     "name": "stderr",
     "output_type": "stream",
     "text": [
      "* it under the terms of the GNU General Public License as published by         *\n"
     ]
    },
    {
     "name": "stderr",
     "output_type": "stream",
     "text": [
      "* the Free Software Foundation, either version 3 of the License, or            *\n"
     ]
    },
    {
     "name": "stderr",
     "output_type": "stream",
     "text": [
      "* (at your option) any later version.                                          *\n"
     ]
    },
    {
     "name": "stderr",
     "output_type": "stream",
     "text": [
      "*                                                                              *\n"
     ]
    },
    {
     "name": "stderr",
     "output_type": "stream",
     "text": [
      "* This program is distributed in the hope that it will be useful,              *\n"
     ]
    },
    {
     "name": "stderr",
     "output_type": "stream",
     "text": [
      "* but WITHOUT ANY WARRANTY; without even the implied warranty of               *\n"
     ]
    },
    {
     "name": "stderr",
     "output_type": "stream",
     "text": [
      "* MERCHANTABILITY or FITNESS FOR A PARTICULAR PURPOSE.  See the                *\n"
     ]
    },
    {
     "name": "stderr",
     "output_type": "stream",
     "text": [
      "* GNU General Public License for more details.                                 *\n"
     ]
    },
    {
     "name": "stderr",
     "output_type": "stream",
     "text": [
      "*                                                                              *\n"
     ]
    },
    {
     "name": "stderr",
     "output_type": "stream",
     "text": [
      "* You should have received a copy of the GNU General Public License            *\n"
     ]
    },
    {
     "name": "stderr",
     "output_type": "stream",
     "text": [
      "* along with this program.  If not, see <https://www.gnu.org/licenses/>.       *\n"
     ]
    },
    {
     "name": "stderr",
     "output_type": "stream",
     "text": [
      "*                                                                              *\n"
     ]
    },
    {
     "name": "stderr",
     "output_type": "stream",
     "text": [
      "*------------------------------------------------------------------------------*\n"
     ]
    },
    {
     "name": "stderr",
     "output_type": "stream",
     "text": [
      "*                                                                              *\n"
     ]
    },
    {
     "name": "stderr",
     "output_type": "stream",
     "text": [
      "* CONTACT                                                                      *\n"
     ]
    },
    {
     "name": "stderr",
     "output_type": "stream",
     "text": [
      "*                                                                              *\n"
     ]
    },
    {
     "name": "stderr",
     "output_type": "stream",
     "text": [
      "* deniz.bezgin@tum.de // aaron.buhendwa@tum.de // nikolaus.adams@tum.de        *\n"
     ]
    },
    {
     "name": "stderr",
     "output_type": "stream",
     "text": [
      "*                                                                              *\n"
     ]
    },
    {
     "name": "stderr",
     "output_type": "stream",
     "text": [
      "*------------------------------------------------------------------------------*\n"
     ]
    },
    {
     "name": "stderr",
     "output_type": "stream",
     "text": [
      "*                                                                              *\n"
     ]
    },
    {
     "name": "stderr",
     "output_type": "stream",
     "text": [
      "* Munich, April 15th, 2022                                                     *\n"
     ]
    },
    {
     "name": "stderr",
     "output_type": "stream",
     "text": [
      "*                                                                              *\n"
     ]
    },
    {
     "name": "stderr",
     "output_type": "stream",
     "text": [
      "*------------------------------------------------------------------------------*\n"
     ]
    },
    {
     "name": "stderr",
     "output_type": "stream",
     "text": [
      "*                                                                              *\n"
     ]
    },
    {
     "name": "stderr",
     "output_type": "stream",
     "text": [
      "*                                                                              *\n"
     ]
    },
    {
     "name": "stderr",
     "output_type": "stream",
     "text": [
      "*                               NUMERICAL SETUP                                *\n"
     ]
    },
    {
     "name": "stderr",
     "output_type": "stream",
     "text": [
      "*                                                                              *\n"
     ]
    },
    {
     "name": "stderr",
     "output_type": "stream",
     "text": [
      "*    CONSERVATIVES                                                             *\n"
     ]
    },
    {
     "name": "stderr",
     "output_type": "stream",
     "text": [
      "*        HALO CELLS                   :    4                                   *\n"
     ]
    },
    {
     "name": "stderr",
     "output_type": "stream",
     "text": [
      "*        TIME INTEGRATION                                                      *\n"
     ]
    },
    {
     "name": "stderr",
     "output_type": "stream",
     "text": [
      "*          INTEGRATOR                 :    RK3                                 *\n"
     ]
    },
    {
     "name": "stderr",
     "output_type": "stream",
     "text": [
      "*          CFL                        :    0.9                                 *\n"
     ]
    },
    {
     "name": "stderr",
     "output_type": "stream",
     "text": [
      "*        CONVECTIVE FLUXES                                                     *\n"
     ]
    },
    {
     "name": "stderr",
     "output_type": "stream",
     "text": [
      "*          CONVECTIVE SOLVER          :    GODUNOV                             *\n"
     ]
    },
    {
     "name": "stderr",
     "output_type": "stream",
     "text": [
      "*          RIEMANN SOLVER             :    HLLC                                *\n"
     ]
    },
    {
     "name": "stderr",
     "output_type": "stream",
     "text": [
      "*          SIGNAL SPEED               :    EINFELDT                            *\n"
     ]
    },
    {
     "name": "stderr",
     "output_type": "stream",
     "text": [
      "*          SPATIAL RECONSTRUCTOR      :    WENO5-JS                            *\n"
     ]
    },
    {
     "name": "stderr",
     "output_type": "stream",
     "text": [
      "*          IS SAFE RECONSTRUCTION     :    False                               *\n"
     ]
    },
    {
     "name": "stderr",
     "output_type": "stream",
     "text": [
      "*          RECONSTRUCTION VAR         :    CHAR-CONSERVATIVE                   *\n"
     ]
    },
    {
     "name": "stderr",
     "output_type": "stream",
     "text": [
      "*        DISSIPATIVE FLUXES                                                    *\n"
     ]
    },
    {
     "name": "stderr",
     "output_type": "stream",
     "text": [
      "*          RECONSTRUCTION STENCIL     :    R4                                  *\n"
     ]
    },
    {
     "name": "stderr",
     "output_type": "stream",
     "text": [
      "*          DERIVATIVE STENCIL CENTER  :    DC4                                 *\n"
     ]
    },
    {
     "name": "stderr",
     "output_type": "stream",
     "text": [
      "*          DERIVATIVE STENCIL FACE    :    DF4                                 *\n"
     ]
    },
    {
     "name": "stderr",
     "output_type": "stream",
     "text": [
      "*                                                                              *\n"
     ]
    },
    {
     "name": "stderr",
     "output_type": "stream",
     "text": [
      "*    ACTIVE PHYSICS                                                            *\n"
     ]
    },
    {
     "name": "stderr",
     "output_type": "stream",
     "text": [
      "*        IS CONVECTIVE FLUX           :    True                                *\n"
     ]
    },
    {
     "name": "stderr",
     "output_type": "stream",
     "text": [
      "*        IS VISCOUS FLUX              :    False                               *\n"
     ]
    },
    {
     "name": "stderr",
     "output_type": "stream",
     "text": [
      "*        IS HEAT FLUX                 :    False                               *\n"
     ]
    },
    {
     "name": "stderr",
     "output_type": "stream",
     "text": [
      "*        IS VOLUME FORCE              :    False                               *\n"
     ]
    },
    {
     "name": "stderr",
     "output_type": "stream",
     "text": [
      "*                                                                              *\n"
     ]
    },
    {
     "name": "stderr",
     "output_type": "stream",
     "text": [
      "*    ACTIVE FORCINGS                                                           *\n"
     ]
    },
    {
     "name": "stderr",
     "output_type": "stream",
     "text": [
      "*        IS MASS FLOW FORCING         :    False                               *\n"
     ]
    },
    {
     "name": "stderr",
     "output_type": "stream",
     "text": [
      "*        IS TEMPERATURE FORCING       :    False                               *\n"
     ]
    },
    {
     "name": "stderr",
     "output_type": "stream",
     "text": [
      "*        IS TURB HIT FORCING          :    False                               *\n"
     ]
    },
    {
     "name": "stderr",
     "output_type": "stream",
     "text": [
      "*                                                                              *\n"
     ]
    },
    {
     "name": "stderr",
     "output_type": "stream",
     "text": [
      "*    OUTPUT                                                                    *\n"
     ]
    },
    {
     "name": "stderr",
     "output_type": "stream",
     "text": [
      "*        IS DOUBLE PRECISION COMPUTE  :    False                               *\n"
     ]
    },
    {
     "name": "stderr",
     "output_type": "stream",
     "text": [
      "*        IS DOUBLE PRECISION OUTPUT   :    False                               *\n"
     ]
    },
    {
     "name": "stderr",
     "output_type": "stream",
     "text": [
      "*        DERIVATIVE STENCIL           :    DC4                                 *\n"
     ]
    },
    {
     "name": "stderr",
     "output_type": "stream",
     "text": [
      "*        QUANTITIES                                                            *\n"
     ]
    },
    {
     "name": "stderr",
     "output_type": "stream",
     "text": [
      "*          PRIMES                     :    ['density', 'velocityX', 'pressure', 'temperature']*\n"
     ]
    },
    {
     "name": "stderr",
     "output_type": "stream",
     "text": [
      "*        LOGGING                      :    INFO                                *\n"
     ]
    },
    {
     "name": "stderr",
     "output_type": "stream",
     "text": [
      "*        IS XDMF                      :    False                               *\n"
     ]
    },
    {
     "name": "stderr",
     "output_type": "stream",
     "text": [
      "*                                                                              *\n"
     ]
    },
    {
     "name": "stderr",
     "output_type": "stream",
     "text": [
      "*                                                                              *\n"
     ]
    },
    {
     "name": "stderr",
     "output_type": "stream",
     "text": [
      "*------------------------------------------------------------------------------*\n"
     ]
    },
    {
     "name": "stderr",
     "output_type": "stream",
     "text": [
      "*                                                                              *\n"
     ]
    },
    {
     "name": "stderr",
     "output_type": "stream",
     "text": [
      "*                                  CASE SETUP                                  *\n"
     ]
    },
    {
     "name": "stderr",
     "output_type": "stream",
     "text": [
      "*                                                                              *\n"
     ]
    },
    {
     "name": "stderr",
     "output_type": "stream",
     "text": [
      "*    GENERAL                                                                   *\n"
     ]
    },
    {
     "name": "stderr",
     "output_type": "stream",
     "text": [
      "*        CASE NAME                    :    sod                                 *\n"
     ]
    },
    {
     "name": "stderr",
     "output_type": "stream",
     "text": [
      "*        SAVE PATH                    :    ./results                           *\n"
     ]
    },
    {
     "name": "stderr",
     "output_type": "stream",
     "text": [
      "*        END TIME                     :    0.2                                 *\n"
     ]
    },
    {
     "name": "stderr",
     "output_type": "stream",
     "text": [
      "*        SAVE DT                      :    0.01                                *\n"
     ]
    },
    {
     "name": "stderr",
     "output_type": "stream",
     "text": [
      "*                                                                              *\n"
     ]
    },
    {
     "name": "stderr",
     "output_type": "stream",
     "text": [
      "*    DOMAIN                                                                    *\n"
     ]
    },
    {
     "name": "stderr",
     "output_type": "stream",
     "text": [
      "*        X                                                                     *\n"
     ]
    },
    {
     "name": "stderr",
     "output_type": "stream",
     "text": [
      "*          CELLS                      :    100                                 *\n"
     ]
    },
    {
     "name": "stderr",
     "output_type": "stream",
     "text": [
      "*          RANGE                      :    [0.0, 1.0]                          *\n"
     ]
    },
    {
     "name": "stderr",
     "output_type": "stream",
     "text": [
      "*        Y                                                                     *\n"
     ]
    },
    {
     "name": "stderr",
     "output_type": "stream",
     "text": [
      "*          CELLS                      :    1                                   *\n"
     ]
    },
    {
     "name": "stderr",
     "output_type": "stream",
     "text": [
      "*          RANGE                      :    [0.0, 1.0]                          *\n"
     ]
    },
    {
     "name": "stderr",
     "output_type": "stream",
     "text": [
      "*        Z                                                                     *\n"
     ]
    },
    {
     "name": "stderr",
     "output_type": "stream",
     "text": [
      "*          CELLS                      :    1                                   *\n"
     ]
    },
    {
     "name": "stderr",
     "output_type": "stream",
     "text": [
      "*          RANGE                      :    [0.0, 1.0]                          *\n"
     ]
    },
    {
     "name": "stderr",
     "output_type": "stream",
     "text": [
      "*                                                                              *\n"
     ]
    },
    {
     "name": "stderr",
     "output_type": "stream",
     "text": [
      "*    BOUNDARY CONDITION                                                        *\n"
     ]
    },
    {
     "name": "stderr",
     "output_type": "stream",
     "text": [
      "*        TYPES                                                                 *\n"
     ]
    },
    {
     "name": "stderr",
     "output_type": "stream",
     "text": [
      "*          EAST                       :    neumann                             *\n"
     ]
    },
    {
     "name": "stderr",
     "output_type": "stream",
     "text": [
      "*          WEST                       :    neumann                             *\n"
     ]
    },
    {
     "name": "stderr",
     "output_type": "stream",
     "text": [
      "*          NORTH                      :    inactive                            *\n"
     ]
    },
    {
     "name": "stderr",
     "output_type": "stream",
     "text": [
      "*          SOUTH                      :    inactive                            *\n"
     ]
    },
    {
     "name": "stderr",
     "output_type": "stream",
     "text": [
      "*          TOP                        :    inactive                            *\n"
     ]
    },
    {
     "name": "stderr",
     "output_type": "stream",
     "text": [
      "*          BOTTOM                     :    inactive                            *\n"
     ]
    },
    {
     "name": "stderr",
     "output_type": "stream",
     "text": [
      "*                                                                              *\n"
     ]
    },
    {
     "name": "stderr",
     "output_type": "stream",
     "text": [
      "*    INITIAL CONDITION                                                         *\n"
     ]
    },
    {
     "name": "stderr",
     "output_type": "stream",
     "text": [
      "*        RHO                          :    lambda x: 1.0*(x <= 0.5) + 0.125*(x > 0.5)*\n"
     ]
    },
    {
     "name": "stderr",
     "output_type": "stream",
     "text": [
      "*        U                            :    0.0                                 *\n"
     ]
    },
    {
     "name": "stderr",
     "output_type": "stream",
     "text": [
      "*        V                            :    0.0                                 *\n"
     ]
    },
    {
     "name": "stderr",
     "output_type": "stream",
     "text": [
      "*        W                            :    0.0                                 *\n"
     ]
    },
    {
     "name": "stderr",
     "output_type": "stream",
     "text": [
      "*        P                            :    lambda x: 1.0*(x <= 0.5) + 0.1*(x > 0.5)*\n"
     ]
    },
    {
     "name": "stderr",
     "output_type": "stream",
     "text": [
      "*                                                                              *\n"
     ]
    },
    {
     "name": "stderr",
     "output_type": "stream",
     "text": [
      "*    MATERIAL PROPERTIES                                                       *\n"
     ]
    },
    {
     "name": "stderr",
     "output_type": "stream",
     "text": [
      "*        TYPE                         :    IdealGas                            *\n"
     ]
    },
    {
     "name": "stderr",
     "output_type": "stream",
     "text": [
      "*        DYNAMIC VISCOSITY            :    0.0                                 *\n"
     ]
    },
    {
     "name": "stderr",
     "output_type": "stream",
     "text": [
      "*        BULK VISCOSITY               :    0.0                                 *\n"
     ]
    },
    {
     "name": "stderr",
     "output_type": "stream",
     "text": [
      "*        THERMAL CONDUCTIVITY         :    0.0                                 *\n"
     ]
    },
    {
     "name": "stderr",
     "output_type": "stream",
     "text": [
      "*        SPECIFIC HEAT RATIO          :    1.4                                 *\n"
     ]
    },
    {
     "name": "stderr",
     "output_type": "stream",
     "text": [
      "*        SPECIFIC GAS CONSTANT        :    1.0                                 *\n"
     ]
    },
    {
     "name": "stderr",
     "output_type": "stream",
     "text": [
      "*                                                                              *\n"
     ]
    },
    {
     "name": "stderr",
     "output_type": "stream",
     "text": [
      "*    NONDIMENSIONALIZATION PARAMETERS                                          *\n"
     ]
    },
    {
     "name": "stderr",
     "output_type": "stream",
     "text": [
      "*        DENSITY REFERENCE            :    1.0                                 *\n"
     ]
    },
    {
     "name": "stderr",
     "output_type": "stream",
     "text": [
      "*        LENGTH REFERENCE             :    1.0                                 *\n"
     ]
    },
    {
     "name": "stderr",
     "output_type": "stream",
     "text": [
      "*        VELOCITY REFERENCE           :    1.0                                 *\n"
     ]
    },
    {
     "name": "stderr",
     "output_type": "stream",
     "text": [
      "*        TEMPERATURE REFERENCE        :    1.0                                 *\n"
     ]
    },
    {
     "name": "stderr",
     "output_type": "stream",
     "text": [
      "*                                                                              *\n"
     ]
    },
    {
     "name": "stderr",
     "output_type": "stream",
     "text": [
      "*                                                                              *\n"
     ]
    },
    {
     "name": "stderr",
     "output_type": "stream",
     "text": [
      "*------------------------------------------------------------------------------*\n"
     ]
    },
    {
     "name": "stderr",
     "output_type": "stream",
     "text": [
      "*                                                                              *\n"
     ]
    },
    {
     "name": "stderr",
     "output_type": "stream",
     "text": [
      "*                                                                              *\n"
     ]
    },
    {
     "name": "stderr",
     "output_type": "stream",
     "text": [
      "*          _     _    __  __        _____  _      _   _  ___  ____   ____      *\n"
     ]
    },
    {
     "name": "stderr",
     "output_type": "stream",
     "text": [
      "*         | |   / \\   \\ \\/ /       |  ___|| |    | | | ||_ _||  _ \\ / ___|     *\n"
     ]
    },
    {
     "name": "stderr",
     "output_type": "stream",
     "text": [
      "*      _  | |  / _ \\   \\  /  _____ | |_   | |    | | | | | | | | | |\\___ \\     *\n"
     ]
    },
    {
     "name": "stderr",
     "output_type": "stream",
     "text": [
      "*     | |_| | / ___ \\  /  \\ |_____||  _|  | |___ | |_| | | | | |_| | ___) |    *\n"
     ]
    },
    {
     "name": "stderr",
     "output_type": "stream",
     "text": [
      "*      \\___/ /_/   \\_\\/_/\\_\\       |_|    |_____| \\___/ |___||____/ |____/     *\n"
     ]
    },
    {
     "name": "stderr",
     "output_type": "stream",
     "text": [
      "*                                                                              *\n"
     ]
    },
    {
     "name": "stderr",
     "output_type": "stream",
     "text": [
      "*                                                                              *\n"
     ]
    },
    {
     "name": "stderr",
     "output_type": "stream",
     "text": [
      "*------------------------------------------------------------------------------*\n"
     ]
    },
    {
     "name": "stderr",
     "output_type": "stream",
     "text": [
      "*                                                                              *\n"
     ]
    },
    {
     "name": "stderr",
     "output_type": "stream",
     "text": [
      "*    CURRENT TIME                   = 2.5355e-03                               *\n"
     ]
    },
    {
     "name": "stderr",
     "output_type": "stream",
     "text": [
      "*    CURRENT DT                     = 2.5355e-03                               *\n"
     ]
    },
    {
     "name": "stderr",
     "output_type": "stream",
     "text": [
      "*    CURRENT STEP                   =      1                                   *\n"
     ]
    },
    {
     "name": "stderr",
     "output_type": "stream",
     "text": [
      "*    WALL CLOCK TIMESTEP            = 1.6543e+01                               *\n"
     ]
    },
    {
     "name": "stderr",
     "output_type": "stream",
     "text": [
      "*    MEAN WALL CLOCK TIMESTEP       = 1.6543e+01                               *\n"
     ]
    },
    {
     "name": "stderr",
     "output_type": "stream",
     "text": [
      "*    WALL CLOCK TIMESTEP CELL       = 1.6543e-01                               *\n"
     ]
    },
    {
     "name": "stderr",
     "output_type": "stream",
     "text": [
      "*    MEAN WALL CLOCK TIMESTEP CELL  = 1.6543e-01                               *\n"
     ]
    },
    {
     "name": "stderr",
     "output_type": "stream",
     "text": [
      "*                                                                              *\n"
     ]
    },
    {
     "name": "stderr",
     "output_type": "stream",
     "text": [
      "*------------------------------------------------------------------------------*\n"
     ]
    },
    {
     "name": "stderr",
     "output_type": "stream",
     "text": [
      "*                                                                              *\n"
     ]
    },
    {
     "name": "stderr",
     "output_type": "stream",
     "text": [
      "*    CURRENT TIME                   = 4.8562e-03                               *\n"
     ]
    },
    {
     "name": "stderr",
     "output_type": "stream",
     "text": [
      "*    CURRENT DT                     = 2.3207e-03                               *\n"
     ]
    },
    {
     "name": "stderr",
     "output_type": "stream",
     "text": [
      "*    CURRENT STEP                   =      2                                   *\n"
     ]
    },
    {
     "name": "stderr",
     "output_type": "stream",
     "text": [
      "*    WALL CLOCK TIMESTEP            = 1.6013e+01                               *\n"
     ]
    },
    {
     "name": "stderr",
     "output_type": "stream",
     "text": [
      "*    MEAN WALL CLOCK TIMESTEP       = 1.6013e+01                               *\n"
     ]
    },
    {
     "name": "stderr",
     "output_type": "stream",
     "text": [
      "*    WALL CLOCK TIMESTEP CELL       = 1.6013e-01                               *\n"
     ]
    },
    {
     "name": "stderr",
     "output_type": "stream",
     "text": [
      "*    MEAN WALL CLOCK TIMESTEP CELL  = 1.6013e-01                               *\n"
     ]
    },
    {
     "name": "stderr",
     "output_type": "stream",
     "text": [
      "*                                                                              *\n"
     ]
    },
    {
     "name": "stderr",
     "output_type": "stream",
     "text": [
      "*------------------------------------------------------------------------------*\n"
     ]
    },
    {
     "name": "stderr",
     "output_type": "stream",
     "text": [
      "*                                                                              *\n"
     ]
    },
    {
     "name": "stderr",
     "output_type": "stream",
     "text": [
      "*    CURRENT TIME                   = 7.0562e-03                               *\n"
     ]
    },
    {
     "name": "stderr",
     "output_type": "stream",
     "text": [
      "*    CURRENT DT                     = 2.2001e-03                               *\n"
     ]
    },
    {
     "name": "stderr",
     "output_type": "stream",
     "text": [
      "*    CURRENT STEP                   =      3                                   *\n"
     ]
    },
    {
     "name": "stderr",
     "output_type": "stream",
     "text": [
      "*    WALL CLOCK TIMESTEP            = 1.9751e-03                               *\n"
     ]
    },
    {
     "name": "stderr",
     "output_type": "stream",
     "text": [
      "*    MEAN WALL CLOCK TIMESTEP       = 1.9751e-03                               *\n"
     ]
    },
    {
     "name": "stderr",
     "output_type": "stream",
     "text": [
      "*    WALL CLOCK TIMESTEP CELL       = 1.9751e-05                               *\n"
     ]
    },
    {
     "name": "stderr",
     "output_type": "stream",
     "text": [
      "*    MEAN WALL CLOCK TIMESTEP CELL  = 1.9751e-05                               *\n"
     ]
    },
    {
     "name": "stderr",
     "output_type": "stream",
     "text": [
      "*                                                                              *\n"
     ]
    },
    {
     "name": "stderr",
     "output_type": "stream",
     "text": [
      "*------------------------------------------------------------------------------*\n"
     ]
    },
    {
     "name": "stderr",
     "output_type": "stream",
     "text": [
      "*                                                                              *\n"
     ]
    },
    {
     "name": "stderr",
     "output_type": "stream",
     "text": [
      "*    CURRENT TIME                   = 9.2314e-03                               *\n"
     ]
    },
    {
     "name": "stderr",
     "output_type": "stream",
     "text": [
      "*    CURRENT DT                     = 2.1752e-03                               *\n"
     ]
    },
    {
     "name": "stderr",
     "output_type": "stream",
     "text": [
      "*    CURRENT STEP                   =      4                                   *\n"
     ]
    },
    {
     "name": "stderr",
     "output_type": "stream",
     "text": [
      "*    WALL CLOCK TIMESTEP            = 2.0599e-03                               *\n"
     ]
    },
    {
     "name": "stderr",
     "output_type": "stream",
     "text": [
      "*    MEAN WALL CLOCK TIMESTEP       = 2.0599e-03                               *\n"
     ]
    },
    {
     "name": "stderr",
     "output_type": "stream",
     "text": [
      "*    WALL CLOCK TIMESTEP CELL       = 2.0599e-05                               *\n"
     ]
    },
    {
     "name": "stderr",
     "output_type": "stream",
     "text": [
      "*    MEAN WALL CLOCK TIMESTEP CELL  = 2.0599e-05                               *\n"
     ]
    },
    {
     "name": "stderr",
     "output_type": "stream",
     "text": [
      "*                                                                              *\n"
     ]
    },
    {
     "name": "stderr",
     "output_type": "stream",
     "text": [
      "*------------------------------------------------------------------------------*\n"
     ]
    },
    {
     "name": "stderr",
     "output_type": "stream",
     "text": [
      "*                                                                              *\n"
     ]
    },
    {
     "name": "stderr",
     "output_type": "stream",
     "text": [
      "*    CURRENT TIME                   = 1.1371e-02                               *\n"
     ]
    },
    {
     "name": "stderr",
     "output_type": "stream",
     "text": [
      "*    CURRENT DT                     = 2.1392e-03                               *\n"
     ]
    },
    {
     "name": "stderr",
     "output_type": "stream",
     "text": [
      "*    CURRENT STEP                   =      5                                   *\n"
     ]
    },
    {
     "name": "stderr",
     "output_type": "stream",
     "text": [
      "*    WALL CLOCK TIMESTEP            = 2.9609e-02                               *\n"
     ]
    },
    {
     "name": "stderr",
     "output_type": "stream",
     "text": [
      "*    MEAN WALL CLOCK TIMESTEP       = 8.9473e-03                               *\n"
     ]
    },
    {
     "name": "stderr",
     "output_type": "stream",
     "text": [
      "*    WALL CLOCK TIMESTEP CELL       = 2.9609e-04                               *\n"
     ]
    },
    {
     "name": "stderr",
     "output_type": "stream",
     "text": [
      "*    MEAN WALL CLOCK TIMESTEP CELL  = 8.9473e-05                               *\n"
     ]
    },
    {
     "name": "stderr",
     "output_type": "stream",
     "text": [
      "*                                                                              *\n"
     ]
    },
    {
     "name": "stderr",
     "output_type": "stream",
     "text": [
      "*------------------------------------------------------------------------------*\n"
     ]
    },
    {
     "name": "stderr",
     "output_type": "stream",
     "text": [
      "*                                                                              *\n"
     ]
    },
    {
     "name": "stderr",
     "output_type": "stream",
     "text": [
      "*    CURRENT TIME                   = 1.3440e-02                               *\n"
     ]
    },
    {
     "name": "stderr",
     "output_type": "stream",
     "text": [
      "*    CURRENT DT                     = 2.0694e-03                               *\n"
     ]
    },
    {
     "name": "stderr",
     "output_type": "stream",
     "text": [
      "*    CURRENT STEP                   =      6                                   *\n"
     ]
    },
    {
     "name": "stderr",
     "output_type": "stream",
     "text": [
      "*    WALL CLOCK TIMESTEP            = 2.1119e-03                               *\n"
     ]
    },
    {
     "name": "stderr",
     "output_type": "stream",
     "text": [
      "*    MEAN WALL CLOCK TIMESTEP       = 7.5802e-03                               *\n"
     ]
    },
    {
     "name": "stderr",
     "output_type": "stream",
     "text": [
      "*    WALL CLOCK TIMESTEP CELL       = 2.1119e-05                               *\n"
     ]
    },
    {
     "name": "stderr",
     "output_type": "stream",
     "text": [
      "*    MEAN WALL CLOCK TIMESTEP CELL  = 7.5802e-05                               *\n"
     ]
    },
    {
     "name": "stderr",
     "output_type": "stream",
     "text": [
      "*                                                                              *\n"
     ]
    },
    {
     "name": "stderr",
     "output_type": "stream",
     "text": [
      "*------------------------------------------------------------------------------*\n"
     ]
    },
    {
     "name": "stderr",
     "output_type": "stream",
     "text": [
      "*                                                                              *\n"
     ]
    },
    {
     "name": "stderr",
     "output_type": "stream",
     "text": [
      "*    CURRENT TIME                   = 1.5495e-02                               *\n"
     ]
    },
    {
     "name": "stderr",
     "output_type": "stream",
     "text": [
      "*    CURRENT DT                     = 2.0550e-03                               *\n"
     ]
    },
    {
     "name": "stderr",
     "output_type": "stream",
     "text": [
      "*    CURRENT STEP                   =      7                                   *\n"
     ]
    },
    {
     "name": "stderr",
     "output_type": "stream",
     "text": [
      "*    WALL CLOCK TIMESTEP            = 1.7400e-03                               *\n"
     ]
    },
    {
     "name": "stderr",
     "output_type": "stream",
     "text": [
      "*    MEAN WALL CLOCK TIMESTEP       = 6.6068e-03                               *\n"
     ]
    },
    {
     "name": "stderr",
     "output_type": "stream",
     "text": [
      "*    WALL CLOCK TIMESTEP CELL       = 1.7400e-05                               *\n"
     ]
    },
    {
     "name": "stderr",
     "output_type": "stream",
     "text": [
      "*    MEAN WALL CLOCK TIMESTEP CELL  = 6.6068e-05                               *\n"
     ]
    },
    {
     "name": "stderr",
     "output_type": "stream",
     "text": [
      "*                                                                              *\n"
     ]
    },
    {
     "name": "stderr",
     "output_type": "stream",
     "text": [
      "*------------------------------------------------------------------------------*\n"
     ]
    },
    {
     "name": "stderr",
     "output_type": "stream",
     "text": [
      "*                                                                              *\n"
     ]
    },
    {
     "name": "stderr",
     "output_type": "stream",
     "text": [
      "*    CURRENT TIME                   = 1.7565e-02                               *\n"
     ]
    },
    {
     "name": "stderr",
     "output_type": "stream",
     "text": [
      "*    CURRENT DT                     = 2.0695e-03                               *\n"
     ]
    },
    {
     "name": "stderr",
     "output_type": "stream",
     "text": [
      "*    CURRENT STEP                   =      8                                   *\n"
     ]
    },
    {
     "name": "stderr",
     "output_type": "stream",
     "text": [
      "*    WALL CLOCK TIMESTEP            = 2.0292e-03                               *\n"
     ]
    },
    {
     "name": "stderr",
     "output_type": "stream",
     "text": [
      "*    MEAN WALL CLOCK TIMESTEP       = 5.9529e-03                               *\n"
     ]
    },
    {
     "name": "stderr",
     "output_type": "stream",
     "text": [
      "*    WALL CLOCK TIMESTEP CELL       = 2.0292e-05                               *\n"
     ]
    },
    {
     "name": "stderr",
     "output_type": "stream",
     "text": [
      "*    MEAN WALL CLOCK TIMESTEP CELL  = 5.9529e-05                               *\n"
     ]
    },
    {
     "name": "stderr",
     "output_type": "stream",
     "text": [
      "*                                                                              *\n"
     ]
    },
    {
     "name": "stderr",
     "output_type": "stream",
     "text": [
      "*------------------------------------------------------------------------------*\n"
     ]
    },
    {
     "name": "stderr",
     "output_type": "stream",
     "text": [
      "*                                                                              *\n"
     ]
    },
    {
     "name": "stderr",
     "output_type": "stream",
     "text": [
      "*    CURRENT TIME                   = 1.9579e-02                               *\n"
     ]
    },
    {
     "name": "stderr",
     "output_type": "stream",
     "text": [
      "*    CURRENT DT                     = 2.0141e-03                               *\n"
     ]
    },
    {
     "name": "stderr",
     "output_type": "stream",
     "text": [
      "*    CURRENT STEP                   =      9                                   *\n"
     ]
    },
    {
     "name": "stderr",
     "output_type": "stream",
     "text": [
      "*    WALL CLOCK TIMESTEP            = 1.7853e-03                               *\n"
     ]
    },
    {
     "name": "stderr",
     "output_type": "stream",
     "text": [
      "*    MEAN WALL CLOCK TIMESTEP       = 5.4319e-03                               *\n"
     ]
    },
    {
     "name": "stderr",
     "output_type": "stream",
     "text": [
      "*    WALL CLOCK TIMESTEP CELL       = 1.7853e-05                               *\n"
     ]
    },
    {
     "name": "stderr",
     "output_type": "stream",
     "text": [
      "*    MEAN WALL CLOCK TIMESTEP CELL  = 5.4319e-05                               *\n"
     ]
    },
    {
     "name": "stderr",
     "output_type": "stream",
     "text": [
      "*                                                                              *\n"
     ]
    },
    {
     "name": "stderr",
     "output_type": "stream",
     "text": [
      "*------------------------------------------------------------------------------*\n"
     ]
    },
    {
     "name": "stderr",
     "output_type": "stream",
     "text": [
      "*                                                                              *\n"
     ]
    },
    {
     "name": "stderr",
     "output_type": "stream",
     "text": [
      "*    CURRENT TIME                   = 2.1567e-02                               *\n"
     ]
    },
    {
     "name": "stderr",
     "output_type": "stream",
     "text": [
      "*    CURRENT DT                     = 1.9886e-03                               *\n"
     ]
    },
    {
     "name": "stderr",
     "output_type": "stream",
     "text": [
      "*    CURRENT STEP                   =     10                                   *\n"
     ]
    },
    {
     "name": "stderr",
     "output_type": "stream",
     "text": [
      "*    WALL CLOCK TIMESTEP            = 3.4679e-02                               *\n"
     ]
    },
    {
     "name": "stderr",
     "output_type": "stream",
     "text": [
      "*    MEAN WALL CLOCK TIMESTEP       = 8.6816e-03                               *\n"
     ]
    },
    {
     "name": "stderr",
     "output_type": "stream",
     "text": [
      "*    WALL CLOCK TIMESTEP CELL       = 3.4679e-04                               *\n"
     ]
    },
    {
     "name": "stderr",
     "output_type": "stream",
     "text": [
      "*    MEAN WALL CLOCK TIMESTEP CELL  = 8.6816e-05                               *\n"
     ]
    },
    {
     "name": "stderr",
     "output_type": "stream",
     "text": [
      "*                                                                              *\n"
     ]
    },
    {
     "name": "stderr",
     "output_type": "stream",
     "text": [
      "*------------------------------------------------------------------------------*\n"
     ]
    },
    {
     "name": "stderr",
     "output_type": "stream",
     "text": [
      "*                                                                              *\n"
     ]
    },
    {
     "name": "stderr",
     "output_type": "stream",
     "text": [
      "*    CURRENT TIME                   = 2.3562e-02                               *\n"
     ]
    },
    {
     "name": "stderr",
     "output_type": "stream",
     "text": [
      "*    CURRENT DT                     = 1.9943e-03                               *\n"
     ]
    },
    {
     "name": "stderr",
     "output_type": "stream",
     "text": [
      "*    CURRENT STEP                   =     11                                   *\n"
     ]
    },
    {
     "name": "stderr",
     "output_type": "stream",
     "text": [
      "*    WALL CLOCK TIMESTEP            = 2.0118e-03                               *\n"
     ]
    },
    {
     "name": "stderr",
     "output_type": "stream",
     "text": [
      "*    MEAN WALL CLOCK TIMESTEP       = 8.0146e-03                               *\n"
     ]
    },
    {
     "name": "stderr",
     "output_type": "stream",
     "text": [
      "*    WALL CLOCK TIMESTEP CELL       = 2.0118e-05                               *\n"
     ]
    },
    {
     "name": "stderr",
     "output_type": "stream",
     "text": [
      "*    MEAN WALL CLOCK TIMESTEP CELL  = 8.0146e-05                               *\n"
     ]
    },
    {
     "name": "stderr",
     "output_type": "stream",
     "text": [
      "*                                                                              *\n"
     ]
    },
    {
     "name": "stderr",
     "output_type": "stream",
     "text": [
      "*------------------------------------------------------------------------------*\n"
     ]
    },
    {
     "name": "stderr",
     "output_type": "stream",
     "text": [
      "*                                                                              *\n"
     ]
    },
    {
     "name": "stderr",
     "output_type": "stream",
     "text": [
      "*    CURRENT TIME                   = 2.5550e-02                               *\n"
     ]
    },
    {
     "name": "stderr",
     "output_type": "stream",
     "text": [
      "*    CURRENT DT                     = 1.9884e-03                               *\n"
     ]
    },
    {
     "name": "stderr",
     "output_type": "stream",
     "text": [
      "*    CURRENT STEP                   =     12                                   *\n"
     ]
    },
    {
     "name": "stderr",
     "output_type": "stream",
     "text": [
      "*    WALL CLOCK TIMESTEP            = 1.7631e-03                               *\n"
     ]
    },
    {
     "name": "stderr",
     "output_type": "stream",
     "text": [
      "*    MEAN WALL CLOCK TIMESTEP       = 7.4463e-03                               *\n"
     ]
    },
    {
     "name": "stderr",
     "output_type": "stream",
     "text": [
      "*    WALL CLOCK TIMESTEP CELL       = 1.7631e-05                               *\n"
     ]
    },
    {
     "name": "stderr",
     "output_type": "stream",
     "text": [
      "*    MEAN WALL CLOCK TIMESTEP CELL  = 7.4463e-05                               *\n"
     ]
    },
    {
     "name": "stderr",
     "output_type": "stream",
     "text": [
      "*                                                                              *\n"
     ]
    },
    {
     "name": "stderr",
     "output_type": "stream",
     "text": [
      "*------------------------------------------------------------------------------*\n"
     ]
    },
    {
     "name": "stderr",
     "output_type": "stream",
     "text": [
      "*                                                                              *\n"
     ]
    },
    {
     "name": "stderr",
     "output_type": "stream",
     "text": [
      "*    CURRENT TIME                   = 2.7509e-02                               *\n"
     ]
    },
    {
     "name": "stderr",
     "output_type": "stream",
     "text": [
      "*    CURRENT DT                     = 1.9586e-03                               *\n"
     ]
    },
    {
     "name": "stderr",
     "output_type": "stream",
     "text": [
      "*    CURRENT STEP                   =     13                                   *\n"
     ]
    },
    {
     "name": "stderr",
     "output_type": "stream",
     "text": [
      "*    WALL CLOCK TIMESTEP            = 1.7910e-03                               *\n"
     ]
    },
    {
     "name": "stderr",
     "output_type": "stream",
     "text": [
      "*    MEAN WALL CLOCK TIMESTEP       = 6.9750e-03                               *\n"
     ]
    },
    {
     "name": "stderr",
     "output_type": "stream",
     "text": [
      "*    WALL CLOCK TIMESTEP CELL       = 1.7910e-05                               *\n"
     ]
    },
    {
     "name": "stderr",
     "output_type": "stream",
     "text": [
      "*    MEAN WALL CLOCK TIMESTEP CELL  = 6.9750e-05                               *\n"
     ]
    },
    {
     "name": "stderr",
     "output_type": "stream",
     "text": [
      "*                                                                              *\n"
     ]
    },
    {
     "name": "stderr",
     "output_type": "stream",
     "text": [
      "*------------------------------------------------------------------------------*\n"
     ]
    },
    {
     "name": "stderr",
     "output_type": "stream",
     "text": [
      "*                                                                              *\n"
     ]
    },
    {
     "name": "stderr",
     "output_type": "stream",
     "text": [
      "*    CURRENT TIME                   = 2.9463e-02                               *\n"
     ]
    },
    {
     "name": "stderr",
     "output_type": "stream",
     "text": [
      "*    CURRENT DT                     = 1.9547e-03                               *\n"
     ]
    },
    {
     "name": "stderr",
     "output_type": "stream",
     "text": [
      "*    CURRENT STEP                   =     14                                   *\n"
     ]
    },
    {
     "name": "stderr",
     "output_type": "stream",
     "text": [
      "*    WALL CLOCK TIMESTEP            = 1.9920e-03                               *\n"
     ]
    },
    {
     "name": "stderr",
     "output_type": "stream",
     "text": [
      "*    MEAN WALL CLOCK TIMESTEP       = 6.5917e-03                               *\n"
     ]
    },
    {
     "name": "stderr",
     "output_type": "stream",
     "text": [
      "*    WALL CLOCK TIMESTEP CELL       = 1.9920e-05                               *\n"
     ]
    },
    {
     "name": "stderr",
     "output_type": "stream",
     "text": [
      "*    MEAN WALL CLOCK TIMESTEP CELL  = 6.5917e-05                               *\n"
     ]
    },
    {
     "name": "stderr",
     "output_type": "stream",
     "text": [
      "*                                                                              *\n"
     ]
    },
    {
     "name": "stderr",
     "output_type": "stream",
     "text": [
      "*------------------------------------------------------------------------------*\n"
     ]
    },
    {
     "name": "stderr",
     "output_type": "stream",
     "text": [
      "*                                                                              *\n"
     ]
    },
    {
     "name": "stderr",
     "output_type": "stream",
     "text": [
      "*    CURRENT TIME                   = 3.1428e-02                               *\n"
     ]
    },
    {
     "name": "stderr",
     "output_type": "stream",
     "text": [
      "*    CURRENT DT                     = 1.9646e-03                               *\n"
     ]
    },
    {
     "name": "stderr",
     "output_type": "stream",
     "text": [
      "*    CURRENT STEP                   =     15                                   *\n"
     ]
    },
    {
     "name": "stderr",
     "output_type": "stream",
     "text": [
      "*    WALL CLOCK TIMESTEP            = 3.2766e-02                               *\n"
     ]
    },
    {
     "name": "stderr",
     "output_type": "stream",
     "text": [
      "*    MEAN WALL CLOCK TIMESTEP       = 8.4613e-03                               *\n"
     ]
    },
    {
     "name": "stderr",
     "output_type": "stream",
     "text": [
      "*    WALL CLOCK TIMESTEP CELL       = 3.2766e-04                               *\n"
     ]
    },
    {
     "name": "stderr",
     "output_type": "stream",
     "text": [
      "*    MEAN WALL CLOCK TIMESTEP CELL  = 8.4613e-05                               *\n"
     ]
    },
    {
     "name": "stderr",
     "output_type": "stream",
     "text": [
      "*                                                                              *\n"
     ]
    },
    {
     "name": "stderr",
     "output_type": "stream",
     "text": [
      "*------------------------------------------------------------------------------*\n"
     ]
    },
    {
     "name": "stderr",
     "output_type": "stream",
     "text": [
      "*                                                                              *\n"
     ]
    },
    {
     "name": "stderr",
     "output_type": "stream",
     "text": [
      "*    CURRENT TIME                   = 3.3375e-02                               *\n"
     ]
    },
    {
     "name": "stderr",
     "output_type": "stream",
     "text": [
      "*    CURRENT DT                     = 1.9474e-03                               *\n"
     ]
    },
    {
     "name": "stderr",
     "output_type": "stream",
     "text": [
      "*    CURRENT STEP                   =     16                                   *\n"
     ]
    },
    {
     "name": "stderr",
     "output_type": "stream",
     "text": [
      "*    WALL CLOCK TIMESTEP            = 2.5609e-03                               *\n"
     ]
    },
    {
     "name": "stderr",
     "output_type": "stream",
     "text": [
      "*    MEAN WALL CLOCK TIMESTEP       = 8.0679e-03                               *\n"
     ]
    },
    {
     "name": "stderr",
     "output_type": "stream",
     "text": [
      "*    WALL CLOCK TIMESTEP CELL       = 2.5609e-05                               *\n"
     ]
    },
    {
     "name": "stderr",
     "output_type": "stream",
     "text": [
      "*    MEAN WALL CLOCK TIMESTEP CELL  = 8.0679e-05                               *\n"
     ]
    },
    {
     "name": "stderr",
     "output_type": "stream",
     "text": [
      "*                                                                              *\n"
     ]
    },
    {
     "name": "stderr",
     "output_type": "stream",
     "text": [
      "*------------------------------------------------------------------------------*\n"
     ]
    },
    {
     "name": "stderr",
     "output_type": "stream",
     "text": [
      "*                                                                              *\n"
     ]
    },
    {
     "name": "stderr",
     "output_type": "stream",
     "text": [
      "*    CURRENT TIME                   = 3.5313e-02                               *\n"
     ]
    },
    {
     "name": "stderr",
     "output_type": "stream",
     "text": [
      "*    CURRENT DT                     = 1.9377e-03                               *\n"
     ]
    },
    {
     "name": "stderr",
     "output_type": "stream",
     "text": [
      "*    CURRENT STEP                   =     17                                   *\n"
     ]
    },
    {
     "name": "stderr",
     "output_type": "stream",
     "text": [
      "*    WALL CLOCK TIMESTEP            = 2.2748e-03                               *\n"
     ]
    },
    {
     "name": "stderr",
     "output_type": "stream",
     "text": [
      "*    MEAN WALL CLOCK TIMESTEP       = 7.7059e-03                               *\n"
     ]
    },
    {
     "name": "stderr",
     "output_type": "stream",
     "text": [
      "*    WALL CLOCK TIMESTEP CELL       = 2.2748e-05                               *\n"
     ]
    },
    {
     "name": "stderr",
     "output_type": "stream",
     "text": [
      "*    MEAN WALL CLOCK TIMESTEP CELL  = 7.7059e-05                               *\n"
     ]
    },
    {
     "name": "stderr",
     "output_type": "stream",
     "text": [
      "*                                                                              *\n"
     ]
    },
    {
     "name": "stderr",
     "output_type": "stream",
     "text": [
      "*------------------------------------------------------------------------------*\n"
     ]
    },
    {
     "name": "stderr",
     "output_type": "stream",
     "text": [
      "*                                                                              *\n"
     ]
    },
    {
     "name": "stderr",
     "output_type": "stream",
     "text": [
      "*    CURRENT TIME                   = 3.7251e-02                               *\n"
     ]
    },
    {
     "name": "stderr",
     "output_type": "stream",
     "text": [
      "*    CURRENT DT                     = 1.9383e-03                               *\n"
     ]
    },
    {
     "name": "stderr",
     "output_type": "stream",
     "text": [
      "*    CURRENT STEP                   =     18                                   *\n"
     ]
    },
    {
     "name": "stderr",
     "output_type": "stream",
     "text": [
      "*    WALL CLOCK TIMESTEP            = 2.1060e-03                               *\n"
     ]
    },
    {
     "name": "stderr",
     "output_type": "stream",
     "text": [
      "*    MEAN WALL CLOCK TIMESTEP       = 7.3765e-03                               *\n"
     ]
    },
    {
     "name": "stderr",
     "output_type": "stream",
     "text": [
      "*    WALL CLOCK TIMESTEP CELL       = 2.1060e-05                               *\n"
     ]
    },
    {
     "name": "stderr",
     "output_type": "stream",
     "text": [
      "*    MEAN WALL CLOCK TIMESTEP CELL  = 7.3765e-05                               *\n"
     ]
    },
    {
     "name": "stderr",
     "output_type": "stream",
     "text": [
      "*                                                                              *\n"
     ]
    },
    {
     "name": "stderr",
     "output_type": "stream",
     "text": [
      "*------------------------------------------------------------------------------*\n"
     ]
    },
    {
     "name": "stderr",
     "output_type": "stream",
     "text": [
      "*                                                                              *\n"
     ]
    },
    {
     "name": "stderr",
     "output_type": "stream",
     "text": [
      "*    CURRENT TIME                   = 3.9194e-02                               *\n"
     ]
    },
    {
     "name": "stderr",
     "output_type": "stream",
     "text": [
      "*    CURRENT DT                     = 1.9426e-03                               *\n"
     ]
    },
    {
     "name": "stderr",
     "output_type": "stream",
     "text": [
      "*    CURRENT STEP                   =     19                                   *\n"
     ]
    },
    {
     "name": "stderr",
     "output_type": "stream",
     "text": [
      "*    WALL CLOCK TIMESTEP            = 1.9801e-03                               *\n"
     ]
    },
    {
     "name": "stderr",
     "output_type": "stream",
     "text": [
      "*    MEAN WALL CLOCK TIMESTEP       = 7.0767e-03                               *\n"
     ]
    },
    {
     "name": "stderr",
     "output_type": "stream",
     "text": [
      "*    WALL CLOCK TIMESTEP CELL       = 1.9801e-05                               *\n"
     ]
    },
    {
     "name": "stderr",
     "output_type": "stream",
     "text": [
      "*    MEAN WALL CLOCK TIMESTEP CELL  = 7.0767e-05                               *\n"
     ]
    },
    {
     "name": "stderr",
     "output_type": "stream",
     "text": [
      "*                                                                              *\n"
     ]
    },
    {
     "name": "stderr",
     "output_type": "stream",
     "text": [
      "*------------------------------------------------------------------------------*\n"
     ]
    },
    {
     "name": "stderr",
     "output_type": "stream",
     "text": [
      "*                                                                              *\n"
     ]
    },
    {
     "name": "stderr",
     "output_type": "stream",
     "text": [
      "*    CURRENT TIME                   = 4.1125e-02                               *\n"
     ]
    },
    {
     "name": "stderr",
     "output_type": "stream",
     "text": [
      "*    CURRENT DT                     = 1.9313e-03                               *\n"
     ]
    },
    {
     "name": "stderr",
     "output_type": "stream",
     "text": [
      "*    CURRENT STEP                   =     20                                   *\n"
     ]
    },
    {
     "name": "stderr",
     "output_type": "stream",
     "text": [
      "*    WALL CLOCK TIMESTEP            = 2.4584e-02                               *\n"
     ]
    },
    {
     "name": "stderr",
     "output_type": "stream",
     "text": [
      "*    MEAN WALL CLOCK TIMESTEP       = 7.9981e-03                               *\n"
     ]
    },
    {
     "name": "stderr",
     "output_type": "stream",
     "text": [
      "*    WALL CLOCK TIMESTEP CELL       = 2.4584e-04                               *\n"
     ]
    },
    {
     "name": "stderr",
     "output_type": "stream",
     "text": [
      "*    MEAN WALL CLOCK TIMESTEP CELL  = 7.9981e-05                               *\n"
     ]
    },
    {
     "name": "stderr",
     "output_type": "stream",
     "text": [
      "*                                                                              *\n"
     ]
    },
    {
     "name": "stderr",
     "output_type": "stream",
     "text": [
      "*------------------------------------------------------------------------------*\n"
     ]
    },
    {
     "name": "stderr",
     "output_type": "stream",
     "text": [
      "*                                                                              *\n"
     ]
    },
    {
     "name": "stderr",
     "output_type": "stream",
     "text": [
      "*    CURRENT TIME                   = 4.3053e-02                               *\n"
     ]
    },
    {
     "name": "stderr",
     "output_type": "stream",
     "text": [
      "*    CURRENT DT                     = 1.9279e-03                               *\n"
     ]
    },
    {
     "name": "stderr",
     "output_type": "stream",
     "text": [
      "*    CURRENT STEP                   =     21                                   *\n"
     ]
    },
    {
     "name": "stderr",
     "output_type": "stream",
     "text": [
      "*    WALL CLOCK TIMESTEP            = 2.3952e-03                               *\n"
     ]
    },
    {
     "name": "stderr",
     "output_type": "stream",
     "text": [
      "*    MEAN WALL CLOCK TIMESTEP       = 7.7180e-03                               *\n"
     ]
    },
    {
     "name": "stderr",
     "output_type": "stream",
     "text": [
      "*    WALL CLOCK TIMESTEP CELL       = 2.3952e-05                               *\n"
     ]
    },
    {
     "name": "stderr",
     "output_type": "stream",
     "text": [
      "*    MEAN WALL CLOCK TIMESTEP CELL  = 7.7180e-05                               *\n"
     ]
    },
    {
     "name": "stderr",
     "output_type": "stream",
     "text": [
      "*                                                                              *\n"
     ]
    },
    {
     "name": "stderr",
     "output_type": "stream",
     "text": [
      "*------------------------------------------------------------------------------*\n"
     ]
    },
    {
     "name": "stderr",
     "output_type": "stream",
     "text": [
      "*                                                                              *\n"
     ]
    },
    {
     "name": "stderr",
     "output_type": "stream",
     "text": [
      "*    CURRENT TIME                   = 4.4982e-02                               *\n"
     ]
    },
    {
     "name": "stderr",
     "output_type": "stream",
     "text": [
      "*    CURRENT DT                     = 1.9291e-03                               *\n"
     ]
    },
    {
     "name": "stderr",
     "output_type": "stream",
     "text": [
      "*    CURRENT STEP                   =     22                                   *\n"
     ]
    },
    {
     "name": "stderr",
     "output_type": "stream",
     "text": [
      "*    WALL CLOCK TIMESTEP            = 1.9908e-03                               *\n"
     ]
    },
    {
     "name": "stderr",
     "output_type": "stream",
     "text": [
      "*    MEAN WALL CLOCK TIMESTEP       = 7.4452e-03                               *\n"
     ]
    },
    {
     "name": "stderr",
     "output_type": "stream",
     "text": [
      "*    WALL CLOCK TIMESTEP CELL       = 1.9908e-05                               *\n"
     ]
    },
    {
     "name": "stderr",
     "output_type": "stream",
     "text": [
      "*    MEAN WALL CLOCK TIMESTEP CELL  = 7.4452e-05                               *\n"
     ]
    },
    {
     "name": "stderr",
     "output_type": "stream",
     "text": [
      "*                                                                              *\n"
     ]
    },
    {
     "name": "stderr",
     "output_type": "stream",
     "text": [
      "*------------------------------------------------------------------------------*\n"
     ]
    },
    {
     "name": "stderr",
     "output_type": "stream",
     "text": [
      "*                                                                              *\n"
     ]
    },
    {
     "name": "stderr",
     "output_type": "stream",
     "text": [
      "*    CURRENT TIME                   = 4.6909e-02                               *\n"
     ]
    },
    {
     "name": "stderr",
     "output_type": "stream",
     "text": [
      "*    CURRENT DT                     = 1.9274e-03                               *\n"
     ]
    },
    {
     "name": "stderr",
     "output_type": "stream",
     "text": [
      "*    CURRENT STEP                   =     23                                   *\n"
     ]
    },
    {
     "name": "stderr",
     "output_type": "stream",
     "text": [
      "*    WALL CLOCK TIMESTEP            = 1.9388e-03                               *\n"
     ]
    },
    {
     "name": "stderr",
     "output_type": "stream",
     "text": [
      "*    MEAN WALL CLOCK TIMESTEP       = 7.1949e-03                               *\n"
     ]
    },
    {
     "name": "stderr",
     "output_type": "stream",
     "text": [
      "*    WALL CLOCK TIMESTEP CELL       = 1.9388e-05                               *\n"
     ]
    },
    {
     "name": "stderr",
     "output_type": "stream",
     "text": [
      "*    MEAN WALL CLOCK TIMESTEP CELL  = 7.1949e-05                               *\n"
     ]
    },
    {
     "name": "stderr",
     "output_type": "stream",
     "text": [
      "*                                                                              *\n"
     ]
    },
    {
     "name": "stderr",
     "output_type": "stream",
     "text": [
      "*------------------------------------------------------------------------------*\n"
     ]
    },
    {
     "name": "stderr",
     "output_type": "stream",
     "text": [
      "*                                                                              *\n"
     ]
    },
    {
     "name": "stderr",
     "output_type": "stream",
     "text": [
      "*    CURRENT TIME                   = 4.8832e-02                               *\n"
     ]
    },
    {
     "name": "stderr",
     "output_type": "stream",
     "text": [
      "*    CURRENT DT                     = 1.9226e-03                               *\n"
     ]
    },
    {
     "name": "stderr",
     "output_type": "stream",
     "text": [
      "*    CURRENT STEP                   =     24                                   *\n"
     ]
    },
    {
     "name": "stderr",
     "output_type": "stream",
     "text": [
      "*    WALL CLOCK TIMESTEP            = 2.0411e-03                               *\n"
     ]
    },
    {
     "name": "stderr",
     "output_type": "stream",
     "text": [
      "*    MEAN WALL CLOCK TIMESTEP       = 6.9709e-03                               *\n"
     ]
    },
    {
     "name": "stderr",
     "output_type": "stream",
     "text": [
      "*    WALL CLOCK TIMESTEP CELL       = 2.0411e-05                               *\n"
     ]
    },
    {
     "name": "stderr",
     "output_type": "stream",
     "text": [
      "*    MEAN WALL CLOCK TIMESTEP CELL  = 6.9709e-05                               *\n"
     ]
    },
    {
     "name": "stderr",
     "output_type": "stream",
     "text": [
      "*                                                                              *\n"
     ]
    },
    {
     "name": "stderr",
     "output_type": "stream",
     "text": [
      "*------------------------------------------------------------------------------*\n"
     ]
    },
    {
     "name": "stderr",
     "output_type": "stream",
     "text": [
      "*                                                                              *\n"
     ]
    },
    {
     "name": "stderr",
     "output_type": "stream",
     "text": [
      "*    CURRENT TIME                   = 5.0753e-02                               *\n"
     ]
    },
    {
     "name": "stderr",
     "output_type": "stream",
     "text": [
      "*    CURRENT DT                     = 1.9214e-03                               *\n"
     ]
    },
    {
     "name": "stderr",
     "output_type": "stream",
     "text": [
      "*    CURRENT STEP                   =     25                                   *\n"
     ]
    },
    {
     "name": "stderr",
     "output_type": "stream",
     "text": [
      "*    WALL CLOCK TIMESTEP            = 3.0742e-02                               *\n"
     ]
    },
    {
     "name": "stderr",
     "output_type": "stream",
     "text": [
      "*    MEAN WALL CLOCK TIMESTEP       = 7.9613e-03                               *\n"
     ]
    },
    {
     "name": "stderr",
     "output_type": "stream",
     "text": [
      "*    WALL CLOCK TIMESTEP CELL       = 3.0742e-04                               *\n"
     ]
    },
    {
     "name": "stderr",
     "output_type": "stream",
     "text": [
      "*    MEAN WALL CLOCK TIMESTEP CELL  = 7.9613e-05                               *\n"
     ]
    },
    {
     "name": "stderr",
     "output_type": "stream",
     "text": [
      "*                                                                              *\n"
     ]
    },
    {
     "name": "stderr",
     "output_type": "stream",
     "text": [
      "*------------------------------------------------------------------------------*\n"
     ]
    },
    {
     "name": "stderr",
     "output_type": "stream",
     "text": [
      "*                                                                              *\n"
     ]
    },
    {
     "name": "stderr",
     "output_type": "stream",
     "text": [
      "*    CURRENT TIME                   = 5.2676e-02                               *\n"
     ]
    },
    {
     "name": "stderr",
     "output_type": "stream",
     "text": [
      "*    CURRENT DT                     = 1.9229e-03                               *\n"
     ]
    },
    {
     "name": "stderr",
     "output_type": "stream",
     "text": [
      "*    CURRENT STEP                   =     26                                   *\n"
     ]
    },
    {
     "name": "stderr",
     "output_type": "stream",
     "text": [
      "*    WALL CLOCK TIMESTEP            = 1.5271e-03                               *\n"
     ]
    },
    {
     "name": "stderr",
     "output_type": "stream",
     "text": [
      "*    MEAN WALL CLOCK TIMESTEP       = 7.7040e-03                               *\n"
     ]
    },
    {
     "name": "stderr",
     "output_type": "stream",
     "text": [
      "*    WALL CLOCK TIMESTEP CELL       = 1.5271e-05                               *\n"
     ]
    },
    {
     "name": "stderr",
     "output_type": "stream",
     "text": [
      "*    MEAN WALL CLOCK TIMESTEP CELL  = 7.7040e-05                               *\n"
     ]
    },
    {
     "name": "stderr",
     "output_type": "stream",
     "text": [
      "*                                                                              *\n"
     ]
    },
    {
     "name": "stderr",
     "output_type": "stream",
     "text": [
      "*------------------------------------------------------------------------------*\n"
     ]
    },
    {
     "name": "stderr",
     "output_type": "stream",
     "text": [
      "*                                                                              *\n"
     ]
    },
    {
     "name": "stderr",
     "output_type": "stream",
     "text": [
      "*    CURRENT TIME                   = 5.4595e-02                               *\n"
     ]
    },
    {
     "name": "stderr",
     "output_type": "stream",
     "text": [
      "*    CURRENT DT                     = 1.9188e-03                               *\n"
     ]
    },
    {
     "name": "stderr",
     "output_type": "stream",
     "text": [
      "*    CURRENT STEP                   =     27                                   *\n"
     ]
    },
    {
     "name": "stderr",
     "output_type": "stream",
     "text": [
      "*    WALL CLOCK TIMESTEP            = 1.5271e-03                               *\n"
     ]
    },
    {
     "name": "stderr",
     "output_type": "stream",
     "text": [
      "*    MEAN WALL CLOCK TIMESTEP       = 7.4664e-03                               *\n"
     ]
    },
    {
     "name": "stderr",
     "output_type": "stream",
     "text": [
      "*    WALL CLOCK TIMESTEP CELL       = 1.5271e-05                               *\n"
     ]
    },
    {
     "name": "stderr",
     "output_type": "stream",
     "text": [
      "*    MEAN WALL CLOCK TIMESTEP CELL  = 7.4664e-05                               *\n"
     ]
    },
    {
     "name": "stderr",
     "output_type": "stream",
     "text": [
      "*                                                                              *\n"
     ]
    },
    {
     "name": "stderr",
     "output_type": "stream",
     "text": [
      "*------------------------------------------------------------------------------*\n"
     ]
    },
    {
     "name": "stderr",
     "output_type": "stream",
     "text": [
      "*                                                                              *\n"
     ]
    },
    {
     "name": "stderr",
     "output_type": "stream",
     "text": [
      "*    CURRENT TIME                   = 5.6512e-02                               *\n"
     ]
    },
    {
     "name": "stderr",
     "output_type": "stream",
     "text": [
      "*    CURRENT DT                     = 1.9165e-03                               *\n"
     ]
    },
    {
     "name": "stderr",
     "output_type": "stream",
     "text": [
      "*    CURRENT STEP                   =     28                                   *\n"
     ]
    },
    {
     "name": "stderr",
     "output_type": "stream",
     "text": [
      "*    WALL CLOCK TIMESTEP            = 1.9300e-03                               *\n"
     ]
    },
    {
     "name": "stderr",
     "output_type": "stream",
     "text": [
      "*    MEAN WALL CLOCK TIMESTEP       = 7.2613e-03                               *\n"
     ]
    },
    {
     "name": "stderr",
     "output_type": "stream",
     "text": [
      "*    WALL CLOCK TIMESTEP CELL       = 1.9300e-05                               *\n"
     ]
    },
    {
     "name": "stderr",
     "output_type": "stream",
     "text": [
      "*    MEAN WALL CLOCK TIMESTEP CELL  = 7.2613e-05                               *\n"
     ]
    },
    {
     "name": "stderr",
     "output_type": "stream",
     "text": [
      "*                                                                              *\n"
     ]
    },
    {
     "name": "stderr",
     "output_type": "stream",
     "text": [
      "*------------------------------------------------------------------------------*\n"
     ]
    },
    {
     "name": "stderr",
     "output_type": "stream",
     "text": [
      "*                                                                              *\n"
     ]
    },
    {
     "name": "stderr",
     "output_type": "stream",
     "text": [
      "*    CURRENT TIME                   = 5.8428e-02                               *\n"
     ]
    },
    {
     "name": "stderr",
     "output_type": "stream",
     "text": [
      "*    CURRENT DT                     = 1.9163e-03                               *\n"
     ]
    },
    {
     "name": "stderr",
     "output_type": "stream",
     "text": [
      "*    CURRENT STEP                   =     29                                   *\n"
     ]
    },
    {
     "name": "stderr",
     "output_type": "stream",
     "text": [
      "*    WALL CLOCK TIMESTEP            = 1.6079e-03                               *\n"
     ]
    },
    {
     "name": "stderr",
     "output_type": "stream",
     "text": [
      "*    MEAN WALL CLOCK TIMESTEP       = 7.0594e-03                               *\n"
     ]
    },
    {
     "name": "stderr",
     "output_type": "stream",
     "text": [
      "*    WALL CLOCK TIMESTEP CELL       = 1.6079e-05                               *\n"
     ]
    },
    {
     "name": "stderr",
     "output_type": "stream",
     "text": [
      "*    MEAN WALL CLOCK TIMESTEP CELL  = 7.0594e-05                               *\n"
     ]
    },
    {
     "name": "stderr",
     "output_type": "stream",
     "text": [
      "*                                                                              *\n"
     ]
    },
    {
     "name": "stderr",
     "output_type": "stream",
     "text": [
      "*------------------------------------------------------------------------------*\n"
     ]
    },
    {
     "name": "stderr",
     "output_type": "stream",
     "text": [
      "*                                                                              *\n"
     ]
    },
    {
     "name": "stderr",
     "output_type": "stream",
     "text": [
      "*    CURRENT TIME                   = 6.0344e-02                               *\n"
     ]
    },
    {
     "name": "stderr",
     "output_type": "stream",
     "text": [
      "*    CURRENT DT                     = 1.9163e-03                               *\n"
     ]
    },
    {
     "name": "stderr",
     "output_type": "stream",
     "text": [
      "*    CURRENT STEP                   =     30                                   *\n"
     ]
    },
    {
     "name": "stderr",
     "output_type": "stream",
     "text": [
      "*    WALL CLOCK TIMESTEP            = 2.0591e-02                               *\n"
     ]
    },
    {
     "name": "stderr",
     "output_type": "stream",
     "text": [
      "*    MEAN WALL CLOCK TIMESTEP       = 7.5260e-03                               *\n"
     ]
    },
    {
     "name": "stderr",
     "output_type": "stream",
     "text": [
      "*    WALL CLOCK TIMESTEP CELL       = 2.0591e-04                               *\n"
     ]
    },
    {
     "name": "stderr",
     "output_type": "stream",
     "text": [
      "*    MEAN WALL CLOCK TIMESTEP CELL  = 7.5260e-05                               *\n"
     ]
    },
    {
     "name": "stderr",
     "output_type": "stream",
     "text": [
      "*                                                                              *\n"
     ]
    },
    {
     "name": "stderr",
     "output_type": "stream",
     "text": [
      "*------------------------------------------------------------------------------*\n"
     ]
    },
    {
     "name": "stderr",
     "output_type": "stream",
     "text": [
      "*                                                                              *\n"
     ]
    },
    {
     "name": "stderr",
     "output_type": "stream",
     "text": [
      "*    CURRENT TIME                   = 6.2258e-02                               *\n"
     ]
    },
    {
     "name": "stderr",
     "output_type": "stream",
     "text": [
      "*    CURRENT DT                     = 1.9134e-03                               *\n"
     ]
    },
    {
     "name": "stderr",
     "output_type": "stream",
     "text": [
      "*    CURRENT STEP                   =     31                                   *\n"
     ]
    },
    {
     "name": "stderr",
     "output_type": "stream",
     "text": [
      "*    WALL CLOCK TIMESTEP            = 2.1188e-03                               *\n"
     ]
    },
    {
     "name": "stderr",
     "output_type": "stream",
     "text": [
      "*    MEAN WALL CLOCK TIMESTEP       = 7.3458e-03                               *\n"
     ]
    },
    {
     "name": "stderr",
     "output_type": "stream",
     "text": [
      "*    WALL CLOCK TIMESTEP CELL       = 2.1188e-05                               *\n"
     ]
    },
    {
     "name": "stderr",
     "output_type": "stream",
     "text": [
      "*    MEAN WALL CLOCK TIMESTEP CELL  = 7.3458e-05                               *\n"
     ]
    },
    {
     "name": "stderr",
     "output_type": "stream",
     "text": [
      "*                                                                              *\n"
     ]
    },
    {
     "name": "stderr",
     "output_type": "stream",
     "text": [
      "*------------------------------------------------------------------------------*\n"
     ]
    },
    {
     "name": "stderr",
     "output_type": "stream",
     "text": [
      "*                                                                              *\n"
     ]
    },
    {
     "name": "stderr",
     "output_type": "stream",
     "text": [
      "*    CURRENT TIME                   = 6.4170e-02                               *\n"
     ]
    },
    {
     "name": "stderr",
     "output_type": "stream",
     "text": [
      "*    CURRENT DT                     = 1.9122e-03                               *\n"
     ]
    },
    {
     "name": "stderr",
     "output_type": "stream",
     "text": [
      "*    CURRENT STEP                   =     32                                   *\n"
     ]
    },
    {
     "name": "stderr",
     "output_type": "stream",
     "text": [
      "*    WALL CLOCK TIMESTEP            = 1.8659e-03                               *\n"
     ]
    },
    {
     "name": "stderr",
     "output_type": "stream",
     "text": [
      "*    MEAN WALL CLOCK TIMESTEP       = 7.1690e-03                               *\n"
     ]
    },
    {
     "name": "stderr",
     "output_type": "stream",
     "text": [
      "*    WALL CLOCK TIMESTEP CELL       = 1.8659e-05                               *\n"
     ]
    },
    {
     "name": "stderr",
     "output_type": "stream",
     "text": [
      "*    MEAN WALL CLOCK TIMESTEP CELL  = 7.1690e-05                               *\n"
     ]
    },
    {
     "name": "stderr",
     "output_type": "stream",
     "text": [
      "*                                                                              *\n"
     ]
    },
    {
     "name": "stderr",
     "output_type": "stream",
     "text": [
      "*------------------------------------------------------------------------------*\n"
     ]
    },
    {
     "name": "stderr",
     "output_type": "stream",
     "text": [
      "*                                                                              *\n"
     ]
    },
    {
     "name": "stderr",
     "output_type": "stream",
     "text": [
      "*    CURRENT TIME                   = 6.6082e-02                               *\n"
     ]
    },
    {
     "name": "stderr",
     "output_type": "stream",
     "text": [
      "*    CURRENT DT                     = 1.9124e-03                               *\n"
     ]
    },
    {
     "name": "stderr",
     "output_type": "stream",
     "text": [
      "*    CURRENT STEP                   =     33                                   *\n"
     ]
    },
    {
     "name": "stderr",
     "output_type": "stream",
     "text": [
      "*    WALL CLOCK TIMESTEP            = 1.8880e-03                               *\n"
     ]
    },
    {
     "name": "stderr",
     "output_type": "stream",
     "text": [
      "*    MEAN WALL CLOCK TIMESTEP       = 7.0040e-03                               *\n"
     ]
    },
    {
     "name": "stderr",
     "output_type": "stream",
     "text": [
      "*    WALL CLOCK TIMESTEP CELL       = 1.8880e-05                               *\n"
     ]
    },
    {
     "name": "stderr",
     "output_type": "stream",
     "text": [
      "*    MEAN WALL CLOCK TIMESTEP CELL  = 7.0040e-05                               *\n"
     ]
    },
    {
     "name": "stderr",
     "output_type": "stream",
     "text": [
      "*                                                                              *\n"
     ]
    },
    {
     "name": "stderr",
     "output_type": "stream",
     "text": [
      "*------------------------------------------------------------------------------*\n"
     ]
    },
    {
     "name": "stderr",
     "output_type": "stream",
     "text": [
      "*                                                                              *\n"
     ]
    },
    {
     "name": "stderr",
     "output_type": "stream",
     "text": [
      "*    CURRENT TIME                   = 6.7994e-02                               *\n"
     ]
    },
    {
     "name": "stderr",
     "output_type": "stream",
     "text": [
      "*    CURRENT DT                     = 1.9115e-03                               *\n"
     ]
    },
    {
     "name": "stderr",
     "output_type": "stream",
     "text": [
      "*    CURRENT STEP                   =     34                                   *\n"
     ]
    },
    {
     "name": "stderr",
     "output_type": "stream",
     "text": [
      "*    WALL CLOCK TIMESTEP            = 2.3088e-03                               *\n"
     ]
    },
    {
     "name": "stderr",
     "output_type": "stream",
     "text": [
      "*    MEAN WALL CLOCK TIMESTEP       = 6.8617e-03                               *\n"
     ]
    },
    {
     "name": "stderr",
     "output_type": "stream",
     "text": [
      "*    WALL CLOCK TIMESTEP CELL       = 2.3088e-05                               *\n"
     ]
    },
    {
     "name": "stderr",
     "output_type": "stream",
     "text": [
      "*    MEAN WALL CLOCK TIMESTEP CELL  = 6.8617e-05                               *\n"
     ]
    },
    {
     "name": "stderr",
     "output_type": "stream",
     "text": [
      "*                                                                              *\n"
     ]
    },
    {
     "name": "stderr",
     "output_type": "stream",
     "text": [
      "*------------------------------------------------------------------------------*\n"
     ]
    },
    {
     "name": "stderr",
     "output_type": "stream",
     "text": [
      "*                                                                              *\n"
     ]
    },
    {
     "name": "stderr",
     "output_type": "stream",
     "text": [
      "*    CURRENT TIME                   = 6.9904e-02                               *\n"
     ]
    },
    {
     "name": "stderr",
     "output_type": "stream",
     "text": [
      "*    CURRENT DT                     = 1.9098e-03                               *\n"
     ]
    },
    {
     "name": "stderr",
     "output_type": "stream",
     "text": [
      "*    CURRENT STEP                   =     35                                   *\n"
     ]
    },
    {
     "name": "stderr",
     "output_type": "stream",
     "text": [
      "*    WALL CLOCK TIMESTEP            = 2.6171e-03                               *\n"
     ]
    },
    {
     "name": "stderr",
     "output_type": "stream",
     "text": [
      "*    MEAN WALL CLOCK TIMESTEP       = 6.7369e-03                               *\n"
     ]
    },
    {
     "name": "stderr",
     "output_type": "stream",
     "text": [
      "*    WALL CLOCK TIMESTEP CELL       = 2.6171e-05                               *\n"
     ]
    },
    {
     "name": "stderr",
     "output_type": "stream",
     "text": [
      "*    MEAN WALL CLOCK TIMESTEP CELL  = 6.7369e-05                               *\n"
     ]
    },
    {
     "name": "stderr",
     "output_type": "stream",
     "text": [
      "*                                                                              *\n"
     ]
    },
    {
     "name": "stderr",
     "output_type": "stream",
     "text": [
      "*------------------------------------------------------------------------------*\n"
     ]
    },
    {
     "name": "stderr",
     "output_type": "stream",
     "text": [
      "*                                                                              *\n"
     ]
    },
    {
     "name": "stderr",
     "output_type": "stream",
     "text": [
      "*    CURRENT TIME                   = 7.1813e-02                               *\n"
     ]
    },
    {
     "name": "stderr",
     "output_type": "stream",
     "text": [
      "*    CURRENT DT                     = 1.9092e-03                               *\n"
     ]
    },
    {
     "name": "stderr",
     "output_type": "stream",
     "text": [
      "*    CURRENT STEP                   =     36                                   *\n"
     ]
    },
    {
     "name": "stderr",
     "output_type": "stream",
     "text": [
      "*    WALL CLOCK TIMESTEP            = 3.6789e-02                               *\n"
     ]
    },
    {
     "name": "stderr",
     "output_type": "stream",
     "text": [
      "*    MEAN WALL CLOCK TIMESTEP       = 7.5955e-03                               *\n"
     ]
    },
    {
     "name": "stderr",
     "output_type": "stream",
     "text": [
      "*    WALL CLOCK TIMESTEP CELL       = 3.6789e-04                               *\n"
     ]
    },
    {
     "name": "stderr",
     "output_type": "stream",
     "text": [
      "*    MEAN WALL CLOCK TIMESTEP CELL  = 7.5955e-05                               *\n"
     ]
    },
    {
     "name": "stderr",
     "output_type": "stream",
     "text": [
      "*                                                                              *\n"
     ]
    },
    {
     "name": "stderr",
     "output_type": "stream",
     "text": [
      "*------------------------------------------------------------------------------*\n"
     ]
    },
    {
     "name": "stderr",
     "output_type": "stream",
     "text": [
      "*                                                                              *\n"
     ]
    },
    {
     "name": "stderr",
     "output_type": "stream",
     "text": [
      "*    CURRENT TIME                   = 7.3722e-02                               *\n"
     ]
    },
    {
     "name": "stderr",
     "output_type": "stream",
     "text": [
      "*    CURRENT DT                     = 1.9094e-03                               *\n"
     ]
    },
    {
     "name": "stderr",
     "output_type": "stream",
     "text": [
      "*    CURRENT STEP                   =     37                                   *\n"
     ]
    },
    {
     "name": "stderr",
     "output_type": "stream",
     "text": [
      "*    WALL CLOCK TIMESTEP            = 2.3329e-03                               *\n"
     ]
    },
    {
     "name": "stderr",
     "output_type": "stream",
     "text": [
      "*    MEAN WALL CLOCK TIMESTEP       = 7.4493e-03                               *\n"
     ]
    },
    {
     "name": "stderr",
     "output_type": "stream",
     "text": [
      "*    WALL CLOCK TIMESTEP CELL       = 2.3329e-05                               *\n"
     ]
    },
    {
     "name": "stderr",
     "output_type": "stream",
     "text": [
      "*    MEAN WALL CLOCK TIMESTEP CELL  = 7.4493e-05                               *\n"
     ]
    },
    {
     "name": "stderr",
     "output_type": "stream",
     "text": [
      "*                                                                              *\n"
     ]
    },
    {
     "name": "stderr",
     "output_type": "stream",
     "text": [
      "*------------------------------------------------------------------------------*\n"
     ]
    },
    {
     "name": "stderr",
     "output_type": "stream",
     "text": [
      "*                                                                              *\n"
     ]
    },
    {
     "name": "stderr",
     "output_type": "stream",
     "text": [
      "*    CURRENT TIME                   = 7.5631e-02                               *\n"
     ]
    },
    {
     "name": "stderr",
     "output_type": "stream",
     "text": [
      "*    CURRENT DT                     = 1.9085e-03                               *\n"
     ]
    },
    {
     "name": "stderr",
     "output_type": "stream",
     "text": [
      "*    CURRENT STEP                   =     38                                   *\n"
     ]
    },
    {
     "name": "stderr",
     "output_type": "stream",
     "text": [
      "*    WALL CLOCK TIMESTEP            = 2.2471e-03                               *\n"
     ]
    },
    {
     "name": "stderr",
     "output_type": "stream",
     "text": [
      "*    MEAN WALL CLOCK TIMESTEP       = 7.3087e-03                               *\n"
     ]
    },
    {
     "name": "stderr",
     "output_type": "stream",
     "text": [
      "*    WALL CLOCK TIMESTEP CELL       = 2.2471e-05                               *\n"
     ]
    },
    {
     "name": "stderr",
     "output_type": "stream",
     "text": [
      "*    MEAN WALL CLOCK TIMESTEP CELL  = 7.3087e-05                               *\n"
     ]
    },
    {
     "name": "stderr",
     "output_type": "stream",
     "text": [
      "*                                                                              *\n"
     ]
    },
    {
     "name": "stderr",
     "output_type": "stream",
     "text": [
      "*------------------------------------------------------------------------------*\n"
     ]
    },
    {
     "name": "stderr",
     "output_type": "stream",
     "text": [
      "*                                                                              *\n"
     ]
    },
    {
     "name": "stderr",
     "output_type": "stream",
     "text": [
      "*    CURRENT TIME                   = 7.7538e-02                               *\n"
     ]
    },
    {
     "name": "stderr",
     "output_type": "stream",
     "text": [
      "*    CURRENT DT                     = 1.9075e-03                               *\n"
     ]
    },
    {
     "name": "stderr",
     "output_type": "stream",
     "text": [
      "*    CURRENT STEP                   =     39                                   *\n"
     ]
    },
    {
     "name": "stderr",
     "output_type": "stream",
     "text": [
      "*    WALL CLOCK TIMESTEP            = 2.0449e-03                               *\n"
     ]
    },
    {
     "name": "stderr",
     "output_type": "stream",
     "text": [
      "*    MEAN WALL CLOCK TIMESTEP       = 7.1702e-03                               *\n"
     ]
    },
    {
     "name": "stderr",
     "output_type": "stream",
     "text": [
      "*    WALL CLOCK TIMESTEP CELL       = 2.0449e-05                               *\n"
     ]
    },
    {
     "name": "stderr",
     "output_type": "stream",
     "text": [
      "*    MEAN WALL CLOCK TIMESTEP CELL  = 7.1702e-05                               *\n"
     ]
    },
    {
     "name": "stderr",
     "output_type": "stream",
     "text": [
      "*                                                                              *\n"
     ]
    },
    {
     "name": "stderr",
     "output_type": "stream",
     "text": [
      "*------------------------------------------------------------------------------*\n"
     ]
    },
    {
     "name": "stderr",
     "output_type": "stream",
     "text": [
      "*                                                                              *\n"
     ]
    },
    {
     "name": "stderr",
     "output_type": "stream",
     "text": [
      "*    CURRENT TIME                   = 7.9445e-02                               *\n"
     ]
    },
    {
     "name": "stderr",
     "output_type": "stream",
     "text": [
      "*    CURRENT DT                     = 1.9072e-03                               *\n"
     ]
    },
    {
     "name": "stderr",
     "output_type": "stream",
     "text": [
      "*    CURRENT STEP                   =     40                                   *\n"
     ]
    },
    {
     "name": "stderr",
     "output_type": "stream",
     "text": [
      "*    WALL CLOCK TIMESTEP            = 2.1408e-03                               *\n"
     ]
    },
    {
     "name": "stderr",
     "output_type": "stream",
     "text": [
      "*    MEAN WALL CLOCK TIMESTEP       = 7.0412e-03                               *\n"
     ]
    },
    {
     "name": "stderr",
     "output_type": "stream",
     "text": [
      "*    WALL CLOCK TIMESTEP CELL       = 2.1408e-05                               *\n"
     ]
    },
    {
     "name": "stderr",
     "output_type": "stream",
     "text": [
      "*    MEAN WALL CLOCK TIMESTEP CELL  = 7.0412e-05                               *\n"
     ]
    },
    {
     "name": "stderr",
     "output_type": "stream",
     "text": [
      "*                                                                              *\n"
     ]
    },
    {
     "name": "stderr",
     "output_type": "stream",
     "text": [
      "*------------------------------------------------------------------------------*\n"
     ]
    },
    {
     "name": "stderr",
     "output_type": "stream",
     "text": [
      "*                                                                              *\n"
     ]
    },
    {
     "name": "stderr",
     "output_type": "stream",
     "text": [
      "*    CURRENT TIME                   = 8.1353e-02                               *\n"
     ]
    },
    {
     "name": "stderr",
     "output_type": "stream",
     "text": [
      "*    CURRENT DT                     = 1.9074e-03                               *\n"
     ]
    },
    {
     "name": "stderr",
     "output_type": "stream",
     "text": [
      "*    CURRENT STEP                   =     41                                   *\n"
     ]
    },
    {
     "name": "stderr",
     "output_type": "stream",
     "text": [
      "*    WALL CLOCK TIMESTEP            = 2.3427e-02                               *\n"
     ]
    },
    {
     "name": "stderr",
     "output_type": "stream",
     "text": [
      "*    MEAN WALL CLOCK TIMESTEP       = 7.4509e-03                               *\n"
     ]
    },
    {
     "name": "stderr",
     "output_type": "stream",
     "text": [
      "*    WALL CLOCK TIMESTEP CELL       = 2.3427e-04                               *\n"
     ]
    },
    {
     "name": "stderr",
     "output_type": "stream",
     "text": [
      "*    MEAN WALL CLOCK TIMESTEP CELL  = 7.4509e-05                               *\n"
     ]
    },
    {
     "name": "stderr",
     "output_type": "stream",
     "text": [
      "*                                                                              *\n"
     ]
    },
    {
     "name": "stderr",
     "output_type": "stream",
     "text": [
      "*------------------------------------------------------------------------------*\n"
     ]
    },
    {
     "name": "stderr",
     "output_type": "stream",
     "text": [
      "*                                                                              *\n"
     ]
    },
    {
     "name": "stderr",
     "output_type": "stream",
     "text": [
      "*    CURRENT TIME                   = 8.3259e-02                               *\n"
     ]
    },
    {
     "name": "stderr",
     "output_type": "stream",
     "text": [
      "*    CURRENT DT                     = 1.9065e-03                               *\n"
     ]
    },
    {
     "name": "stderr",
     "output_type": "stream",
     "text": [
      "*    CURRENT STEP                   =     42                                   *\n"
     ]
    },
    {
     "name": "stderr",
     "output_type": "stream",
     "text": [
      "*    WALL CLOCK TIMESTEP            = 2.7800e-03                               *\n"
     ]
    },
    {
     "name": "stderr",
     "output_type": "stream",
     "text": [
      "*    MEAN WALL CLOCK TIMESTEP       = 7.3369e-03                               *\n"
     ]
    },
    {
     "name": "stderr",
     "output_type": "stream",
     "text": [
      "*    WALL CLOCK TIMESTEP CELL       = 2.7800e-05                               *\n"
     ]
    },
    {
     "name": "stderr",
     "output_type": "stream",
     "text": [
      "*    MEAN WALL CLOCK TIMESTEP CELL  = 7.3369e-05                               *\n"
     ]
    },
    {
     "name": "stderr",
     "output_type": "stream",
     "text": [
      "*                                                                              *\n"
     ]
    },
    {
     "name": "stderr",
     "output_type": "stream",
     "text": [
      "*------------------------------------------------------------------------------*\n"
     ]
    },
    {
     "name": "stderr",
     "output_type": "stream",
     "text": [
      "*                                                                              *\n"
     ]
    },
    {
     "name": "stderr",
     "output_type": "stream",
     "text": [
      "*    CURRENT TIME                   = 8.5165e-02                               *\n"
     ]
    },
    {
     "name": "stderr",
     "output_type": "stream",
     "text": [
      "*    CURRENT DT                     = 1.9059e-03                               *\n"
     ]
    },
    {
     "name": "stderr",
     "output_type": "stream",
     "text": [
      "*    CURRENT STEP                   =     43                                   *\n"
     ]
    },
    {
     "name": "stderr",
     "output_type": "stream",
     "text": [
      "*    WALL CLOCK TIMESTEP            = 1.8277e-03                               *\n"
     ]
    },
    {
     "name": "stderr",
     "output_type": "stream",
     "text": [
      "*    MEAN WALL CLOCK TIMESTEP       = 7.2058e-03                               *\n"
     ]
    },
    {
     "name": "stderr",
     "output_type": "stream",
     "text": [
      "*    WALL CLOCK TIMESTEP CELL       = 1.8277e-05                               *\n"
     ]
    },
    {
     "name": "stderr",
     "output_type": "stream",
     "text": [
      "*    MEAN WALL CLOCK TIMESTEP CELL  = 7.2058e-05                               *\n"
     ]
    },
    {
     "name": "stderr",
     "output_type": "stream",
     "text": [
      "*                                                                              *\n"
     ]
    },
    {
     "name": "stderr",
     "output_type": "stream",
     "text": [
      "*------------------------------------------------------------------------------*\n"
     ]
    },
    {
     "name": "stderr",
     "output_type": "stream",
     "text": [
      "*                                                                              *\n"
     ]
    },
    {
     "name": "stderr",
     "output_type": "stream",
     "text": [
      "*    CURRENT TIME                   = 8.7071e-02                               *\n"
     ]
    },
    {
     "name": "stderr",
     "output_type": "stream",
     "text": [
      "*    CURRENT DT                     = 1.9058e-03                               *\n"
     ]
    },
    {
     "name": "stderr",
     "output_type": "stream",
     "text": [
      "*    CURRENT STEP                   =     44                                   *\n"
     ]
    },
    {
     "name": "stderr",
     "output_type": "stream",
     "text": [
      "*    WALL CLOCK TIMESTEP            = 2.3212e-03                               *\n"
     ]
    },
    {
     "name": "stderr",
     "output_type": "stream",
     "text": [
      "*    MEAN WALL CLOCK TIMESTEP       = 7.0922e-03                               *\n"
     ]
    },
    {
     "name": "stderr",
     "output_type": "stream",
     "text": [
      "*    WALL CLOCK TIMESTEP CELL       = 2.3212e-05                               *\n"
     ]
    },
    {
     "name": "stderr",
     "output_type": "stream",
     "text": [
      "*    MEAN WALL CLOCK TIMESTEP CELL  = 7.0922e-05                               *\n"
     ]
    },
    {
     "name": "stderr",
     "output_type": "stream",
     "text": [
      "*                                                                              *\n"
     ]
    },
    {
     "name": "stderr",
     "output_type": "stream",
     "text": [
      "*------------------------------------------------------------------------------*\n"
     ]
    },
    {
     "name": "stderr",
     "output_type": "stream",
     "text": [
      "*                                                                              *\n"
     ]
    },
    {
     "name": "stderr",
     "output_type": "stream",
     "text": [
      "*    CURRENT TIME                   = 8.8977e-02                               *\n"
     ]
    },
    {
     "name": "stderr",
     "output_type": "stream",
     "text": [
      "*    CURRENT DT                     = 1.9060e-03                               *\n"
     ]
    },
    {
     "name": "stderr",
     "output_type": "stream",
     "text": [
      "*    CURRENT STEP                   =     45                                   *\n"
     ]
    },
    {
     "name": "stderr",
     "output_type": "stream",
     "text": [
      "*    WALL CLOCK TIMESTEP            = 2.5902e-03                               *\n"
     ]
    },
    {
     "name": "stderr",
     "output_type": "stream",
     "text": [
      "*    MEAN WALL CLOCK TIMESTEP       = 6.9899e-03                               *\n"
     ]
    },
    {
     "name": "stderr",
     "output_type": "stream",
     "text": [
      "*    WALL CLOCK TIMESTEP CELL       = 2.5902e-05                               *\n"
     ]
    },
    {
     "name": "stderr",
     "output_type": "stream",
     "text": [
      "*    MEAN WALL CLOCK TIMESTEP CELL  = 6.9899e-05                               *\n"
     ]
    },
    {
     "name": "stderr",
     "output_type": "stream",
     "text": [
      "*                                                                              *\n"
     ]
    },
    {
     "name": "stderr",
     "output_type": "stream",
     "text": [
      "*------------------------------------------------------------------------------*\n"
     ]
    },
    {
     "name": "stderr",
     "output_type": "stream",
     "text": [
      "*                                                                              *\n"
     ]
    },
    {
     "name": "stderr",
     "output_type": "stream",
     "text": [
      "*    CURRENT TIME                   = 9.0882e-02                               *\n"
     ]
    },
    {
     "name": "stderr",
     "output_type": "stream",
     "text": [
      "*    CURRENT DT                     = 1.9053e-03                               *\n"
     ]
    },
    {
     "name": "stderr",
     "output_type": "stream",
     "text": [
      "*    CURRENT STEP                   =     46                                   *\n"
     ]
    },
    {
     "name": "stderr",
     "output_type": "stream",
     "text": [
      "*    WALL CLOCK TIMESTEP            = 3.1795e-02                               *\n"
     ]
    },
    {
     "name": "stderr",
     "output_type": "stream",
     "text": [
      "*    MEAN WALL CLOCK TIMESTEP       = 7.5411e-03                               *\n"
     ]
    },
    {
     "name": "stderr",
     "output_type": "stream",
     "text": [
      "*    WALL CLOCK TIMESTEP CELL       = 3.1795e-04                               *\n"
     ]
    },
    {
     "name": "stderr",
     "output_type": "stream",
     "text": [
      "*    MEAN WALL CLOCK TIMESTEP CELL  = 7.5411e-05                               *\n"
     ]
    },
    {
     "name": "stderr",
     "output_type": "stream",
     "text": [
      "*                                                                              *\n"
     ]
    },
    {
     "name": "stderr",
     "output_type": "stream",
     "text": [
      "*------------------------------------------------------------------------------*\n"
     ]
    },
    {
     "name": "stderr",
     "output_type": "stream",
     "text": [
      "*                                                                              *\n"
     ]
    },
    {
     "name": "stderr",
     "output_type": "stream",
     "text": [
      "*    CURRENT TIME                   = 9.2787e-02                               *\n"
     ]
    },
    {
     "name": "stderr",
     "output_type": "stream",
     "text": [
      "*    CURRENT DT                     = 1.9050e-03                               *\n"
     ]
    },
    {
     "name": "stderr",
     "output_type": "stream",
     "text": [
      "*    CURRENT STEP                   =     47                                   *\n"
     ]
    },
    {
     "name": "stderr",
     "output_type": "stream",
     "text": [
      "*    WALL CLOCK TIMESTEP            = 2.8930e-03                               *\n"
     ]
    },
    {
     "name": "stderr",
     "output_type": "stream",
     "text": [
      "*    MEAN WALL CLOCK TIMESTEP       = 7.4400e-03                               *\n"
     ]
    },
    {
     "name": "stderr",
     "output_type": "stream",
     "text": [
      "*    WALL CLOCK TIMESTEP CELL       = 2.8930e-05                               *\n"
     ]
    },
    {
     "name": "stderr",
     "output_type": "stream",
     "text": [
      "*    MEAN WALL CLOCK TIMESTEP CELL  = 7.4400e-05                               *\n"
     ]
    },
    {
     "name": "stderr",
     "output_type": "stream",
     "text": [
      "*                                                                              *\n"
     ]
    },
    {
     "name": "stderr",
     "output_type": "stream",
     "text": [
      "*------------------------------------------------------------------------------*\n"
     ]
    },
    {
     "name": "stderr",
     "output_type": "stream",
     "text": [
      "*                                                                              *\n"
     ]
    },
    {
     "name": "stderr",
     "output_type": "stream",
     "text": [
      "*    CURRENT TIME                   = 9.4692e-02                               *\n"
     ]
    },
    {
     "name": "stderr",
     "output_type": "stream",
     "text": [
      "*    CURRENT DT                     = 1.9050e-03                               *\n"
     ]
    },
    {
     "name": "stderr",
     "output_type": "stream",
     "text": [
      "*    CURRENT STEP                   =     48                                   *\n"
     ]
    },
    {
     "name": "stderr",
     "output_type": "stream",
     "text": [
      "*    WALL CLOCK TIMESTEP            = 2.3317e-03                               *\n"
     ]
    },
    {
     "name": "stderr",
     "output_type": "stream",
     "text": [
      "*    MEAN WALL CLOCK TIMESTEP       = 7.3314e-03                               *\n"
     ]
    },
    {
     "name": "stderr",
     "output_type": "stream",
     "text": [
      "*    WALL CLOCK TIMESTEP CELL       = 2.3317e-05                               *\n"
     ]
    },
    {
     "name": "stderr",
     "output_type": "stream",
     "text": [
      "*    MEAN WALL CLOCK TIMESTEP CELL  = 7.3314e-05                               *\n"
     ]
    },
    {
     "name": "stderr",
     "output_type": "stream",
     "text": [
      "*                                                                              *\n"
     ]
    },
    {
     "name": "stderr",
     "output_type": "stream",
     "text": [
      "*------------------------------------------------------------------------------*\n"
     ]
    },
    {
     "name": "stderr",
     "output_type": "stream",
     "text": [
      "*                                                                              *\n"
     ]
    },
    {
     "name": "stderr",
     "output_type": "stream",
     "text": [
      "*    CURRENT TIME                   = 9.6597e-02                               *\n"
     ]
    },
    {
     "name": "stderr",
     "output_type": "stream",
     "text": [
      "*    CURRENT DT                     = 1.9050e-03                               *\n"
     ]
    },
    {
     "name": "stderr",
     "output_type": "stream",
     "text": [
      "*    CURRENT STEP                   =     49                                   *\n"
     ]
    },
    {
     "name": "stderr",
     "output_type": "stream",
     "text": [
      "*    WALL CLOCK TIMESTEP            = 2.5089e-03                               *\n"
     ]
    },
    {
     "name": "stderr",
     "output_type": "stream",
     "text": [
      "*    MEAN WALL CLOCK TIMESTEP       = 7.2309e-03                               *\n"
     ]
    },
    {
     "name": "stderr",
     "output_type": "stream",
     "text": [
      "*    WALL CLOCK TIMESTEP CELL       = 2.5089e-05                               *\n"
     ]
    },
    {
     "name": "stderr",
     "output_type": "stream",
     "text": [
      "*    MEAN WALL CLOCK TIMESTEP CELL  = 7.2309e-05                               *\n"
     ]
    },
    {
     "name": "stderr",
     "output_type": "stream",
     "text": [
      "*                                                                              *\n"
     ]
    },
    {
     "name": "stderr",
     "output_type": "stream",
     "text": [
      "*------------------------------------------------------------------------------*\n"
     ]
    },
    {
     "name": "stderr",
     "output_type": "stream",
     "text": [
      "*                                                                              *\n"
     ]
    },
    {
     "name": "stderr",
     "output_type": "stream",
     "text": [
      "*    CURRENT TIME                   = 9.8502e-02                               *\n"
     ]
    },
    {
     "name": "stderr",
     "output_type": "stream",
     "text": [
      "*    CURRENT DT                     = 1.9046e-03                               *\n"
     ]
    },
    {
     "name": "stderr",
     "output_type": "stream",
     "text": [
      "*    CURRENT STEP                   =     50                                   *\n"
     ]
    },
    {
     "name": "stderr",
     "output_type": "stream",
     "text": [
      "*    WALL CLOCK TIMESTEP            = 2.2268e-03                               *\n"
     ]
    },
    {
     "name": "stderr",
     "output_type": "stream",
     "text": [
      "*    MEAN WALL CLOCK TIMESTEP       = 7.1288e-03                               *\n"
     ]
    },
    {
     "name": "stderr",
     "output_type": "stream",
     "text": [
      "*    WALL CLOCK TIMESTEP CELL       = 2.2268e-05                               *\n"
     ]
    },
    {
     "name": "stderr",
     "output_type": "stream",
     "text": [
      "*    MEAN WALL CLOCK TIMESTEP CELL  = 7.1288e-05                               *\n"
     ]
    },
    {
     "name": "stderr",
     "output_type": "stream",
     "text": [
      "*                                                                              *\n"
     ]
    },
    {
     "name": "stderr",
     "output_type": "stream",
     "text": [
      "*------------------------------------------------------------------------------*\n"
     ]
    },
    {
     "name": "stderr",
     "output_type": "stream",
     "text": [
      "*                                                                              *\n"
     ]
    },
    {
     "name": "stderr",
     "output_type": "stream",
     "text": [
      "*    CURRENT TIME                   = 1.0041e-01                               *\n"
     ]
    },
    {
     "name": "stderr",
     "output_type": "stream",
     "text": [
      "*    CURRENT DT                     = 1.9045e-03                               *\n"
     ]
    },
    {
     "name": "stderr",
     "output_type": "stream",
     "text": [
      "*    CURRENT STEP                   =     51                                   *\n"
     ]
    },
    {
     "name": "stderr",
     "output_type": "stream",
     "text": [
      "*    WALL CLOCK TIMESTEP            = 2.3768e-02                               *\n"
     ]
    },
    {
     "name": "stderr",
     "output_type": "stream",
     "text": [
      "*    MEAN WALL CLOCK TIMESTEP       = 7.4615e-03                               *\n"
     ]
    },
    {
     "name": "stderr",
     "output_type": "stream",
     "text": [
      "*    WALL CLOCK TIMESTEP CELL       = 2.3768e-04                               *\n"
     ]
    },
    {
     "name": "stderr",
     "output_type": "stream",
     "text": [
      "*    MEAN WALL CLOCK TIMESTEP CELL  = 7.4615e-05                               *\n"
     ]
    },
    {
     "name": "stderr",
     "output_type": "stream",
     "text": [
      "*                                                                              *\n"
     ]
    },
    {
     "name": "stderr",
     "output_type": "stream",
     "text": [
      "*------------------------------------------------------------------------------*\n"
     ]
    },
    {
     "name": "stderr",
     "output_type": "stream",
     "text": [
      "*                                                                              *\n"
     ]
    },
    {
     "name": "stderr",
     "output_type": "stream",
     "text": [
      "*    CURRENT TIME                   = 1.0231e-01                               *\n"
     ]
    },
    {
     "name": "stderr",
     "output_type": "stream",
     "text": [
      "*    CURRENT DT                     = 1.9046e-03                               *\n"
     ]
    },
    {
     "name": "stderr",
     "output_type": "stream",
     "text": [
      "*    CURRENT STEP                   =     52                                   *\n"
     ]
    },
    {
     "name": "stderr",
     "output_type": "stream",
     "text": [
      "*    WALL CLOCK TIMESTEP            = 3.1049e-03                               *\n"
     ]
    },
    {
     "name": "stderr",
     "output_type": "stream",
     "text": [
      "*    MEAN WALL CLOCK TIMESTEP       = 7.3761e-03                               *\n"
     ]
    },
    {
     "name": "stderr",
     "output_type": "stream",
     "text": [
      "*    WALL CLOCK TIMESTEP CELL       = 3.1049e-05                               *\n"
     ]
    },
    {
     "name": "stderr",
     "output_type": "stream",
     "text": [
      "*    MEAN WALL CLOCK TIMESTEP CELL  = 7.3761e-05                               *\n"
     ]
    },
    {
     "name": "stderr",
     "output_type": "stream",
     "text": [
      "*                                                                              *\n"
     ]
    },
    {
     "name": "stderr",
     "output_type": "stream",
     "text": [
      "*------------------------------------------------------------------------------*\n"
     ]
    },
    {
     "name": "stderr",
     "output_type": "stream",
     "text": [
      "*                                                                              *\n"
     ]
    },
    {
     "name": "stderr",
     "output_type": "stream",
     "text": [
      "*    CURRENT TIME                   = 1.0422e-01                               *\n"
     ]
    },
    {
     "name": "stderr",
     "output_type": "stream",
     "text": [
      "*    CURRENT DT                     = 1.9045e-03                               *\n"
     ]
    },
    {
     "name": "stderr",
     "output_type": "stream",
     "text": [
      "*    CURRENT STEP                   =     53                                   *\n"
     ]
    },
    {
     "name": "stderr",
     "output_type": "stream",
     "text": [
      "*    WALL CLOCK TIMESTEP            = 2.3229e-03                               *\n"
     ]
    },
    {
     "name": "stderr",
     "output_type": "stream",
     "text": [
      "*    MEAN WALL CLOCK TIMESTEP       = 7.2789e-03                               *\n"
     ]
    },
    {
     "name": "stderr",
     "output_type": "stream",
     "text": [
      "*    WALL CLOCK TIMESTEP CELL       = 2.3229e-05                               *\n"
     ]
    },
    {
     "name": "stderr",
     "output_type": "stream",
     "text": [
      "*    MEAN WALL CLOCK TIMESTEP CELL  = 7.2789e-05                               *\n"
     ]
    },
    {
     "name": "stderr",
     "output_type": "stream",
     "text": [
      "*                                                                              *\n"
     ]
    },
    {
     "name": "stderr",
     "output_type": "stream",
     "text": [
      "*------------------------------------------------------------------------------*\n"
     ]
    },
    {
     "name": "stderr",
     "output_type": "stream",
     "text": [
      "*                                                                              *\n"
     ]
    },
    {
     "name": "stderr",
     "output_type": "stream",
     "text": [
      "*    CURRENT TIME                   = 1.0612e-01                               *\n"
     ]
    },
    {
     "name": "stderr",
     "output_type": "stream",
     "text": [
      "*    CURRENT DT                     = 1.9043e-03                               *\n"
     ]
    },
    {
     "name": "stderr",
     "output_type": "stream",
     "text": [
      "*    CURRENT STEP                   =     54                                   *\n"
     ]
    },
    {
     "name": "stderr",
     "output_type": "stream",
     "text": [
      "*    WALL CLOCK TIMESTEP            = 1.8470e-03                               *\n"
     ]
    },
    {
     "name": "stderr",
     "output_type": "stream",
     "text": [
      "*    MEAN WALL CLOCK TIMESTEP       = 7.1765e-03                               *\n"
     ]
    },
    {
     "name": "stderr",
     "output_type": "stream",
     "text": [
      "*    WALL CLOCK TIMESTEP CELL       = 1.8470e-05                               *\n"
     ]
    },
    {
     "name": "stderr",
     "output_type": "stream",
     "text": [
      "*    MEAN WALL CLOCK TIMESTEP CELL  = 7.1765e-05                               *\n"
     ]
    },
    {
     "name": "stderr",
     "output_type": "stream",
     "text": [
      "*                                                                              *\n"
     ]
    },
    {
     "name": "stderr",
     "output_type": "stream",
     "text": [
      "*------------------------------------------------------------------------------*\n"
     ]
    },
    {
     "name": "stderr",
     "output_type": "stream",
     "text": [
      "*                                                                              *\n"
     ]
    },
    {
     "name": "stderr",
     "output_type": "stream",
     "text": [
      "*    CURRENT TIME                   = 1.0802e-01                               *\n"
     ]
    },
    {
     "name": "stderr",
     "output_type": "stream",
     "text": [
      "*    CURRENT DT                     = 1.9044e-03                               *\n"
     ]
    },
    {
     "name": "stderr",
     "output_type": "stream",
     "text": [
      "*    CURRENT STEP                   =     55                                   *\n"
     ]
    },
    {
     "name": "stderr",
     "output_type": "stream",
     "text": [
      "*    WALL CLOCK TIMESTEP            = 1.9357e-03                               *\n"
     ]
    },
    {
     "name": "stderr",
     "output_type": "stream",
     "text": [
      "*    MEAN WALL CLOCK TIMESTEP       = 7.0794e-03                               *\n"
     ]
    },
    {
     "name": "stderr",
     "output_type": "stream",
     "text": [
      "*    WALL CLOCK TIMESTEP CELL       = 1.9357e-05                               *\n"
     ]
    },
    {
     "name": "stderr",
     "output_type": "stream",
     "text": [
      "*    MEAN WALL CLOCK TIMESTEP CELL  = 7.0794e-05                               *\n"
     ]
    },
    {
     "name": "stderr",
     "output_type": "stream",
     "text": [
      "*                                                                              *\n"
     ]
    },
    {
     "name": "stderr",
     "output_type": "stream",
     "text": [
      "*------------------------------------------------------------------------------*\n"
     ]
    },
    {
     "name": "stderr",
     "output_type": "stream",
     "text": [
      "*                                                                              *\n"
     ]
    },
    {
     "name": "stderr",
     "output_type": "stream",
     "text": [
      "*    CURRENT TIME                   = 1.0993e-01                               *\n"
     ]
    },
    {
     "name": "stderr",
     "output_type": "stream",
     "text": [
      "*    CURRENT DT                     = 1.9044e-03                               *\n"
     ]
    },
    {
     "name": "stderr",
     "output_type": "stream",
     "text": [
      "*    CURRENT STEP                   =     56                                   *\n"
     ]
    },
    {
     "name": "stderr",
     "output_type": "stream",
     "text": [
      "*    WALL CLOCK TIMESTEP            = 7.8259e-03                               *\n"
     ]
    },
    {
     "name": "stderr",
     "output_type": "stream",
     "text": [
      "*    MEAN WALL CLOCK TIMESTEP       = 7.0930e-03                               *\n"
     ]
    },
    {
     "name": "stderr",
     "output_type": "stream",
     "text": [
      "*    WALL CLOCK TIMESTEP CELL       = 7.8259e-05                               *\n"
     ]
    },
    {
     "name": "stderr",
     "output_type": "stream",
     "text": [
      "*    MEAN WALL CLOCK TIMESTEP CELL  = 7.0930e-05                               *\n"
     ]
    },
    {
     "name": "stderr",
     "output_type": "stream",
     "text": [
      "*                                                                              *\n"
     ]
    },
    {
     "name": "stderr",
     "output_type": "stream",
     "text": [
      "*------------------------------------------------------------------------------*\n"
     ]
    },
    {
     "name": "stderr",
     "output_type": "stream",
     "text": [
      "*                                                                              *\n"
     ]
    },
    {
     "name": "stderr",
     "output_type": "stream",
     "text": [
      "*    CURRENT TIME                   = 1.1183e-01                               *\n"
     ]
    },
    {
     "name": "stderr",
     "output_type": "stream",
     "text": [
      "*    CURRENT DT                     = 1.9043e-03                               *\n"
     ]
    },
    {
     "name": "stderr",
     "output_type": "stream",
     "text": [
      "*    CURRENT STEP                   =     57                                   *\n"
     ]
    },
    {
     "name": "stderr",
     "output_type": "stream",
     "text": [
      "*    WALL CLOCK TIMESTEP            = 3.3779e-02                               *\n"
     ]
    },
    {
     "name": "stderr",
     "output_type": "stream",
     "text": [
      "*    MEAN WALL CLOCK TIMESTEP       = 7.5695e-03                               *\n"
     ]
    },
    {
     "name": "stderr",
     "output_type": "stream",
     "text": [
      "*    WALL CLOCK TIMESTEP CELL       = 3.3779e-04                               *\n"
     ]
    },
    {
     "name": "stderr",
     "output_type": "stream",
     "text": [
      "*    MEAN WALL CLOCK TIMESTEP CELL  = 7.5695e-05                               *\n"
     ]
    },
    {
     "name": "stderr",
     "output_type": "stream",
     "text": [
      "*                                                                              *\n"
     ]
    },
    {
     "name": "stderr",
     "output_type": "stream",
     "text": [
      "*------------------------------------------------------------------------------*\n"
     ]
    },
    {
     "name": "stderr",
     "output_type": "stream",
     "text": [
      "*                                                                              *\n"
     ]
    },
    {
     "name": "stderr",
     "output_type": "stream",
     "text": [
      "*    CURRENT TIME                   = 1.1374e-01                               *\n"
     ]
    },
    {
     "name": "stderr",
     "output_type": "stream",
     "text": [
      "*    CURRENT DT                     = 1.9044e-03                               *\n"
     ]
    },
    {
     "name": "stderr",
     "output_type": "stream",
     "text": [
      "*    CURRENT STEP                   =     58                                   *\n"
     ]
    },
    {
     "name": "stderr",
     "output_type": "stream",
     "text": [
      "*    WALL CLOCK TIMESTEP            = 2.5129e-03                               *\n"
     ]
    },
    {
     "name": "stderr",
     "output_type": "stream",
     "text": [
      "*    MEAN WALL CLOCK TIMESTEP       = 7.4808e-03                               *\n"
     ]
    },
    {
     "name": "stderr",
     "output_type": "stream",
     "text": [
      "*    WALL CLOCK TIMESTEP CELL       = 2.5129e-05                               *\n"
     ]
    },
    {
     "name": "stderr",
     "output_type": "stream",
     "text": [
      "*    MEAN WALL CLOCK TIMESTEP CELL  = 7.4808e-05                               *\n"
     ]
    },
    {
     "name": "stderr",
     "output_type": "stream",
     "text": [
      "*                                                                              *\n"
     ]
    },
    {
     "name": "stderr",
     "output_type": "stream",
     "text": [
      "*------------------------------------------------------------------------------*\n"
     ]
    },
    {
     "name": "stderr",
     "output_type": "stream",
     "text": [
      "*                                                                              *\n"
     ]
    },
    {
     "name": "stderr",
     "output_type": "stream",
     "text": [
      "*    CURRENT TIME                   = 1.1564e-01                               *\n"
     ]
    },
    {
     "name": "stderr",
     "output_type": "stream",
     "text": [
      "*    CURRENT DT                     = 1.9045e-03                               *\n"
     ]
    },
    {
     "name": "stderr",
     "output_type": "stream",
     "text": [
      "*    CURRENT STEP                   =     59                                   *\n"
     ]
    },
    {
     "name": "stderr",
     "output_type": "stream",
     "text": [
      "*    WALL CLOCK TIMESTEP            = 2.0061e-03                               *\n"
     ]
    },
    {
     "name": "stderr",
     "output_type": "stream",
     "text": [
      "*    MEAN WALL CLOCK TIMESTEP       = 7.3864e-03                               *\n"
     ]
    },
    {
     "name": "stderr",
     "output_type": "stream",
     "text": [
      "*    WALL CLOCK TIMESTEP CELL       = 2.0061e-05                               *\n"
     ]
    },
    {
     "name": "stderr",
     "output_type": "stream",
     "text": [
      "*    MEAN WALL CLOCK TIMESTEP CELL  = 7.3864e-05                               *\n"
     ]
    },
    {
     "name": "stderr",
     "output_type": "stream",
     "text": [
      "*                                                                              *\n"
     ]
    },
    {
     "name": "stderr",
     "output_type": "stream",
     "text": [
      "*------------------------------------------------------------------------------*\n"
     ]
    },
    {
     "name": "stderr",
     "output_type": "stream",
     "text": [
      "*                                                                              *\n"
     ]
    },
    {
     "name": "stderr",
     "output_type": "stream",
     "text": [
      "*    CURRENT TIME                   = 1.1755e-01                               *\n"
     ]
    },
    {
     "name": "stderr",
     "output_type": "stream",
     "text": [
      "*    CURRENT DT                     = 1.9044e-03                               *\n"
     ]
    },
    {
     "name": "stderr",
     "output_type": "stream",
     "text": [
      "*    CURRENT STEP                   =     60                                   *\n"
     ]
    },
    {
     "name": "stderr",
     "output_type": "stream",
     "text": [
      "*    WALL CLOCK TIMESTEP            = 2.2810e-03                               *\n"
     ]
    },
    {
     "name": "stderr",
     "output_type": "stream",
     "text": [
      "*    MEAN WALL CLOCK TIMESTEP       = 7.2999e-03                               *\n"
     ]
    },
    {
     "name": "stderr",
     "output_type": "stream",
     "text": [
      "*    WALL CLOCK TIMESTEP CELL       = 2.2810e-05                               *\n"
     ]
    },
    {
     "name": "stderr",
     "output_type": "stream",
     "text": [
      "*    MEAN WALL CLOCK TIMESTEP CELL  = 7.2999e-05                               *\n"
     ]
    },
    {
     "name": "stderr",
     "output_type": "stream",
     "text": [
      "*                                                                              *\n"
     ]
    },
    {
     "name": "stderr",
     "output_type": "stream",
     "text": [
      "*------------------------------------------------------------------------------*\n"
     ]
    },
    {
     "name": "stderr",
     "output_type": "stream",
     "text": [
      "*                                                                              *\n"
     ]
    },
    {
     "name": "stderr",
     "output_type": "stream",
     "text": [
      "*    CURRENT TIME                   = 1.1945e-01                               *\n"
     ]
    },
    {
     "name": "stderr",
     "output_type": "stream",
     "text": [
      "*    CURRENT DT                     = 1.9045e-03                               *\n"
     ]
    },
    {
     "name": "stderr",
     "output_type": "stream",
     "text": [
      "*    CURRENT STEP                   =     61                                   *\n"
     ]
    },
    {
     "name": "stderr",
     "output_type": "stream",
     "text": [
      "*    WALL CLOCK TIMESTEP            = 2.3522e-03                               *\n"
     ]
    },
    {
     "name": "stderr",
     "output_type": "stream",
     "text": [
      "*    MEAN WALL CLOCK TIMESTEP       = 7.2174e-03                               *\n"
     ]
    },
    {
     "name": "stderr",
     "output_type": "stream",
     "text": [
      "*    WALL CLOCK TIMESTEP CELL       = 2.3522e-05                               *\n"
     ]
    },
    {
     "name": "stderr",
     "output_type": "stream",
     "text": [
      "*    MEAN WALL CLOCK TIMESTEP CELL  = 7.2174e-05                               *\n"
     ]
    },
    {
     "name": "stderr",
     "output_type": "stream",
     "text": [
      "*                                                                              *\n"
     ]
    },
    {
     "name": "stderr",
     "output_type": "stream",
     "text": [
      "*------------------------------------------------------------------------------*\n"
     ]
    },
    {
     "name": "stderr",
     "output_type": "stream",
     "text": [
      "*                                                                              *\n"
     ]
    },
    {
     "name": "stderr",
     "output_type": "stream",
     "text": [
      "*    CURRENT TIME                   = 1.2136e-01                               *\n"
     ]
    },
    {
     "name": "stderr",
     "output_type": "stream",
     "text": [
      "*    CURRENT DT                     = 1.9046e-03                               *\n"
     ]
    },
    {
     "name": "stderr",
     "output_type": "stream",
     "text": [
      "*    CURRENT STEP                   =     62                                   *\n"
     ]
    },
    {
     "name": "stderr",
     "output_type": "stream",
     "text": [
      "*    WALL CLOCK TIMESTEP            = 2.9830e-02                               *\n"
     ]
    },
    {
     "name": "stderr",
     "output_type": "stream",
     "text": [
      "*    MEAN WALL CLOCK TIMESTEP       = 7.5881e-03                               *\n"
     ]
    },
    {
     "name": "stderr",
     "output_type": "stream",
     "text": [
      "*    WALL CLOCK TIMESTEP CELL       = 2.9830e-04                               *\n"
     ]
    },
    {
     "name": "stderr",
     "output_type": "stream",
     "text": [
      "*    MEAN WALL CLOCK TIMESTEP CELL  = 7.5881e-05                               *\n"
     ]
    },
    {
     "name": "stderr",
     "output_type": "stream",
     "text": [
      "*                                                                              *\n"
     ]
    },
    {
     "name": "stderr",
     "output_type": "stream",
     "text": [
      "*------------------------------------------------------------------------------*\n"
     ]
    },
    {
     "name": "stderr",
     "output_type": "stream",
     "text": [
      "*                                                                              *\n"
     ]
    },
    {
     "name": "stderr",
     "output_type": "stream",
     "text": [
      "*    CURRENT TIME                   = 1.2326e-01                               *\n"
     ]
    },
    {
     "name": "stderr",
     "output_type": "stream",
     "text": [
      "*    CURRENT DT                     = 1.9045e-03                               *\n"
     ]
    },
    {
     "name": "stderr",
     "output_type": "stream",
     "text": [
      "*    CURRENT STEP                   =     63                                   *\n"
     ]
    },
    {
     "name": "stderr",
     "output_type": "stream",
     "text": [
      "*    WALL CLOCK TIMESTEP            = 2.1260e-03                               *\n"
     ]
    },
    {
     "name": "stderr",
     "output_type": "stream",
     "text": [
      "*    MEAN WALL CLOCK TIMESTEP       = 7.5000e-03                               *\n"
     ]
    },
    {
     "name": "stderr",
     "output_type": "stream",
     "text": [
      "*    WALL CLOCK TIMESTEP CELL       = 2.1260e-05                               *\n"
     ]
    },
    {
     "name": "stderr",
     "output_type": "stream",
     "text": [
      "*    MEAN WALL CLOCK TIMESTEP CELL  = 7.5000e-05                               *\n"
     ]
    },
    {
     "name": "stderr",
     "output_type": "stream",
     "text": [
      "*                                                                              *\n"
     ]
    },
    {
     "name": "stderr",
     "output_type": "stream",
     "text": [
      "*------------------------------------------------------------------------------*\n"
     ]
    },
    {
     "name": "stderr",
     "output_type": "stream",
     "text": [
      "*                                                                              *\n"
     ]
    },
    {
     "name": "stderr",
     "output_type": "stream",
     "text": [
      "*    CURRENT TIME                   = 1.2516e-01                               *\n"
     ]
    },
    {
     "name": "stderr",
     "output_type": "stream",
     "text": [
      "*    CURRENT DT                     = 1.9046e-03                               *\n"
     ]
    },
    {
     "name": "stderr",
     "output_type": "stream",
     "text": [
      "*    CURRENT STEP                   =     64                                   *\n"
     ]
    },
    {
     "name": "stderr",
     "output_type": "stream",
     "text": [
      "*    WALL CLOCK TIMESTEP            = 1.7838e-03                               *\n"
     ]
    },
    {
     "name": "stderr",
     "output_type": "stream",
     "text": [
      "*    MEAN WALL CLOCK TIMESTEP       = 7.4093e-03                               *\n"
     ]
    },
    {
     "name": "stderr",
     "output_type": "stream",
     "text": [
      "*    WALL CLOCK TIMESTEP CELL       = 1.7838e-05                               *\n"
     ]
    },
    {
     "name": "stderr",
     "output_type": "stream",
     "text": [
      "*    MEAN WALL CLOCK TIMESTEP CELL  = 7.4093e-05                               *\n"
     ]
    },
    {
     "name": "stderr",
     "output_type": "stream",
     "text": [
      "*                                                                              *\n"
     ]
    },
    {
     "name": "stderr",
     "output_type": "stream",
     "text": [
      "*------------------------------------------------------------------------------*\n"
     ]
    },
    {
     "name": "stderr",
     "output_type": "stream",
     "text": [
      "*                                                                              *\n"
     ]
    },
    {
     "name": "stderr",
     "output_type": "stream",
     "text": [
      "*    CURRENT TIME                   = 1.2707e-01                               *\n"
     ]
    },
    {
     "name": "stderr",
     "output_type": "stream",
     "text": [
      "*    CURRENT DT                     = 1.9047e-03                               *\n"
     ]
    },
    {
     "name": "stderr",
     "output_type": "stream",
     "text": [
      "*    CURRENT STEP                   =     65                                   *\n"
     ]
    },
    {
     "name": "stderr",
     "output_type": "stream",
     "text": [
      "*    WALL CLOCK TIMESTEP            = 2.0962e-03                               *\n"
     ]
    },
    {
     "name": "stderr",
     "output_type": "stream",
     "text": [
      "*    MEAN WALL CLOCK TIMESTEP       = 7.3263e-03                               *\n"
     ]
    },
    {
     "name": "stderr",
     "output_type": "stream",
     "text": [
      "*    WALL CLOCK TIMESTEP CELL       = 2.0962e-05                               *\n"
     ]
    },
    {
     "name": "stderr",
     "output_type": "stream",
     "text": [
      "*    MEAN WALL CLOCK TIMESTEP CELL  = 7.3263e-05                               *\n"
     ]
    },
    {
     "name": "stderr",
     "output_type": "stream",
     "text": [
      "*                                                                              *\n"
     ]
    },
    {
     "name": "stderr",
     "output_type": "stream",
     "text": [
      "*------------------------------------------------------------------------------*\n"
     ]
    },
    {
     "name": "stderr",
     "output_type": "stream",
     "text": [
      "*                                                                              *\n"
     ]
    },
    {
     "name": "stderr",
     "output_type": "stream",
     "text": [
      "*    CURRENT TIME                   = 1.2897e-01                               *\n"
     ]
    },
    {
     "name": "stderr",
     "output_type": "stream",
     "text": [
      "*    CURRENT DT                     = 1.9047e-03                               *\n"
     ]
    },
    {
     "name": "stderr",
     "output_type": "stream",
     "text": [
      "*    CURRENT STEP                   =     66                                   *\n"
     ]
    },
    {
     "name": "stderr",
     "output_type": "stream",
     "text": [
      "*    WALL CLOCK TIMESTEP            = 2.5620e-03                               *\n"
     ]
    },
    {
     "name": "stderr",
     "output_type": "stream",
     "text": [
      "*    MEAN WALL CLOCK TIMESTEP       = 7.2530e-03                               *\n"
     ]
    },
    {
     "name": "stderr",
     "output_type": "stream",
     "text": [
      "*    WALL CLOCK TIMESTEP CELL       = 2.5620e-05                               *\n"
     ]
    },
    {
     "name": "stderr",
     "output_type": "stream",
     "text": [
      "*    MEAN WALL CLOCK TIMESTEP CELL  = 7.2530e-05                               *\n"
     ]
    },
    {
     "name": "stderr",
     "output_type": "stream",
     "text": [
      "*                                                                              *\n"
     ]
    },
    {
     "name": "stderr",
     "output_type": "stream",
     "text": [
      "*------------------------------------------------------------------------------*\n"
     ]
    },
    {
     "name": "stderr",
     "output_type": "stream",
     "text": [
      "*                                                                              *\n"
     ]
    },
    {
     "name": "stderr",
     "output_type": "stream",
     "text": [
      "*    CURRENT TIME                   = 1.3088e-01                               *\n"
     ]
    },
    {
     "name": "stderr",
     "output_type": "stream",
     "text": [
      "*    CURRENT DT                     = 1.9048e-03                               *\n"
     ]
    },
    {
     "name": "stderr",
     "output_type": "stream",
     "text": [
      "*    CURRENT STEP                   =     67                                   *\n"
     ]
    },
    {
     "name": "stderr",
     "output_type": "stream",
     "text": [
      "*    WALL CLOCK TIMESTEP            = 3.6741e-02                               *\n"
     ]
    },
    {
     "name": "stderr",
     "output_type": "stream",
     "text": [
      "*    MEAN WALL CLOCK TIMESTEP       = 7.6998e-03                               *\n"
     ]
    },
    {
     "name": "stderr",
     "output_type": "stream",
     "text": [
      "*    WALL CLOCK TIMESTEP CELL       = 3.6741e-04                               *\n"
     ]
    },
    {
     "name": "stderr",
     "output_type": "stream",
     "text": [
      "*    MEAN WALL CLOCK TIMESTEP CELL  = 7.6998e-05                               *\n"
     ]
    },
    {
     "name": "stderr",
     "output_type": "stream",
     "text": [
      "*                                                                              *\n"
     ]
    },
    {
     "name": "stderr",
     "output_type": "stream",
     "text": [
      "*------------------------------------------------------------------------------*\n"
     ]
    },
    {
     "name": "stderr",
     "output_type": "stream",
     "text": [
      "*                                                                              *\n"
     ]
    },
    {
     "name": "stderr",
     "output_type": "stream",
     "text": [
      "*    CURRENT TIME                   = 1.3278e-01                               *\n"
     ]
    },
    {
     "name": "stderr",
     "output_type": "stream",
     "text": [
      "*    CURRENT DT                     = 1.9049e-03                               *\n"
     ]
    },
    {
     "name": "stderr",
     "output_type": "stream",
     "text": [
      "*    CURRENT STEP                   =     68                                   *\n"
     ]
    },
    {
     "name": "stderr",
     "output_type": "stream",
     "text": [
      "*    WALL CLOCK TIMESTEP            = 2.2819e-03                               *\n"
     ]
    },
    {
     "name": "stderr",
     "output_type": "stream",
     "text": [
      "*    MEAN WALL CLOCK TIMESTEP       = 7.6189e-03                               *\n"
     ]
    },
    {
     "name": "stderr",
     "output_type": "stream",
     "text": [
      "*    WALL CLOCK TIMESTEP CELL       = 2.2819e-05                               *\n"
     ]
    },
    {
     "name": "stderr",
     "output_type": "stream",
     "text": [
      "*    MEAN WALL CLOCK TIMESTEP CELL  = 7.6189e-05                               *\n"
     ]
    },
    {
     "name": "stderr",
     "output_type": "stream",
     "text": [
      "*                                                                              *\n"
     ]
    },
    {
     "name": "stderr",
     "output_type": "stream",
     "text": [
      "*------------------------------------------------------------------------------*\n"
     ]
    },
    {
     "name": "stderr",
     "output_type": "stream",
     "text": [
      "*                                                                              *\n"
     ]
    },
    {
     "name": "stderr",
     "output_type": "stream",
     "text": [
      "*    CURRENT TIME                   = 1.3469e-01                               *\n"
     ]
    },
    {
     "name": "stderr",
     "output_type": "stream",
     "text": [
      "*    CURRENT DT                     = 1.9049e-03                               *\n"
     ]
    },
    {
     "name": "stderr",
     "output_type": "stream",
     "text": [
      "*    CURRENT STEP                   =     69                                   *\n"
     ]
    },
    {
     "name": "stderr",
     "output_type": "stream",
     "text": [
      "*    WALL CLOCK TIMESTEP            = 2.4662e-03                               *\n"
     ]
    },
    {
     "name": "stderr",
     "output_type": "stream",
     "text": [
      "*    MEAN WALL CLOCK TIMESTEP       = 7.5431e-03                               *\n"
     ]
    },
    {
     "name": "stderr",
     "output_type": "stream",
     "text": [
      "*    WALL CLOCK TIMESTEP CELL       = 2.4662e-05                               *\n"
     ]
    },
    {
     "name": "stderr",
     "output_type": "stream",
     "text": [
      "*    MEAN WALL CLOCK TIMESTEP CELL  = 7.5431e-05                               *\n"
     ]
    },
    {
     "name": "stderr",
     "output_type": "stream",
     "text": [
      "*                                                                              *\n"
     ]
    },
    {
     "name": "stderr",
     "output_type": "stream",
     "text": [
      "*------------------------------------------------------------------------------*\n"
     ]
    },
    {
     "name": "stderr",
     "output_type": "stream",
     "text": [
      "*                                                                              *\n"
     ]
    },
    {
     "name": "stderr",
     "output_type": "stream",
     "text": [
      "*    CURRENT TIME                   = 1.3659e-01                               *\n"
     ]
    },
    {
     "name": "stderr",
     "output_type": "stream",
     "text": [
      "*    CURRENT DT                     = 1.9051e-03                               *\n"
     ]
    },
    {
     "name": "stderr",
     "output_type": "stream",
     "text": [
      "*    CURRENT STEP                   =     70                                   *\n"
     ]
    },
    {
     "name": "stderr",
     "output_type": "stream",
     "text": [
      "*    WALL CLOCK TIMESTEP            = 2.3241e-03                               *\n"
     ]
    },
    {
     "name": "stderr",
     "output_type": "stream",
     "text": [
      "*    MEAN WALL CLOCK TIMESTEP       = 7.4675e-03                               *\n"
     ]
    },
    {
     "name": "stderr",
     "output_type": "stream",
     "text": [
      "*    WALL CLOCK TIMESTEP CELL       = 2.3241e-05                               *\n"
     ]
    },
    {
     "name": "stderr",
     "output_type": "stream",
     "text": [
      "*    MEAN WALL CLOCK TIMESTEP CELL  = 7.4675e-05                               *\n"
     ]
    },
    {
     "name": "stderr",
     "output_type": "stream",
     "text": [
      "*                                                                              *\n"
     ]
    },
    {
     "name": "stderr",
     "output_type": "stream",
     "text": [
      "*------------------------------------------------------------------------------*\n"
     ]
    },
    {
     "name": "stderr",
     "output_type": "stream",
     "text": [
      "*                                                                              *\n"
     ]
    },
    {
     "name": "stderr",
     "output_type": "stream",
     "text": [
      "*    CURRENT TIME                   = 1.3850e-01                               *\n"
     ]
    },
    {
     "name": "stderr",
     "output_type": "stream",
     "text": [
      "*    CURRENT DT                     = 1.9051e-03                               *\n"
     ]
    },
    {
     "name": "stderr",
     "output_type": "stream",
     "text": [
      "*    CURRENT STEP                   =     71                                   *\n"
     ]
    },
    {
     "name": "stderr",
     "output_type": "stream",
     "text": [
      "*    WALL CLOCK TIMESTEP            = 1.9901e-03                               *\n"
     ]
    },
    {
     "name": "stderr",
     "output_type": "stream",
     "text": [
      "*    MEAN WALL CLOCK TIMESTEP       = 7.3892e-03                               *\n"
     ]
    },
    {
     "name": "stderr",
     "output_type": "stream",
     "text": [
      "*    WALL CLOCK TIMESTEP CELL       = 1.9901e-05                               *\n"
     ]
    },
    {
     "name": "stderr",
     "output_type": "stream",
     "text": [
      "*    MEAN WALL CLOCK TIMESTEP CELL  = 7.3892e-05                               *\n"
     ]
    },
    {
     "name": "stderr",
     "output_type": "stream",
     "text": [
      "*                                                                              *\n"
     ]
    },
    {
     "name": "stderr",
     "output_type": "stream",
     "text": [
      "*------------------------------------------------------------------------------*\n"
     ]
    },
    {
     "name": "stderr",
     "output_type": "stream",
     "text": [
      "*                                                                              *\n"
     ]
    },
    {
     "name": "stderr",
     "output_type": "stream",
     "text": [
      "*    CURRENT TIME                   = 1.4040e-01                               *\n"
     ]
    },
    {
     "name": "stderr",
     "output_type": "stream",
     "text": [
      "*    CURRENT DT                     = 1.9051e-03                               *\n"
     ]
    },
    {
     "name": "stderr",
     "output_type": "stream",
     "text": [
      "*    CURRENT STEP                   =     72                                   *\n"
     ]
    },
    {
     "name": "stderr",
     "output_type": "stream",
     "text": [
      "*    WALL CLOCK TIMESTEP            = 3.5635e-02                               *\n"
     ]
    },
    {
     "name": "stderr",
     "output_type": "stream",
     "text": [
      "*    MEAN WALL CLOCK TIMESTEP       = 7.7871e-03                               *\n"
     ]
    },
    {
     "name": "stderr",
     "output_type": "stream",
     "text": [
      "*    WALL CLOCK TIMESTEP CELL       = 3.5635e-04                               *\n"
     ]
    },
    {
     "name": "stderr",
     "output_type": "stream",
     "text": [
      "*    MEAN WALL CLOCK TIMESTEP CELL  = 7.7871e-05                               *\n"
     ]
    },
    {
     "name": "stderr",
     "output_type": "stream",
     "text": [
      "*                                                                              *\n"
     ]
    },
    {
     "name": "stderr",
     "output_type": "stream",
     "text": [
      "*------------------------------------------------------------------------------*\n"
     ]
    },
    {
     "name": "stderr",
     "output_type": "stream",
     "text": [
      "*                                                                              *\n"
     ]
    },
    {
     "name": "stderr",
     "output_type": "stream",
     "text": [
      "*    CURRENT TIME                   = 1.4231e-01                               *\n"
     ]
    },
    {
     "name": "stderr",
     "output_type": "stream",
     "text": [
      "*    CURRENT DT                     = 1.9053e-03                               *\n"
     ]
    },
    {
     "name": "stderr",
     "output_type": "stream",
     "text": [
      "*    CURRENT STEP                   =     73                                   *\n"
     ]
    },
    {
     "name": "stderr",
     "output_type": "stream",
     "text": [
      "*    WALL CLOCK TIMESTEP            = 2.3448e-03                               *\n"
     ]
    },
    {
     "name": "stderr",
     "output_type": "stream",
     "text": [
      "*    MEAN WALL CLOCK TIMESTEP       = 7.7115e-03                               *\n"
     ]
    },
    {
     "name": "stderr",
     "output_type": "stream",
     "text": [
      "*    WALL CLOCK TIMESTEP CELL       = 2.3448e-05                               *\n"
     ]
    },
    {
     "name": "stderr",
     "output_type": "stream",
     "text": [
      "*    MEAN WALL CLOCK TIMESTEP CELL  = 7.7115e-05                               *\n"
     ]
    },
    {
     "name": "stderr",
     "output_type": "stream",
     "text": [
      "*                                                                              *\n"
     ]
    },
    {
     "name": "stderr",
     "output_type": "stream",
     "text": [
      "*------------------------------------------------------------------------------*\n"
     ]
    },
    {
     "name": "stderr",
     "output_type": "stream",
     "text": [
      "*                                                                              *\n"
     ]
    },
    {
     "name": "stderr",
     "output_type": "stream",
     "text": [
      "*    CURRENT TIME                   = 1.4421e-01                               *\n"
     ]
    },
    {
     "name": "stderr",
     "output_type": "stream",
     "text": [
      "*    CURRENT DT                     = 1.9052e-03                               *\n"
     ]
    },
    {
     "name": "stderr",
     "output_type": "stream",
     "text": [
      "*    CURRENT STEP                   =     74                                   *\n"
     ]
    },
    {
     "name": "stderr",
     "output_type": "stream",
     "text": [
      "*    WALL CLOCK TIMESTEP            = 2.5189e-03                               *\n"
     ]
    },
    {
     "name": "stderr",
     "output_type": "stream",
     "text": [
      "*    MEAN WALL CLOCK TIMESTEP       = 7.6403e-03                               *\n"
     ]
    },
    {
     "name": "stderr",
     "output_type": "stream",
     "text": [
      "*    WALL CLOCK TIMESTEP CELL       = 2.5189e-05                               *\n"
     ]
    },
    {
     "name": "stderr",
     "output_type": "stream",
     "text": [
      "*    MEAN WALL CLOCK TIMESTEP CELL  = 7.6403e-05                               *\n"
     ]
    },
    {
     "name": "stderr",
     "output_type": "stream",
     "text": [
      "*                                                                              *\n"
     ]
    },
    {
     "name": "stderr",
     "output_type": "stream",
     "text": [
      "*------------------------------------------------------------------------------*\n"
     ]
    },
    {
     "name": "stderr",
     "output_type": "stream",
     "text": [
      "*                                                                              *\n"
     ]
    },
    {
     "name": "stderr",
     "output_type": "stream",
     "text": [
      "*    CURRENT TIME                   = 1.4612e-01                               *\n"
     ]
    },
    {
     "name": "stderr",
     "output_type": "stream",
     "text": [
      "*    CURRENT DT                     = 1.9053e-03                               *\n"
     ]
    },
    {
     "name": "stderr",
     "output_type": "stream",
     "text": [
      "*    CURRENT STEP                   =     75                                   *\n"
     ]
    },
    {
     "name": "stderr",
     "output_type": "stream",
     "text": [
      "*    WALL CLOCK TIMESTEP            = 2.5117e-03                               *\n"
     ]
    },
    {
     "name": "stderr",
     "output_type": "stream",
     "text": [
      "*    MEAN WALL CLOCK TIMESTEP       = 7.5710e-03                               *\n"
     ]
    },
    {
     "name": "stderr",
     "output_type": "stream",
     "text": [
      "*    WALL CLOCK TIMESTEP CELL       = 2.5117e-05                               *\n"
     ]
    },
    {
     "name": "stderr",
     "output_type": "stream",
     "text": [
      "*    MEAN WALL CLOCK TIMESTEP CELL  = 7.5710e-05                               *\n"
     ]
    },
    {
     "name": "stderr",
     "output_type": "stream",
     "text": [
      "*                                                                              *\n"
     ]
    },
    {
     "name": "stderr",
     "output_type": "stream",
     "text": [
      "*------------------------------------------------------------------------------*\n"
     ]
    },
    {
     "name": "stderr",
     "output_type": "stream",
     "text": [
      "*                                                                              *\n"
     ]
    },
    {
     "name": "stderr",
     "output_type": "stream",
     "text": [
      "*    CURRENT TIME                   = 1.4803e-01                               *\n"
     ]
    },
    {
     "name": "stderr",
     "output_type": "stream",
     "text": [
      "*    CURRENT DT                     = 1.9055e-03                               *\n"
     ]
    },
    {
     "name": "stderr",
     "output_type": "stream",
     "text": [
      "*    CURRENT STEP                   =     76                                   *\n"
     ]
    },
    {
     "name": "stderr",
     "output_type": "stream",
     "text": [
      "*    WALL CLOCK TIMESTEP            = 1.7600e-03                               *\n"
     ]
    },
    {
     "name": "stderr",
     "output_type": "stream",
     "text": [
      "*    MEAN WALL CLOCK TIMESTEP       = 7.4936e-03                               *\n"
     ]
    },
    {
     "name": "stderr",
     "output_type": "stream",
     "text": [
      "*    WALL CLOCK TIMESTEP CELL       = 1.7600e-05                               *\n"
     ]
    },
    {
     "name": "stderr",
     "output_type": "stream",
     "text": [
      "*    MEAN WALL CLOCK TIMESTEP CELL  = 7.4936e-05                               *\n"
     ]
    },
    {
     "name": "stderr",
     "output_type": "stream",
     "text": [
      "*                                                                              *\n"
     ]
    },
    {
     "name": "stderr",
     "output_type": "stream",
     "text": [
      "*------------------------------------------------------------------------------*\n"
     ]
    },
    {
     "name": "stderr",
     "output_type": "stream",
     "text": [
      "*                                                                              *\n"
     ]
    },
    {
     "name": "stderr",
     "output_type": "stream",
     "text": [
      "*    CURRENT TIME                   = 1.4993e-01                               *\n"
     ]
    },
    {
     "name": "stderr",
     "output_type": "stream",
     "text": [
      "*    CURRENT DT                     = 1.9054e-03                               *\n"
     ]
    },
    {
     "name": "stderr",
     "output_type": "stream",
     "text": [
      "*    CURRENT STEP                   =     77                                   *\n"
     ]
    },
    {
     "name": "stderr",
     "output_type": "stream",
     "text": [
      "*    WALL CLOCK TIMESTEP            = 1.8318e-03                               *\n"
     ]
    },
    {
     "name": "stderr",
     "output_type": "stream",
     "text": [
      "*    MEAN WALL CLOCK TIMESTEP       = 7.4191e-03                               *\n"
     ]
    },
    {
     "name": "stderr",
     "output_type": "stream",
     "text": [
      "*    WALL CLOCK TIMESTEP CELL       = 1.8318e-05                               *\n"
     ]
    },
    {
     "name": "stderr",
     "output_type": "stream",
     "text": [
      "*    MEAN WALL CLOCK TIMESTEP CELL  = 7.4191e-05                               *\n"
     ]
    },
    {
     "name": "stderr",
     "output_type": "stream",
     "text": [
      "*                                                                              *\n"
     ]
    },
    {
     "name": "stderr",
     "output_type": "stream",
     "text": [
      "*------------------------------------------------------------------------------*\n"
     ]
    },
    {
     "name": "stderr",
     "output_type": "stream",
     "text": [
      "*                                                                              *\n"
     ]
    },
    {
     "name": "stderr",
     "output_type": "stream",
     "text": [
      "*    CURRENT TIME                   = 1.5184e-01                               *\n"
     ]
    },
    {
     "name": "stderr",
     "output_type": "stream",
     "text": [
      "*    CURRENT DT                     = 1.9055e-03                               *\n"
     ]
    },
    {
     "name": "stderr",
     "output_type": "stream",
     "text": [
      "*    CURRENT STEP                   =     78                                   *\n"
     ]
    },
    {
     "name": "stderr",
     "output_type": "stream",
     "text": [
      "*    WALL CLOCK TIMESTEP            = 3.5117e-02                               *\n"
     ]
    },
    {
     "name": "stderr",
     "output_type": "stream",
     "text": [
      "*    MEAN WALL CLOCK TIMESTEP       = 7.7788e-03                               *\n"
     ]
    },
    {
     "name": "stderr",
     "output_type": "stream",
     "text": [
      "*    WALL CLOCK TIMESTEP CELL       = 3.5117e-04                               *\n"
     ]
    },
    {
     "name": "stderr",
     "output_type": "stream",
     "text": [
      "*    MEAN WALL CLOCK TIMESTEP CELL  = 7.7788e-05                               *\n"
     ]
    },
    {
     "name": "stderr",
     "output_type": "stream",
     "text": [
      "*                                                                              *\n"
     ]
    },
    {
     "name": "stderr",
     "output_type": "stream",
     "text": [
      "*------------------------------------------------------------------------------*\n"
     ]
    },
    {
     "name": "stderr",
     "output_type": "stream",
     "text": [
      "*                                                                              *\n"
     ]
    },
    {
     "name": "stderr",
     "output_type": "stream",
     "text": [
      "*    CURRENT TIME                   = 1.5374e-01                               *\n"
     ]
    },
    {
     "name": "stderr",
     "output_type": "stream",
     "text": [
      "*    CURRENT DT                     = 1.9056e-03                               *\n"
     ]
    },
    {
     "name": "stderr",
     "output_type": "stream",
     "text": [
      "*    CURRENT STEP                   =     79                                   *\n"
     ]
    },
    {
     "name": "stderr",
     "output_type": "stream",
     "text": [
      "*    WALL CLOCK TIMESTEP            = 2.5692e-03                               *\n"
     ]
    },
    {
     "name": "stderr",
     "output_type": "stream",
     "text": [
      "*    MEAN WALL CLOCK TIMESTEP       = 7.7120e-03                               *\n"
     ]
    },
    {
     "name": "stderr",
     "output_type": "stream",
     "text": [
      "*    WALL CLOCK TIMESTEP CELL       = 2.5692e-05                               *\n"
     ]
    },
    {
     "name": "stderr",
     "output_type": "stream",
     "text": [
      "*    MEAN WALL CLOCK TIMESTEP CELL  = 7.7120e-05                               *\n"
     ]
    },
    {
     "name": "stderr",
     "output_type": "stream",
     "text": [
      "*                                                                              *\n"
     ]
    },
    {
     "name": "stderr",
     "output_type": "stream",
     "text": [
      "*------------------------------------------------------------------------------*\n"
     ]
    },
    {
     "name": "stderr",
     "output_type": "stream",
     "text": [
      "*                                                                              *\n"
     ]
    },
    {
     "name": "stderr",
     "output_type": "stream",
     "text": [
      "*    CURRENT TIME                   = 1.5565e-01                               *\n"
     ]
    },
    {
     "name": "stderr",
     "output_type": "stream",
     "text": [
      "*    CURRENT DT                     = 1.9056e-03                               *\n"
     ]
    },
    {
     "name": "stderr",
     "output_type": "stream",
     "text": [
      "*    CURRENT STEP                   =     80                                   *\n"
     ]
    },
    {
     "name": "stderr",
     "output_type": "stream",
     "text": [
      "*    WALL CLOCK TIMESTEP            = 2.2118e-03                               *\n"
     ]
    },
    {
     "name": "stderr",
     "output_type": "stream",
     "text": [
      "*    MEAN WALL CLOCK TIMESTEP       = 7.6424e-03                               *\n"
     ]
    },
    {
     "name": "stderr",
     "output_type": "stream",
     "text": [
      "*    WALL CLOCK TIMESTEP CELL       = 2.2118e-05                               *\n"
     ]
    },
    {
     "name": "stderr",
     "output_type": "stream",
     "text": [
      "*    MEAN WALL CLOCK TIMESTEP CELL  = 7.6424e-05                               *\n"
     ]
    },
    {
     "name": "stderr",
     "output_type": "stream",
     "text": [
      "*                                                                              *\n"
     ]
    },
    {
     "name": "stderr",
     "output_type": "stream",
     "text": [
      "*------------------------------------------------------------------------------*\n"
     ]
    },
    {
     "name": "stderr",
     "output_type": "stream",
     "text": [
      "*                                                                              *\n"
     ]
    },
    {
     "name": "stderr",
     "output_type": "stream",
     "text": [
      "*    CURRENT TIME                   = 1.5755e-01                               *\n"
     ]
    },
    {
     "name": "stderr",
     "output_type": "stream",
     "text": [
      "*    CURRENT DT                     = 1.9057e-03                               *\n"
     ]
    },
    {
     "name": "stderr",
     "output_type": "stream",
     "text": [
      "*    CURRENT STEP                   =     81                                   *\n"
     ]
    },
    {
     "name": "stderr",
     "output_type": "stream",
     "text": [
      "*    WALL CLOCK TIMESTEP            = 2.1992e-03                               *\n"
     ]
    },
    {
     "name": "stderr",
     "output_type": "stream",
     "text": [
      "*    MEAN WALL CLOCK TIMESTEP       = 7.5743e-03                               *\n"
     ]
    },
    {
     "name": "stderr",
     "output_type": "stream",
     "text": [
      "*    WALL CLOCK TIMESTEP CELL       = 2.1992e-05                               *\n"
     ]
    },
    {
     "name": "stderr",
     "output_type": "stream",
     "text": [
      "*    MEAN WALL CLOCK TIMESTEP CELL  = 7.5743e-05                               *\n"
     ]
    },
    {
     "name": "stderr",
     "output_type": "stream",
     "text": [
      "*                                                                              *\n"
     ]
    },
    {
     "name": "stderr",
     "output_type": "stream",
     "text": [
      "*------------------------------------------------------------------------------*\n"
     ]
    },
    {
     "name": "stderr",
     "output_type": "stream",
     "text": [
      "*                                                                              *\n"
     ]
    },
    {
     "name": "stderr",
     "output_type": "stream",
     "text": [
      "*    CURRENT TIME                   = 1.5946e-01                               *\n"
     ]
    },
    {
     "name": "stderr",
     "output_type": "stream",
     "text": [
      "*    CURRENT DT                     = 1.9058e-03                               *\n"
     ]
    },
    {
     "name": "stderr",
     "output_type": "stream",
     "text": [
      "*    CURRENT STEP                   =     82                                   *\n"
     ]
    },
    {
     "name": "stderr",
     "output_type": "stream",
     "text": [
      "*    WALL CLOCK TIMESTEP            = 2.2659e-03                               *\n"
     ]
    },
    {
     "name": "stderr",
     "output_type": "stream",
     "text": [
      "*    MEAN WALL CLOCK TIMESTEP       = 7.5088e-03                               *\n"
     ]
    },
    {
     "name": "stderr",
     "output_type": "stream",
     "text": [
      "*    WALL CLOCK TIMESTEP CELL       = 2.2659e-05                               *\n"
     ]
    },
    {
     "name": "stderr",
     "output_type": "stream",
     "text": [
      "*    MEAN WALL CLOCK TIMESTEP CELL  = 7.5088e-05                               *\n"
     ]
    },
    {
     "name": "stderr",
     "output_type": "stream",
     "text": [
      "*                                                                              *\n"
     ]
    },
    {
     "name": "stderr",
     "output_type": "stream",
     "text": [
      "*------------------------------------------------------------------------------*\n"
     ]
    },
    {
     "name": "stderr",
     "output_type": "stream",
     "text": [
      "*                                                                              *\n"
     ]
    },
    {
     "name": "stderr",
     "output_type": "stream",
     "text": [
      "*    CURRENT TIME                   = 1.6136e-01                               *\n"
     ]
    },
    {
     "name": "stderr",
     "output_type": "stream",
     "text": [
      "*    CURRENT DT                     = 1.9057e-03                               *\n"
     ]
    },
    {
     "name": "stderr",
     "output_type": "stream",
     "text": [
      "*    CURRENT STEP                   =     83                                   *\n"
     ]
    },
    {
     "name": "stderr",
     "output_type": "stream",
     "text": [
      "*    WALL CLOCK TIMESTEP            = 2.7457e-02                               *\n"
     ]
    },
    {
     "name": "stderr",
     "output_type": "stream",
     "text": [
      "*    MEAN WALL CLOCK TIMESTEP       = 7.7521e-03                               *\n"
     ]
    },
    {
     "name": "stderr",
     "output_type": "stream",
     "text": [
      "*    WALL CLOCK TIMESTEP CELL       = 2.7457e-04                               *\n"
     ]
    },
    {
     "name": "stderr",
     "output_type": "stream",
     "text": [
      "*    MEAN WALL CLOCK TIMESTEP CELL  = 7.7521e-05                               *\n"
     ]
    },
    {
     "name": "stderr",
     "output_type": "stream",
     "text": [
      "*                                                                              *\n"
     ]
    },
    {
     "name": "stderr",
     "output_type": "stream",
     "text": [
      "*------------------------------------------------------------------------------*\n"
     ]
    },
    {
     "name": "stderr",
     "output_type": "stream",
     "text": [
      "*                                                                              *\n"
     ]
    },
    {
     "name": "stderr",
     "output_type": "stream",
     "text": [
      "*    CURRENT TIME                   = 1.6327e-01                               *\n"
     ]
    },
    {
     "name": "stderr",
     "output_type": "stream",
     "text": [
      "*    CURRENT DT                     = 1.9058e-03                               *\n"
     ]
    },
    {
     "name": "stderr",
     "output_type": "stream",
     "text": [
      "*    CURRENT STEP                   =     84                                   *\n"
     ]
    },
    {
     "name": "stderr",
     "output_type": "stream",
     "text": [
      "*    WALL CLOCK TIMESTEP            = 2.4488e-03                               *\n"
     ]
    },
    {
     "name": "stderr",
     "output_type": "stream",
     "text": [
      "*    MEAN WALL CLOCK TIMESTEP       = 7.6882e-03                               *\n"
     ]
    },
    {
     "name": "stderr",
     "output_type": "stream",
     "text": [
      "*    WALL CLOCK TIMESTEP CELL       = 2.4488e-05                               *\n"
     ]
    },
    {
     "name": "stderr",
     "output_type": "stream",
     "text": [
      "*    MEAN WALL CLOCK TIMESTEP CELL  = 7.6882e-05                               *\n"
     ]
    },
    {
     "name": "stderr",
     "output_type": "stream",
     "text": [
      "*                                                                              *\n"
     ]
    },
    {
     "name": "stderr",
     "output_type": "stream",
     "text": [
      "*------------------------------------------------------------------------------*\n"
     ]
    },
    {
     "name": "stderr",
     "output_type": "stream",
     "text": [
      "*                                                                              *\n"
     ]
    },
    {
     "name": "stderr",
     "output_type": "stream",
     "text": [
      "*    CURRENT TIME                   = 1.6518e-01                               *\n"
     ]
    },
    {
     "name": "stderr",
     "output_type": "stream",
     "text": [
      "*    CURRENT DT                     = 1.9059e-03                               *\n"
     ]
    },
    {
     "name": "stderr",
     "output_type": "stream",
     "text": [
      "*    CURRENT STEP                   =     85                                   *\n"
     ]
    },
    {
     "name": "stderr",
     "output_type": "stream",
     "text": [
      "*    WALL CLOCK TIMESTEP            = 1.7300e-03                               *\n"
     ]
    },
    {
     "name": "stderr",
     "output_type": "stream",
     "text": [
      "*    MEAN WALL CLOCK TIMESTEP       = 7.6172e-03                               *\n"
     ]
    },
    {
     "name": "stderr",
     "output_type": "stream",
     "text": [
      "*    WALL CLOCK TIMESTEP CELL       = 1.7300e-05                               *\n"
     ]
    },
    {
     "name": "stderr",
     "output_type": "stream",
     "text": [
      "*    MEAN WALL CLOCK TIMESTEP CELL  = 7.6172e-05                               *\n"
     ]
    },
    {
     "name": "stderr",
     "output_type": "stream",
     "text": [
      "*                                                                              *\n"
     ]
    },
    {
     "name": "stderr",
     "output_type": "stream",
     "text": [
      "*------------------------------------------------------------------------------*\n"
     ]
    },
    {
     "name": "stderr",
     "output_type": "stream",
     "text": [
      "*                                                                              *\n"
     ]
    },
    {
     "name": "stderr",
     "output_type": "stream",
     "text": [
      "*    CURRENT TIME                   = 1.6708e-01                               *\n"
     ]
    },
    {
     "name": "stderr",
     "output_type": "stream",
     "text": [
      "*    CURRENT DT                     = 1.9059e-03                               *\n"
     ]
    },
    {
     "name": "stderr",
     "output_type": "stream",
     "text": [
      "*    CURRENT STEP                   =     86                                   *\n"
     ]
    },
    {
     "name": "stderr",
     "output_type": "stream",
     "text": [
      "*    WALL CLOCK TIMESTEP            = 2.1560e-03                               *\n"
     ]
    },
    {
     "name": "stderr",
     "output_type": "stream",
     "text": [
      "*    MEAN WALL CLOCK TIMESTEP       = 7.5530e-03                               *\n"
     ]
    },
    {
     "name": "stderr",
     "output_type": "stream",
     "text": [
      "*    WALL CLOCK TIMESTEP CELL       = 2.1560e-05                               *\n"
     ]
    },
    {
     "name": "stderr",
     "output_type": "stream",
     "text": [
      "*    MEAN WALL CLOCK TIMESTEP CELL  = 7.5530e-05                               *\n"
     ]
    },
    {
     "name": "stderr",
     "output_type": "stream",
     "text": [
      "*                                                                              *\n"
     ]
    },
    {
     "name": "stderr",
     "output_type": "stream",
     "text": [
      "*------------------------------------------------------------------------------*\n"
     ]
    },
    {
     "name": "stderr",
     "output_type": "stream",
     "text": [
      "*                                                                              *\n"
     ]
    },
    {
     "name": "stderr",
     "output_type": "stream",
     "text": [
      "*    CURRENT TIME                   = 1.6899e-01                               *\n"
     ]
    },
    {
     "name": "stderr",
     "output_type": "stream",
     "text": [
      "*    CURRENT DT                     = 1.9060e-03                               *\n"
     ]
    },
    {
     "name": "stderr",
     "output_type": "stream",
     "text": [
      "*    CURRENT STEP                   =     87                                   *\n"
     ]
    },
    {
     "name": "stderr",
     "output_type": "stream",
     "text": [
      "*    WALL CLOCK TIMESTEP            = 2.1393e-03                               *\n"
     ]
    },
    {
     "name": "stderr",
     "output_type": "stream",
     "text": [
      "*    MEAN WALL CLOCK TIMESTEP       = 7.4900e-03                               *\n"
     ]
    },
    {
     "name": "stderr",
     "output_type": "stream",
     "text": [
      "*    WALL CLOCK TIMESTEP CELL       = 2.1393e-05                               *\n"
     ]
    },
    {
     "name": "stderr",
     "output_type": "stream",
     "text": [
      "*    MEAN WALL CLOCK TIMESTEP CELL  = 7.4900e-05                               *\n"
     ]
    },
    {
     "name": "stderr",
     "output_type": "stream",
     "text": [
      "*                                                                              *\n"
     ]
    },
    {
     "name": "stderr",
     "output_type": "stream",
     "text": [
      "*------------------------------------------------------------------------------*\n"
     ]
    },
    {
     "name": "stderr",
     "output_type": "stream",
     "text": [
      "*                                                                              *\n"
     ]
    },
    {
     "name": "stderr",
     "output_type": "stream",
     "text": [
      "*    CURRENT TIME                   = 1.7089e-01                               *\n"
     ]
    },
    {
     "name": "stderr",
     "output_type": "stream",
     "text": [
      "*    CURRENT DT                     = 1.9061e-03                               *\n"
     ]
    },
    {
     "name": "stderr",
     "output_type": "stream",
     "text": [
      "*    CURRENT STEP                   =     88                                   *\n"
     ]
    },
    {
     "name": "stderr",
     "output_type": "stream",
     "text": [
      "*    WALL CLOCK TIMESTEP            = 3.1974e-02                               *\n"
     ]
    },
    {
     "name": "stderr",
     "output_type": "stream",
     "text": [
      "*    MEAN WALL CLOCK TIMESTEP       = 7.7715e-03                               *\n"
     ]
    },
    {
     "name": "stderr",
     "output_type": "stream",
     "text": [
      "*    WALL CLOCK TIMESTEP CELL       = 3.1974e-04                               *\n"
     ]
    },
    {
     "name": "stderr",
     "output_type": "stream",
     "text": [
      "*    MEAN WALL CLOCK TIMESTEP CELL  = 7.7715e-05                               *\n"
     ]
    },
    {
     "name": "stderr",
     "output_type": "stream",
     "text": [
      "*                                                                              *\n"
     ]
    },
    {
     "name": "stderr",
     "output_type": "stream",
     "text": [
      "*------------------------------------------------------------------------------*\n"
     ]
    },
    {
     "name": "stderr",
     "output_type": "stream",
     "text": [
      "*                                                                              *\n"
     ]
    },
    {
     "name": "stderr",
     "output_type": "stream",
     "text": [
      "*    CURRENT TIME                   = 1.7280e-01                               *\n"
     ]
    },
    {
     "name": "stderr",
     "output_type": "stream",
     "text": [
      "*    CURRENT DT                     = 1.9060e-03                               *\n"
     ]
    },
    {
     "name": "stderr",
     "output_type": "stream",
     "text": [
      "*    CURRENT STEP                   =     89                                   *\n"
     ]
    },
    {
     "name": "stderr",
     "output_type": "stream",
     "text": [
      "*    WALL CLOCK TIMESTEP            = 2.0728e-03                               *\n"
     ]
    },
    {
     "name": "stderr",
     "output_type": "stream",
     "text": [
      "*    MEAN WALL CLOCK TIMESTEP       = 7.7067e-03                               *\n"
     ]
    },
    {
     "name": "stderr",
     "output_type": "stream",
     "text": [
      "*    WALL CLOCK TIMESTEP CELL       = 2.0728e-05                               *\n"
     ]
    },
    {
     "name": "stderr",
     "output_type": "stream",
     "text": [
      "*    MEAN WALL CLOCK TIMESTEP CELL  = 7.7067e-05                               *\n"
     ]
    },
    {
     "name": "stderr",
     "output_type": "stream",
     "text": [
      "*                                                                              *\n"
     ]
    },
    {
     "name": "stderr",
     "output_type": "stream",
     "text": [
      "*------------------------------------------------------------------------------*\n"
     ]
    },
    {
     "name": "stderr",
     "output_type": "stream",
     "text": [
      "*                                                                              *\n"
     ]
    },
    {
     "name": "stderr",
     "output_type": "stream",
     "text": [
      "*    CURRENT TIME                   = 1.7471e-01                               *\n"
     ]
    },
    {
     "name": "stderr",
     "output_type": "stream",
     "text": [
      "*    CURRENT DT                     = 1.9061e-03                               *\n"
     ]
    },
    {
     "name": "stderr",
     "output_type": "stream",
     "text": [
      "*    CURRENT STEP                   =     90                                   *\n"
     ]
    },
    {
     "name": "stderr",
     "output_type": "stream",
     "text": [
      "*    WALL CLOCK TIMESTEP            = 2.2101e-03                               *\n"
     ]
    },
    {
     "name": "stderr",
     "output_type": "stream",
     "text": [
      "*    MEAN WALL CLOCK TIMESTEP       = 7.6449e-03                               *\n"
     ]
    },
    {
     "name": "stderr",
     "output_type": "stream",
     "text": [
      "*    WALL CLOCK TIMESTEP CELL       = 2.2101e-05                               *\n"
     ]
    },
    {
     "name": "stderr",
     "output_type": "stream",
     "text": [
      "*    MEAN WALL CLOCK TIMESTEP CELL  = 7.6449e-05                               *\n"
     ]
    },
    {
     "name": "stderr",
     "output_type": "stream",
     "text": [
      "*                                                                              *\n"
     ]
    },
    {
     "name": "stderr",
     "output_type": "stream",
     "text": [
      "*------------------------------------------------------------------------------*\n"
     ]
    },
    {
     "name": "stderr",
     "output_type": "stream",
     "text": [
      "*                                                                              *\n"
     ]
    },
    {
     "name": "stderr",
     "output_type": "stream",
     "text": [
      "*    CURRENT TIME                   = 1.7661e-01                               *\n"
     ]
    },
    {
     "name": "stderr",
     "output_type": "stream",
     "text": [
      "*    CURRENT DT                     = 1.9062e-03                               *\n"
     ]
    },
    {
     "name": "stderr",
     "output_type": "stream",
     "text": [
      "*    CURRENT STEP                   =     91                                   *\n"
     ]
    },
    {
     "name": "stderr",
     "output_type": "stream",
     "text": [
      "*    WALL CLOCK TIMESTEP            = 1.8773e-03                               *\n"
     ]
    },
    {
     "name": "stderr",
     "output_type": "stream",
     "text": [
      "*    MEAN WALL CLOCK TIMESTEP       = 7.5809e-03                               *\n"
     ]
    },
    {
     "name": "stderr",
     "output_type": "stream",
     "text": [
      "*    WALL CLOCK TIMESTEP CELL       = 1.8773e-05                               *\n"
     ]
    },
    {
     "name": "stderr",
     "output_type": "stream",
     "text": [
      "*    MEAN WALL CLOCK TIMESTEP CELL  = 7.5809e-05                               *\n"
     ]
    },
    {
     "name": "stderr",
     "output_type": "stream",
     "text": [
      "*                                                                              *\n"
     ]
    },
    {
     "name": "stderr",
     "output_type": "stream",
     "text": [
      "*------------------------------------------------------------------------------*\n"
     ]
    },
    {
     "name": "stderr",
     "output_type": "stream",
     "text": [
      "*                                                                              *\n"
     ]
    },
    {
     "name": "stderr",
     "output_type": "stream",
     "text": [
      "*    CURRENT TIME                   = 1.7852e-01                               *\n"
     ]
    },
    {
     "name": "stderr",
     "output_type": "stream",
     "text": [
      "*    CURRENT DT                     = 1.9062e-03                               *\n"
     ]
    },
    {
     "name": "stderr",
     "output_type": "stream",
     "text": [
      "*    CURRENT STEP                   =     92                                   *\n"
     ]
    },
    {
     "name": "stderr",
     "output_type": "stream",
     "text": [
      "*    WALL CLOCK TIMESTEP            = 2.0869e-03                               *\n"
     ]
    },
    {
     "name": "stderr",
     "output_type": "stream",
     "text": [
      "*    MEAN WALL CLOCK TIMESTEP       = 7.5205e-03                               *\n"
     ]
    },
    {
     "name": "stderr",
     "output_type": "stream",
     "text": [
      "*    WALL CLOCK TIMESTEP CELL       = 2.0869e-05                               *\n"
     ]
    },
    {
     "name": "stderr",
     "output_type": "stream",
     "text": [
      "*    MEAN WALL CLOCK TIMESTEP CELL  = 7.5205e-05                               *\n"
     ]
    },
    {
     "name": "stderr",
     "output_type": "stream",
     "text": [
      "*                                                                              *\n"
     ]
    },
    {
     "name": "stderr",
     "output_type": "stream",
     "text": [
      "*------------------------------------------------------------------------------*\n"
     ]
    },
    {
     "name": "stderr",
     "output_type": "stream",
     "text": [
      "*                                                                              *\n"
     ]
    },
    {
     "name": "stderr",
     "output_type": "stream",
     "text": [
      "*    CURRENT TIME                   = 1.8042e-01                               *\n"
     ]
    },
    {
     "name": "stderr",
     "output_type": "stream",
     "text": [
      "*    CURRENT DT                     = 1.9062e-03                               *\n"
     ]
    },
    {
     "name": "stderr",
     "output_type": "stream",
     "text": [
      "*    CURRENT STEP                   =     93                                   *\n"
     ]
    },
    {
     "name": "stderr",
     "output_type": "stream",
     "text": [
      "*    WALL CLOCK TIMESTEP            = 3.6461e-02                               *\n"
     ]
    },
    {
     "name": "stderr",
     "output_type": "stream",
     "text": [
      "*    MEAN WALL CLOCK TIMESTEP       = 7.8351e-03                               *\n"
     ]
    },
    {
     "name": "stderr",
     "output_type": "stream",
     "text": [
      "*    WALL CLOCK TIMESTEP CELL       = 3.6461e-04                               *\n"
     ]
    },
    {
     "name": "stderr",
     "output_type": "stream",
     "text": [
      "*    MEAN WALL CLOCK TIMESTEP CELL  = 7.8351e-05                               *\n"
     ]
    },
    {
     "name": "stderr",
     "output_type": "stream",
     "text": [
      "*                                                                              *\n"
     ]
    },
    {
     "name": "stderr",
     "output_type": "stream",
     "text": [
      "*------------------------------------------------------------------------------*\n"
     ]
    },
    {
     "name": "stderr",
     "output_type": "stream",
     "text": [
      "*                                                                              *\n"
     ]
    },
    {
     "name": "stderr",
     "output_type": "stream",
     "text": [
      "*    CURRENT TIME                   = 1.8233e-01                               *\n"
     ]
    },
    {
     "name": "stderr",
     "output_type": "stream",
     "text": [
      "*    CURRENT DT                     = 1.9064e-03                               *\n"
     ]
    },
    {
     "name": "stderr",
     "output_type": "stream",
     "text": [
      "*    CURRENT STEP                   =     94                                   *\n"
     ]
    },
    {
     "name": "stderr",
     "output_type": "stream",
     "text": [
      "*    WALL CLOCK TIMESTEP            = 2.3177e-03                               *\n"
     ]
    },
    {
     "name": "stderr",
     "output_type": "stream",
     "text": [
      "*    MEAN WALL CLOCK TIMESTEP       = 7.7757e-03                               *\n"
     ]
    },
    {
     "name": "stderr",
     "output_type": "stream",
     "text": [
      "*    WALL CLOCK TIMESTEP CELL       = 2.3177e-05                               *\n"
     ]
    },
    {
     "name": "stderr",
     "output_type": "stream",
     "text": [
      "*    MEAN WALL CLOCK TIMESTEP CELL  = 7.7757e-05                               *\n"
     ]
    },
    {
     "name": "stderr",
     "output_type": "stream",
     "text": [
      "*                                                                              *\n"
     ]
    },
    {
     "name": "stderr",
     "output_type": "stream",
     "text": [
      "*------------------------------------------------------------------------------*\n"
     ]
    },
    {
     "name": "stderr",
     "output_type": "stream",
     "text": [
      "*                                                                              *\n"
     ]
    },
    {
     "name": "stderr",
     "output_type": "stream",
     "text": [
      "*    CURRENT TIME                   = 1.8424e-01                               *\n"
     ]
    },
    {
     "name": "stderr",
     "output_type": "stream",
     "text": [
      "*    CURRENT DT                     = 1.9063e-03                               *\n"
     ]
    },
    {
     "name": "stderr",
     "output_type": "stream",
     "text": [
      "*    CURRENT STEP                   =     95                                   *\n"
     ]
    },
    {
     "name": "stderr",
     "output_type": "stream",
     "text": [
      "*    WALL CLOCK TIMESTEP            = 2.4371e-03                               *\n"
     ]
    },
    {
     "name": "stderr",
     "output_type": "stream",
     "text": [
      "*    MEAN WALL CLOCK TIMESTEP       = 7.7189e-03                               *\n"
     ]
    },
    {
     "name": "stderr",
     "output_type": "stream",
     "text": [
      "*    WALL CLOCK TIMESTEP CELL       = 2.4371e-05                               *\n"
     ]
    },
    {
     "name": "stderr",
     "output_type": "stream",
     "text": [
      "*    MEAN WALL CLOCK TIMESTEP CELL  = 7.7189e-05                               *\n"
     ]
    },
    {
     "name": "stderr",
     "output_type": "stream",
     "text": [
      "*                                                                              *\n"
     ]
    },
    {
     "name": "stderr",
     "output_type": "stream",
     "text": [
      "*------------------------------------------------------------------------------*\n"
     ]
    },
    {
     "name": "stderr",
     "output_type": "stream",
     "text": [
      "*                                                                              *\n"
     ]
    },
    {
     "name": "stderr",
     "output_type": "stream",
     "text": [
      "*    CURRENT TIME                   = 1.8614e-01                               *\n"
     ]
    },
    {
     "name": "stderr",
     "output_type": "stream",
     "text": [
      "*    CURRENT DT                     = 1.9064e-03                               *\n"
     ]
    },
    {
     "name": "stderr",
     "output_type": "stream",
     "text": [
      "*    CURRENT STEP                   =     96                                   *\n"
     ]
    },
    {
     "name": "stderr",
     "output_type": "stream",
     "text": [
      "*    WALL CLOCK TIMESTEP            = 1.7478e-03                               *\n"
     ]
    },
    {
     "name": "stderr",
     "output_type": "stream",
     "text": [
      "*    MEAN WALL CLOCK TIMESTEP       = 7.6561e-03                               *\n"
     ]
    },
    {
     "name": "stderr",
     "output_type": "stream",
     "text": [
      "*    WALL CLOCK TIMESTEP CELL       = 1.7478e-05                               *\n"
     ]
    },
    {
     "name": "stderr",
     "output_type": "stream",
     "text": [
      "*    MEAN WALL CLOCK TIMESTEP CELL  = 7.6561e-05                               *\n"
     ]
    },
    {
     "name": "stderr",
     "output_type": "stream",
     "text": [
      "*                                                                              *\n"
     ]
    },
    {
     "name": "stderr",
     "output_type": "stream",
     "text": [
      "*------------------------------------------------------------------------------*\n"
     ]
    },
    {
     "name": "stderr",
     "output_type": "stream",
     "text": [
      "*                                                                              *\n"
     ]
    },
    {
     "name": "stderr",
     "output_type": "stream",
     "text": [
      "*    CURRENT TIME                   = 1.8805e-01                               *\n"
     ]
    },
    {
     "name": "stderr",
     "output_type": "stream",
     "text": [
      "*    CURRENT DT                     = 1.9065e-03                               *\n"
     ]
    },
    {
     "name": "stderr",
     "output_type": "stream",
     "text": [
      "*    CURRENT STEP                   =     97                                   *\n"
     ]
    },
    {
     "name": "stderr",
     "output_type": "stream",
     "text": [
      "*    WALL CLOCK TIMESTEP            = 2.1341e-03                               *\n"
     ]
    },
    {
     "name": "stderr",
     "output_type": "stream",
     "text": [
      "*    MEAN WALL CLOCK TIMESTEP       = 7.5986e-03                               *\n"
     ]
    },
    {
     "name": "stderr",
     "output_type": "stream",
     "text": [
      "*    WALL CLOCK TIMESTEP CELL       = 2.1341e-05                               *\n"
     ]
    },
    {
     "name": "stderr",
     "output_type": "stream",
     "text": [
      "*    MEAN WALL CLOCK TIMESTEP CELL  = 7.5986e-05                               *\n"
     ]
    },
    {
     "name": "stderr",
     "output_type": "stream",
     "text": [
      "*                                                                              *\n"
     ]
    },
    {
     "name": "stderr",
     "output_type": "stream",
     "text": [
      "*------------------------------------------------------------------------------*\n"
     ]
    },
    {
     "name": "stderr",
     "output_type": "stream",
     "text": [
      "*                                                                              *\n"
     ]
    },
    {
     "name": "stderr",
     "output_type": "stream",
     "text": [
      "*    CURRENT TIME                   = 1.8996e-01                               *\n"
     ]
    },
    {
     "name": "stderr",
     "output_type": "stream",
     "text": [
      "*    CURRENT DT                     = 1.9064e-03                               *\n"
     ]
    },
    {
     "name": "stderr",
     "output_type": "stream",
     "text": [
      "*    CURRENT STEP                   =     98                                   *\n"
     ]
    },
    {
     "name": "stderr",
     "output_type": "stream",
     "text": [
      "*    WALL CLOCK TIMESTEP            = 1.9591e-03                               *\n"
     ]
    },
    {
     "name": "stderr",
     "output_type": "stream",
     "text": [
      "*    MEAN WALL CLOCK TIMESTEP       = 7.5404e-03                               *\n"
     ]
    },
    {
     "name": "stderr",
     "output_type": "stream",
     "text": [
      "*    WALL CLOCK TIMESTEP CELL       = 1.9591e-05                               *\n"
     ]
    },
    {
     "name": "stderr",
     "output_type": "stream",
     "text": [
      "*    MEAN WALL CLOCK TIMESTEP CELL  = 7.5404e-05                               *\n"
     ]
    },
    {
     "name": "stderr",
     "output_type": "stream",
     "text": [
      "*                                                                              *\n"
     ]
    },
    {
     "name": "stderr",
     "output_type": "stream",
     "text": [
      "*------------------------------------------------------------------------------*\n"
     ]
    },
    {
     "name": "stderr",
     "output_type": "stream",
     "text": [
      "*                                                                              *\n"
     ]
    },
    {
     "name": "stderr",
     "output_type": "stream",
     "text": [
      "*    CURRENT TIME                   = 1.9186e-01                               *\n"
     ]
    },
    {
     "name": "stderr",
     "output_type": "stream",
     "text": [
      "*    CURRENT DT                     = 1.9065e-03                               *\n"
     ]
    },
    {
     "name": "stderr",
     "output_type": "stream",
     "text": [
      "*    CURRENT STEP                   =     99                                   *\n"
     ]
    },
    {
     "name": "stderr",
     "output_type": "stream",
     "text": [
      "*    WALL CLOCK TIMESTEP            = 3.7395e-02                               *\n"
     ]
    },
    {
     "name": "stderr",
     "output_type": "stream",
     "text": [
      "*    MEAN WALL CLOCK TIMESTEP       = 7.8451e-03                               *\n"
     ]
    },
    {
     "name": "stderr",
     "output_type": "stream",
     "text": [
      "*    WALL CLOCK TIMESTEP CELL       = 3.7395e-04                               *\n"
     ]
    },
    {
     "name": "stderr",
     "output_type": "stream",
     "text": [
      "*    MEAN WALL CLOCK TIMESTEP CELL  = 7.8451e-05                               *\n"
     ]
    },
    {
     "name": "stderr",
     "output_type": "stream",
     "text": [
      "*                                                                              *\n"
     ]
    },
    {
     "name": "stderr",
     "output_type": "stream",
     "text": [
      "*------------------------------------------------------------------------------*\n"
     ]
    },
    {
     "name": "stderr",
     "output_type": "stream",
     "text": [
      "*                                                                              *\n"
     ]
    },
    {
     "name": "stderr",
     "output_type": "stream",
     "text": [
      "*    CURRENT TIME                   = 1.9377e-01                               *\n"
     ]
    },
    {
     "name": "stderr",
     "output_type": "stream",
     "text": [
      "*    CURRENT DT                     = 1.9066e-03                               *\n"
     ]
    },
    {
     "name": "stderr",
     "output_type": "stream",
     "text": [
      "*    CURRENT STEP                   =    100                                   *\n"
     ]
    },
    {
     "name": "stderr",
     "output_type": "stream",
     "text": [
      "*    WALL CLOCK TIMESTEP            = 2.2650e-03                               *\n"
     ]
    },
    {
     "name": "stderr",
     "output_type": "stream",
     "text": [
      "*    MEAN WALL CLOCK TIMESTEP       = 7.7887e-03                               *\n"
     ]
    },
    {
     "name": "stderr",
     "output_type": "stream",
     "text": [
      "*    WALL CLOCK TIMESTEP CELL       = 2.2650e-05                               *\n"
     ]
    },
    {
     "name": "stderr",
     "output_type": "stream",
     "text": [
      "*    MEAN WALL CLOCK TIMESTEP CELL  = 7.7887e-05                               *\n"
     ]
    },
    {
     "name": "stderr",
     "output_type": "stream",
     "text": [
      "*                                                                              *\n"
     ]
    },
    {
     "name": "stderr",
     "output_type": "stream",
     "text": [
      "*------------------------------------------------------------------------------*\n"
     ]
    },
    {
     "name": "stderr",
     "output_type": "stream",
     "text": [
      "*                                                                              *\n"
     ]
    },
    {
     "name": "stderr",
     "output_type": "stream",
     "text": [
      "*    CURRENT TIME                   = 1.9568e-01                               *\n"
     ]
    },
    {
     "name": "stderr",
     "output_type": "stream",
     "text": [
      "*    CURRENT DT                     = 1.9066e-03                               *\n"
     ]
    },
    {
     "name": "stderr",
     "output_type": "stream",
     "text": [
      "*    CURRENT STEP                   =    101                                   *\n"
     ]
    },
    {
     "name": "stderr",
     "output_type": "stream",
     "text": [
      "*    WALL CLOCK TIMESTEP            = 2.1479e-03                               *\n"
     ]
    },
    {
     "name": "stderr",
     "output_type": "stream",
     "text": [
      "*    MEAN WALL CLOCK TIMESTEP       = 7.7323e-03                               *\n"
     ]
    },
    {
     "name": "stderr",
     "output_type": "stream",
     "text": [
      "*    WALL CLOCK TIMESTEP CELL       = 2.1479e-05                               *\n"
     ]
    },
    {
     "name": "stderr",
     "output_type": "stream",
     "text": [
      "*    MEAN WALL CLOCK TIMESTEP CELL  = 7.7323e-05                               *\n"
     ]
    },
    {
     "name": "stderr",
     "output_type": "stream",
     "text": [
      "*                                                                              *\n"
     ]
    },
    {
     "name": "stderr",
     "output_type": "stream",
     "text": [
      "*------------------------------------------------------------------------------*\n"
     ]
    },
    {
     "name": "stderr",
     "output_type": "stream",
     "text": [
      "*                                                                              *\n"
     ]
    },
    {
     "name": "stderr",
     "output_type": "stream",
     "text": [
      "*    CURRENT TIME                   = 1.9758e-01                               *\n"
     ]
    },
    {
     "name": "stderr",
     "output_type": "stream",
     "text": [
      "*    CURRENT DT                     = 1.9066e-03                               *\n"
     ]
    },
    {
     "name": "stderr",
     "output_type": "stream",
     "text": [
      "*    CURRENT STEP                   =    102                                   *\n"
     ]
    },
    {
     "name": "stderr",
     "output_type": "stream",
     "text": [
      "*    WALL CLOCK TIMESTEP            = 1.9143e-03                               *\n"
     ]
    },
    {
     "name": "stderr",
     "output_type": "stream",
     "text": [
      "*    MEAN WALL CLOCK TIMESTEP       = 7.6747e-03                               *\n"
     ]
    },
    {
     "name": "stderr",
     "output_type": "stream",
     "text": [
      "*    WALL CLOCK TIMESTEP CELL       = 1.9143e-05                               *\n"
     ]
    },
    {
     "name": "stderr",
     "output_type": "stream",
     "text": [
      "*    MEAN WALL CLOCK TIMESTEP CELL  = 7.6747e-05                               *\n"
     ]
    },
    {
     "name": "stderr",
     "output_type": "stream",
     "text": [
      "*                                                                              *\n"
     ]
    },
    {
     "name": "stderr",
     "output_type": "stream",
     "text": [
      "*------------------------------------------------------------------------------*\n"
     ]
    },
    {
     "name": "stderr",
     "output_type": "stream",
     "text": [
      "*                                                                              *\n"
     ]
    },
    {
     "name": "stderr",
     "output_type": "stream",
     "text": [
      "*    CURRENT TIME                   = 1.9949e-01                               *\n"
     ]
    },
    {
     "name": "stderr",
     "output_type": "stream",
     "text": [
      "*    CURRENT DT                     = 1.9066e-03                               *\n"
     ]
    },
    {
     "name": "stderr",
     "output_type": "stream",
     "text": [
      "*    CURRENT STEP                   =    103                                   *\n"
     ]
    },
    {
     "name": "stderr",
     "output_type": "stream",
     "text": [
      "*    WALL CLOCK TIMESTEP            = 1.9970e-03                               *\n"
     ]
    },
    {
     "name": "stderr",
     "output_type": "stream",
     "text": [
      "*    MEAN WALL CLOCK TIMESTEP       = 7.6190e-03                               *\n"
     ]
    },
    {
     "name": "stderr",
     "output_type": "stream",
     "text": [
      "*    WALL CLOCK TIMESTEP CELL       = 1.9970e-05                               *\n"
     ]
    },
    {
     "name": "stderr",
     "output_type": "stream",
     "text": [
      "*    MEAN WALL CLOCK TIMESTEP CELL  = 7.6190e-05                               *\n"
     ]
    },
    {
     "name": "stderr",
     "output_type": "stream",
     "text": [
      "*                                                                              *\n"
     ]
    },
    {
     "name": "stderr",
     "output_type": "stream",
     "text": [
      "*------------------------------------------------------------------------------*\n"
     ]
    },
    {
     "name": "stderr",
     "output_type": "stream",
     "text": [
      "*                                                                              *\n"
     ]
    },
    {
     "name": "stderr",
     "output_type": "stream",
     "text": [
      "*    CURRENT TIME                   = 2.0140e-01                               *\n"
     ]
    },
    {
     "name": "stderr",
     "output_type": "stream",
     "text": [
      "*    CURRENT DT                     = 1.9067e-03                               *\n"
     ]
    },
    {
     "name": "stderr",
     "output_type": "stream",
     "text": [
      "*    CURRENT STEP                   =    104                                   *\n"
     ]
    },
    {
     "name": "stderr",
     "output_type": "stream",
     "text": [
      "*    WALL CLOCK TIMESTEP            = 3.8381e-02                               *\n"
     ]
    },
    {
     "name": "stderr",
     "output_type": "stream",
     "text": [
      "*    MEAN WALL CLOCK TIMESTEP       = 7.9177e-03                               *\n"
     ]
    },
    {
     "name": "stderr",
     "output_type": "stream",
     "text": [
      "*    WALL CLOCK TIMESTEP CELL       = 3.8381e-04                               *\n"
     ]
    },
    {
     "name": "stderr",
     "output_type": "stream",
     "text": [
      "*    MEAN WALL CLOCK TIMESTEP CELL  = 7.9177e-05                               *\n"
     ]
    },
    {
     "name": "stderr",
     "output_type": "stream",
     "text": [
      "*                                                                              *\n"
     ]
    },
    {
     "name": "stderr",
     "output_type": "stream",
     "text": [
      "*------------------------------------------------------------------------------*\n"
     ]
    },
    {
     "name": "stderr",
     "output_type": "stream",
     "text": [
      "*------------------------------------------------------------------------------*\n"
     ]
    },
    {
     "name": "stderr",
     "output_type": "stream",
     "text": [
      "*                                                                              *\n"
     ]
    },
    {
     "name": "stderr",
     "output_type": "stream",
     "text": [
      "*                       SIMULATION FINISHED SUCCESSFULLY                       *\n"
     ]
    },
    {
     "name": "stderr",
     "output_type": "stream",
     "text": [
      "*                          SIMULATION TIME 3.457e+01s                          *\n"
     ]
    },
    {
     "name": "stderr",
     "output_type": "stream",
     "text": [
      "*                                                                              *\n"
     ]
    },
    {
     "name": "stderr",
     "output_type": "stream",
     "text": [
      "*          _     _    __  __        _____  _      _   _  ___  ____   ____      *\n"
     ]
    },
    {
     "name": "stderr",
     "output_type": "stream",
     "text": [
      "*         | |   / \\   \\ \\/ /       |  ___|| |    | | | ||_ _||  _ \\ / ___|     *\n"
     ]
    },
    {
     "name": "stderr",
     "output_type": "stream",
     "text": [
      "*      _  | |  / _ \\   \\  /  _____ | |_   | |    | | | | | | | | | |\\___ \\     *\n"
     ]
    },
    {
     "name": "stderr",
     "output_type": "stream",
     "text": [
      "*     | |_| | / ___ \\  /  \\ |_____||  _|  | |___ | |_| | | | | |_| | ___) |    *\n"
     ]
    },
    {
     "name": "stderr",
     "output_type": "stream",
     "text": [
      "*      \\___/ /_/   \\_\\/_/\\_\\       |_|    |_____| \\___/ |___||____/ |____/     *\n"
     ]
    },
    {
     "name": "stderr",
     "output_type": "stream",
     "text": [
      "*                                                                              *\n"
     ]
    },
    {
     "name": "stderr",
     "output_type": "stream",
     "text": [
      "*                                                                              *\n"
     ]
    },
    {
     "name": "stderr",
     "output_type": "stream",
     "text": [
      "*------------------------------------------------------------------------------*\n"
     ]
    }
   ],
   "source": [
    "buffer_dictionary = initializer.initialization()\n",
    "sim_manager.simulate(buffer_dictionary)"
   ]
  },
  {
   "cell_type": "markdown",
   "id": "a0a0faf9",
   "metadata": {},
   "source": [
    "## Load Data\n",
    "JAX-Fluids offers post-processing tools for visualizing your simulation data. You can find them under jaxfluids.post_process."
   ]
  },
  {
   "cell_type": "code",
   "execution_count": 4,
   "id": "69ae755c",
   "metadata": {
    "execution": {
     "iopub.execute_input": "2022-11-27T21:48:42.440853Z",
     "iopub.status.busy": "2022-11-27T21:48:42.440026Z",
     "iopub.status.idle": "2022-11-27T21:48:42.522289Z",
     "shell.execute_reply": "2022-11-27T21:48:42.522875Z"
    }
   },
   "outputs": [
    {
     "name": "stdout",
     "output_type": "stream",
     "text": [
      "Loading time snapshot 0.0000e+00\n",
      "Loading time snapshot 1.1371e-02\n",
      "Loading time snapshot 2.1567e-02\n",
      "Loading time snapshot 3.1428e-02\n",
      "Loading time snapshot 4.1125e-02\n",
      "Loading time snapshot 5.0753e-02\n",
      "Loading time snapshot 6.0344e-02\n",
      "Loading time snapshot 7.1813e-02\n",
      "Loading time snapshot 8.1353e-02\n",
      "Loading time snapshot 9.0882e-02\n",
      "Loading time snapshot 1.0041e-01\n",
      "Loading time snapshot 1.1183e-01\n",
      "Loading time snapshot 1.2136e-01\n",
      "Loading time snapshot 1.3088e-01\n",
      "Loading time snapshot 1.4040e-01\n",
      "Loading time snapshot 1.5184e-01\n",
      "Loading time snapshot 1.6136e-01\n",
      "Loading time snapshot 1.7089e-01\n",
      "Loading time snapshot 1.8043e-01\n",
      "Loading time snapshot 1.9186e-01\n",
      "Loading time snapshot 2.0140e-01\n"
     ]
    }
   ],
   "source": [
    "path = sim_manager.output_writer.save_path_domain\n",
    "quantities = [\"density\", \"velocityX\", \"pressure\"]\n",
    "cell_centers, cell_sizes, times, data_dict = load_data(path, quantities)"
   ]
  },
  {
   "cell_type": "markdown",
   "id": "5ceb2c3d",
   "metadata": {},
   "source": [
    "## Visualize Data"
   ]
  },
  {
   "cell_type": "code",
   "execution_count": 5,
   "id": "b8526369",
   "metadata": {
    "execution": {
     "iopub.execute_input": "2022-11-27T21:48:42.540622Z",
     "iopub.status.busy": "2022-11-27T21:48:42.539785Z",
     "iopub.status.idle": "2022-11-27T21:48:42.985223Z",
     "shell.execute_reply": "2022-11-27T21:48:42.985891Z"
    }
   },
   "outputs": [
    {
     "data": {
      "image/png": "[encoded data removed]",
      "text/plain": [
       "<Figure size 1440x576 with 3 Axes>"
      ]
     },
     "metadata": {
      "needs_background": "light"
     },
     "output_type": "display_data"
    }
   ],
   "source": [
    "nrows_ncols = (1,3)\n",
    "create_lineplot(data_dict, cell_centers, times, nrows_ncols=nrows_ncols, interval=100, static_time=0.2)"
   ]
  },
  {
   "cell_type": "code",
   "execution_count": null,
   "id": "765a237c",
   "metadata": {},
   "outputs": [],
   "source": []
  }
 ],
 "metadata": {
  "kernelspec": {
   "display_name": "Python 3",
   "language": "python",
   "name": "python3"
  },
  "language_info": {
   "codemirror_mode": {
    "name": "ipython",
    "version": 3
   },
   "file_extension": ".py",
   "mimetype": "text/x-python",
   "name": "python",
   "nbconvert_exporter": "python",
   "pygments_lexer": "ipython3",
   "version": "3.8.10"
  },
  "vscode": {
   "interpreter": {
    "hash": "485c59b705d233c4ac786e9ff85a7372a2b8cec3ed17e7bdf468ef609ba85e8d"
   }
  }
 },
 "nbformat": 4,
 "nbformat_minor": 5
}
